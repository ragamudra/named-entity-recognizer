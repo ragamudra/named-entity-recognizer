{
 "cells": [
  {
   "cell_type": "markdown",
   "metadata": {},
   "source": [
    "# Code 4-82 to Code 4-86"
   ]
  },
  {
   "cell_type": "code",
   "execution_count": 1,
   "metadata": {},
   "outputs": [],
   "source": [
    "import pandas as pd"
   ]
  },
  {
   "cell_type": "markdown",
   "metadata": {},
   "source": [
    "We are reading the initial NER dataset here. We would need to take this through identified organizations. This will provide the set of sentences that have organizations names"
   ]
  },
  {
   "cell_type": "code",
   "execution_count": 2,
   "metadata": {},
   "outputs": [
    {
     "data": {
      "text/plain": [
       "(4396, 4514)"
      ]
     },
     "execution_count": 2,
     "metadata": {},
     "output_type": "execute_result"
    }
   ],
   "source": [
    "t1 = pd.read_csv(\"news_summary.csv\",encoding=\"latin1\")\n",
    "t1[\"imp_col\"] = t1[\"headlines\"] + \" \" + t1[\"text\"] + \" \" + t1[\"ctext\"]\n",
    "\n",
    "t2 = t1[t1.imp_col.str.len()>=10].reset_index()\n",
    "len(t2),len(t1)"
   ]
  },
  {
   "cell_type": "markdown",
   "metadata": {},
   "source": [
    "After manual tagging in \"7_Filter NERs\" we are importing the shortlisted words from \"interest_words_tag.csv\" here"
   ]
  },
  {
   "cell_type": "code",
   "execution_count": 3,
   "metadata": {},
   "outputs": [],
   "source": [
    "df_all_short_list = pd.read_csv(\"interest_words_tag.csv\",header=None)\n",
    "df_all_short_list.columns = [\"words_interest\"]\n",
    "list_short = list(df_all_short_list[\"words_interest\"].unique())\n"
   ]
  },
  {
   "cell_type": "markdown",
   "metadata": {},
   "source": [
    "Scanning t2 to the shortlisted organizations"
   ]
  },
  {
   "cell_type": "code",
   "execution_count": 4,
   "metadata": {},
   "outputs": [],
   "source": [
    "list_interest_all = []\n",
    "for i in t2[\"imp_col\"].str.lower():\n",
    "    wrd_add = ''\n",
    "    for j in list_short:\n",
    "        if(i.find(j)>=0):\n",
    "            wrd_add = j\n",
    "            break;\n",
    "    list_interest_all.append(wrd_add)"
   ]
  },
  {
   "cell_type": "code",
   "execution_count": 5,
   "metadata": {},
   "outputs": [
    {
     "data": {
      "text/plain": [
       "296"
      ]
     },
     "execution_count": 5,
     "metadata": {},
     "output_type": "execute_result"
    }
   ],
   "source": [
    "t2[\"short_list\"] = list_interest_all\n",
    "t3 = t2[t2.short_list.str.len()>=3]\n",
    "len(t3)"
   ]
  },
  {
   "cell_type": "markdown",
   "metadata": {},
   "source": [
    "t3 is the dataframe that contains \"news articles\" on shortlisted organizations"
   ]
  },
  {
   "cell_type": "code",
   "execution_count": 7,
   "metadata": {},
   "outputs": [
    {
     "data": {
      "text/plain": [
       "4396"
      ]
     },
     "execution_count": 7,
     "metadata": {},
     "output_type": "execute_result"
    }
   ],
   "source": [
    "len(t2)"
   ]
  },
  {
   "cell_type": "markdown",
   "metadata": {},
   "source": [
    "We now get the sentiment of the sentences. For a quick illustration, we will be using Vader Sentiment package but this can be done using any sentiment technique in chapter 3\n",
    "\n"
   ]
  },
  {
   "cell_type": "code",
   "execution_count": 8,
   "metadata": {},
   "outputs": [
    {
     "name": "stderr",
     "output_type": "stream",
     "text": [
      "C:\\Users\\user\\Anaconda2\\envs\\py36\\lib\\site-packages\\ipykernel_launcher.py:8: SettingWithCopyWarning: \n",
      "A value is trying to be set on a copy of a slice from a DataFrame.\n",
      "Try using .loc[row_indexer,col_indexer] = value instead\n",
      "\n",
      "See the caveats in the documentation: http://pandas.pydata.org/pandas-docs/stable/indexing.html#indexing-view-versus-copy\n",
      "  \n"
     ]
    }
   ],
   "source": [
    "from vaderSentiment.vaderSentiment import SentimentIntensityAnalyzer\n",
    "analyser = SentimentIntensityAnalyzer()\n",
    "\n",
    "def get_vader_score(sents):\n",
    "    score = analyser.polarity_scores(sents)\n",
    "    return score['compound']\n",
    "\n",
    "t3[\"score\"] = t3[\"imp_col\"].apply(get_vader_score)"
   ]
  },
  {
   "cell_type": "code",
   "execution_count": 9,
   "metadata": {},
   "outputs": [
    {
     "data": {
      "text/html": [
       "<div>\n",
       "<style scoped>\n",
       "    .dataframe tbody tr th:only-of-type {\n",
       "        vertical-align: middle;\n",
       "    }\n",
       "\n",
       "    .dataframe tbody tr th {\n",
       "        vertical-align: top;\n",
       "    }\n",
       "\n",
       "    .dataframe thead th {\n",
       "        text-align: right;\n",
       "    }\n",
       "</style>\n",
       "<table border=\"1\" class=\"dataframe\">\n",
       "  <thead>\n",
       "    <tr style=\"text-align: right;\">\n",
       "      <th></th>\n",
       "      <th>short_list</th>\n",
       "      <th>score</th>\n",
       "    </tr>\n",
       "  </thead>\n",
       "  <tbody>\n",
       "    <tr>\n",
       "      <th>0</th>\n",
       "      <td>air india</td>\n",
       "      <td>-0.123904</td>\n",
       "    </tr>\n",
       "    <tr>\n",
       "      <th>1</th>\n",
       "      <td>airtel</td>\n",
       "      <td>0.964140</td>\n",
       "    </tr>\n",
       "    <tr>\n",
       "      <th>2</th>\n",
       "      <td>bharti airtel</td>\n",
       "      <td>0.284985</td>\n",
       "    </tr>\n",
       "    <tr>\n",
       "      <th>3</th>\n",
       "      <td>cbfc</td>\n",
       "      <td>-0.197989</td>\n",
       "    </tr>\n",
       "    <tr>\n",
       "      <th>4</th>\n",
       "      <td>change.org</td>\n",
       "      <td>-0.776450</td>\n",
       "    </tr>\n",
       "    <tr>\n",
       "      <th>5</th>\n",
       "      <td>emami</td>\n",
       "      <td>0.959300</td>\n",
       "    </tr>\n",
       "    <tr>\n",
       "      <th>6</th>\n",
       "      <td>facebook</td>\n",
       "      <td>0.000423</td>\n",
       "    </tr>\n",
       "    <tr>\n",
       "      <th>7</th>\n",
       "      <td>foxx</td>\n",
       "      <td>0.029850</td>\n",
       "    </tr>\n",
       "    <tr>\n",
       "      <th>8</th>\n",
       "      <td>gandhi institute of medical</td>\n",
       "      <td>-0.092130</td>\n",
       "    </tr>\n",
       "    <tr>\n",
       "      <th>9</th>\n",
       "      <td>jet airways</td>\n",
       "      <td>-0.851844</td>\n",
       "    </tr>\n",
       "    <tr>\n",
       "      <th>10</th>\n",
       "      <td>maruti celerio</td>\n",
       "      <td>-0.998500</td>\n",
       "    </tr>\n",
       "    <tr>\n",
       "      <th>11</th>\n",
       "      <td>microsoft</td>\n",
       "      <td>0.406889</td>\n",
       "    </tr>\n",
       "    <tr>\n",
       "      <th>12</th>\n",
       "      <td>millennium school</td>\n",
       "      <td>-0.941900</td>\n",
       "    </tr>\n",
       "    <tr>\n",
       "      <th>13</th>\n",
       "      <td>patanjali research institute</td>\n",
       "      <td>0.799800</td>\n",
       "    </tr>\n",
       "    <tr>\n",
       "      <th>14</th>\n",
       "      <td>qatar airways</td>\n",
       "      <td>-0.338900</td>\n",
       "    </tr>\n",
       "    <tr>\n",
       "      <th>15</th>\n",
       "      <td>red bull</td>\n",
       "      <td>0.917275</td>\n",
       "    </tr>\n",
       "    <tr>\n",
       "      <th>16</th>\n",
       "      <td>sony xperia xz premium</td>\n",
       "      <td>0.969650</td>\n",
       "    </tr>\n",
       "    <tr>\n",
       "      <th>17</th>\n",
       "      <td>uber india</td>\n",
       "      <td>0.926200</td>\n",
       "    </tr>\n",
       "    <tr>\n",
       "      <th>18</th>\n",
       "      <td>united airlines</td>\n",
       "      <td>-0.257080</td>\n",
       "    </tr>\n",
       "  </tbody>\n",
       "</table>\n",
       "</div>"
      ],
      "text/plain": [
       "                      short_list     score\n",
       "0                      air india -0.123904\n",
       "1                         airtel  0.964140\n",
       "2                  bharti airtel  0.284985\n",
       "3                           cbfc -0.197989\n",
       "4                     change.org -0.776450\n",
       "5                          emami  0.959300\n",
       "6                       facebook  0.000423\n",
       "7                           foxx  0.029850\n",
       "8    gandhi institute of medical -0.092130\n",
       "9                    jet airways -0.851844\n",
       "10                maruti celerio -0.998500\n",
       "11                     microsoft  0.406889\n",
       "12             millennium school -0.941900\n",
       "13  patanjali research institute  0.799800\n",
       "14                 qatar airways -0.338900\n",
       "15                      red bull  0.917275\n",
       "16        sony xperia xz premium  0.969650\n",
       "17                    uber india  0.926200\n",
       "18               united airlines -0.257080"
      ]
     },
     "execution_count": 9,
     "metadata": {},
     "output_type": "execute_result"
    }
   ],
   "source": [
    "sent_agg = t3.groupby(['short_list'], as_index = False)['score'].mean()\n",
    "sent_agg"
   ]
  },
  {
   "cell_type": "markdown",
   "metadata": {},
   "source": [
    "The above table indicates the sentiment associated with each organization in the overall news corpus"
   ]
  }
 ],
 "metadata": {
  "kernelspec": {
   "display_name": "Python [conda env:Anaconda2-py36]",
   "language": "python",
   "name": "conda-env-Anaconda2-py36-py"
  },
  "language_info": {
   "codemirror_mode": {
    "name": "ipython",
    "version": 3
   },
   "file_extension": ".py",
   "mimetype": "text/x-python",
   "name": "python",
   "nbconvert_exporter": "python",
   "pygments_lexer": "ipython3",
   "version": "3.6.8"
  }
 },
 "nbformat": 4,
 "nbformat_minor": 2
}
