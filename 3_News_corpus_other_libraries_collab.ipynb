{
 "cells": [
  {
   "cell_type": "markdown",
   "metadata": {
    "colab_type": "text",
    "id": "uD-fkpIVc3Y3"
   },
   "source": [
    "# Code 4-15 to Code 4-27"
   ]
  },
  {
   "cell_type": "code",
   "execution_count": null,
   "metadata": {
    "colab": {},
    "colab_type": "code",
    "id": "h3MAiI2Hc3Y7"
   },
   "outputs": [],
   "source": [
    "## This is written in Google Colab. Reccomended to be opened in Google Colab"
   ]
  },
  {
   "cell_type": "code",
   "execution_count": null,
   "metadata": {
    "colab": {},
    "colab_type": "code",
    "id": "GQ0gunAbisj0"
   },
   "outputs": [],
   "source": [
    "import pandas as pd\n",
    "import nltk\n",
    "pd.options.display.max_colwidth = 1000"
   ]
  },
  {
   "cell_type": "code",
   "execution_count": null,
   "metadata": {
    "colab": {},
    "colab_type": "code",
    "id": "LquqhoX4c3ZQ"
   },
   "outputs": [],
   "source": [
    "## This is Google colab upload"
   ]
  },
  {
   "cell_type": "code",
   "execution_count": 4,
   "metadata": {
    "colab": {
     "base_uri": "https://localhost:8080/",
     "height": 72,
     "resources": {
      "http://localhost:8080/nbextensions/google.colab/files.js": {
       "data": "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",
       "headers": [
        [
         "content-type",
         "application/javascript"
        ]
       ],
       "ok": true,
       "status": 200,
       "status_text": ""
      }
     }
    },
    "colab_type": "code",
    "executionInfo": {
     "elapsed": 267228,
     "status": "ok",
     "timestamp": 1597809510061,
     "user": {
      "displayName": "Mathangi Sri",
      "photoUrl": "https://lh3.googleusercontent.com/a-/AOh14Gh0ldbF3y4-3F3Sow0eR6EEpQIkBrzVD03GQlAQlg=s64",
      "userId": "02610637757489513110"
     },
     "user_tz": -330
    },
    "id": "fr11e_hZiwL_",
    "outputId": "dd8783b5-47f0-4f07-f541-f121dc3a2188"
   },
   "outputs": [
    {
     "data": {
      "text/html": [
       "\n",
       "     <input type=\"file\" id=\"files-3947ecc5-72ed-4885-b51f-fe0939972844\" name=\"files[]\" multiple disabled\n",
       "        style=\"border:none\" />\n",
       "     <output id=\"result-3947ecc5-72ed-4885-b51f-fe0939972844\">\n",
       "      Upload widget is only available when the cell has been executed in the\n",
       "      current browser session. Please rerun this cell to enable.\n",
       "      </output>\n",
       "      <script src=\"/nbextensions/google.colab/files.js\"></script> "
      ],
      "text/plain": [
       "<IPython.core.display.HTML object>"
      ]
     },
     "metadata": {
      "tags": []
     },
     "output_type": "display_data"
    },
    {
     "name": "stdout",
     "output_type": "stream",
     "text": [
      "Saving news_summary.csv to news_summary (1).csv\n"
     ]
    }
   ],
   "source": [
    "from google.colab import files\n",
    "uploaded = files.upload()"
   ]
  },
  {
   "cell_type": "code",
   "execution_count": 5,
   "metadata": {
    "colab": {},
    "colab_type": "code",
    "executionInfo": {
     "elapsed": 897,
     "status": "ok",
     "timestamp": 1597809630577,
     "user": {
      "displayName": "Mathangi Sri",
      "photoUrl": "https://lh3.googleusercontent.com/a-/AOh14Gh0ldbF3y4-3F3Sow0eR6EEpQIkBrzVD03GQlAQlg=s64",
      "userId": "02610637757489513110"
     },
     "user_tz": -330
    },
    "id": "BN9Gk65Pi3ne"
   },
   "outputs": [],
   "source": [
    "import io\n",
    "import pandas as pd\n",
    "t1 = pd.read_csv(io.BytesIO(uploaded['news_summary.csv']),encoding = 'latin1')"
   ]
  },
  {
   "cell_type": "code",
   "execution_count": 6,
   "metadata": {
    "colab": {
     "base_uri": "https://localhost:8080/",
     "height": 1000
    },
    "colab_type": "code",
    "executionInfo": {
     "elapsed": 1060,
     "status": "ok",
     "timestamp": 1597809634517,
     "user": {
      "displayName": "Mathangi Sri",
      "photoUrl": "https://lh3.googleusercontent.com/a-/AOh14Gh0ldbF3y4-3F3Sow0eR6EEpQIkBrzVD03GQlAQlg=s64",
      "userId": "02610637757489513110"
     },
     "user_tz": -330
    },
    "id": "1XNzYAtQiskA",
    "outputId": "64ce818a-8152-4716-ec61-869662ebe687",
    "scrolled": true
   },
   "outputs": [
    {
     "data": {
      "text/html": [
       "<div>\n",
       "<style scoped>\n",
       "    .dataframe tbody tr th:only-of-type {\n",
       "        vertical-align: middle;\n",
       "    }\n",
       "\n",
       "    .dataframe tbody tr th {\n",
       "        vertical-align: top;\n",
       "    }\n",
       "\n",
       "    .dataframe thead th {\n",
       "        text-align: right;\n",
       "    }\n",
       "</style>\n",
       "<table border=\"1\" class=\"dataframe\">\n",
       "  <thead>\n",
       "    <tr style=\"text-align: right;\">\n",
       "      <th></th>\n",
       "      <th>author</th>\n",
       "      <th>date</th>\n",
       "      <th>headlines</th>\n",
       "      <th>read_more</th>\n",
       "      <th>text</th>\n",
       "      <th>ctext</th>\n",
       "    </tr>\n",
       "  </thead>\n",
       "  <tbody>\n",
       "    <tr>\n",
       "      <th>0</th>\n",
       "      <td>Chhavi Tyagi</td>\n",
       "      <td>03 Aug 2017,Thursday</td>\n",
       "      <td>Daman &amp; Diu revokes mandatory Rakshabandhan in offices order</td>\n",
       "      <td>http://www.hindustantimes.com/india-news/rakshabandhan-compulsory-in-daman-and-diu-women-employees-to-tie-rakhis-to-male-colleagues/story-E5h5U1ZDJii5zFpLXWRkhJ.html?utm_source=inshorts&amp;utm_medium=referral&amp;utm_campaign=fullarticle</td>\n",
       "      <td>The Administration of Union Territory Daman and Diu has revoked its order that made it compulsory for women to tie rakhis to their male colleagues on the occasion of Rakshabandhan on August 7. The administration was forced to withdraw the decision within 24 hours of issuing the circular after it received flak from employees and was slammed on social media.</td>\n",
       "      <td>The Daman and Diu administration on Wednesday withdrew a circular that asked women staff to tie rakhis on male colleagues after the order triggered a backlash from employees and was ripped apart on social media.The union territory?s administration was forced to retreat within 24 hours of issuing the circular that made it compulsory for its staff to celebrate Rakshabandhan at workplace.?It has been decided to celebrate the festival of Rakshabandhan on August 7. In this connection, all offices/ departments shall remain open and celebrate the festival collectively at a suitable time wherein all the lady staff shall tie rakhis to their colleagues,? the order, issued on August 1 by Gurpreet Singh, deputy secretary (personnel), had said.To ensure that no one skipped office, an attendance report was to be sent to the government the next evening.The two notifications ? one mandating the celebration of Rakshabandhan (left) and the other withdrawing the mandate (right) ? were issued by the D...</td>\n",
       "    </tr>\n",
       "    <tr>\n",
       "      <th>1</th>\n",
       "      <td>Daisy Mowke</td>\n",
       "      <td>03 Aug 2017,Thursday</td>\n",
       "      <td>Malaika slams user who trolled her for 'divorcing rich man'</td>\n",
       "      <td>http://www.hindustantimes.com/bollywood/malaika-arora-khan-was-trolled-for-divorcing-a-rich-man-her-reply-is-dignity-itself/story-oIPZNI9deImCmabLMMwR2H.html?utm_source=inshorts&amp;utm_medium=referral&amp;utm_campaign=fullarticle</td>\n",
       "      <td>Malaika Arora slammed an Instagram user who trolled her for \"divorcing a rich man\" and \"having fun with the alimony\". \"Her life now is all about wearing short clothes, going to gym or salon, enjoying vacation[s],\" the user commented. Malaika responded, \"You certainly got to get your damn facts right before spewing sh*t on me...when you know nothing about me.\"</td>\n",
       "      <td>From her special numbers to TV?appearances, Bollywood actor Malaika Arora Khan has managed to carve her own identity. The actor, who made her debut in the Hindi film industry with the blockbuster debut opposite Shah Rukh Khan in Chaiyya Chaiyya from Dil Se (1998), is still remembered for the song. However, for trolls, she is a woman first and what matters right now is that she divorced a ?rich man?.  On Wednesday, Malaika Arora shared a gorgeous picture of herself on Instagram and a follower decided to troll her for using her ?alumni? (read alimony) money to wear ?short clothes and going to gym or salon?. Little did he/she know that the Munni Badnam star would reply with the perfect comeback. Take a look at the interaction:     Super excited to be affiliated with Khanna Jewellers @khannajewellerskj as their brand ambassador. Crafted to perfection, their stunning statement jewellery is a must have for every jewellery lover. #khannajewellers...#maksquad?? #hair @hairbypriyanka #styli...</td>\n",
       "    </tr>\n",
       "    <tr>\n",
       "      <th>2</th>\n",
       "      <td>Arshiya Chopra</td>\n",
       "      <td>03 Aug 2017,Thursday</td>\n",
       "      <td>'Virgin' now corrected to 'Unmarried' in IGIMS' form</td>\n",
       "      <td>http://www.hindustantimes.com/patna/bihar-igims-form-loses-virginity-after-row-opts-for-unmarried-instead/story-8XmHIg39otGBoZAYEBQxMK.html?utm_source=inshorts&amp;utm_medium=referral&amp;utm_campaign=fullarticle</td>\n",
       "      <td>The Indira Gandhi Institute of Medical Sciences (IGIMS) in Patna on Thursday made corrections in its Marital Declaration Form by changing 'Virgin' option to 'Unmarried'. Earlier, Bihar Health Minister defined virgin as being an unmarried woman and did not consider the term objectionable. The institute, however, faced strong backlash for asking new recruits to declare their virginity in the form.</td>\n",
       "      <td>The Indira Gandhi Institute of Medical Sciences (IGIMS) in Patna amended its marital declaration form on Thursday, replacing the word ?virgin? with ?unmarried? after controversy.Until now, new recruits to the super-specialty medical institute in the state capital were required to declare if they were bachelors, widowers or virgins.IGIMS medical superintendent Dr Manish Mandal said institute director Dr NR Biswas held a meeting on Thursday morning before directing that the word ?virgin? on the marital declaration form be immediately replaced with ?unmarried?. Dr Biswas had just returned after a four-day leave of absence.Earlier, Bihar health minister Mangal Pandey had ended up redefining the very meaning of virginity in his attempts to justify the awkward phrasing of the question in the form. Following a public furore over the document on Wednesday, the minister told news channels that there was nothing wrong with using the word ?virgin? because it simply meant ?kanya? or ?kunwari? ...</td>\n",
       "    </tr>\n",
       "    <tr>\n",
       "      <th>3</th>\n",
       "      <td>Sumedha Sehra</td>\n",
       "      <td>03 Aug 2017,Thursday</td>\n",
       "      <td>Aaj aapne pakad liya: LeT man Dujana before being killed</td>\n",
       "      <td>http://indiatoday.intoday.in/story/abu-dujana-last-phone-call-lashkar-e-taiba-jammu-and-kashmir/1/1017550.html?utm_source=inshorts&amp;utm_medium=referral&amp;utm_campaign=fullarticle</td>\n",
       "      <td>Lashkar-e-Taiba's Kashmir commander Abu Dujana, who was killed by security forces, said \"Kabhi hum aage, kabhi aap, aaj aapne pakad liya, mubarak ho aapko (Today you caught me. Congratulations)\" after being caught. He added that he won't surrender, and whatever is in his fate will happen to him. \"Hum nikley they shaheed hone (had left home for martyrdom),\" he added.</td>\n",
       "      <td>Lashkar-e-Taiba's Kashmir commander Abu Dujana was killed in an encounter in a village in Pulwama district of Jammu and Kashmir earlier this week. Dujana, who had managed to give the security forces a slip several times in the past, carried a bounty of Rs 15 lakh on his head.Reports say that Dujana had come to meet his wife when he was trapped inside a house in Hakripora village. Security officials involved in the encounter tried their best to convince Dujana to surrender but he refused, reports say.According to reports, Dujana rejected call for surrender from an Army officer. The Army had commissioned a local to start a telephonic conversation with Dujana. After initiating the talk, the local villager handed over the phone to the army officer.\"Kya haal hai? Maine kaha, kya haal hai (How are you. I asked, how are you)?\" Dujana is heard asking the officer. The officer replies: \"Humara haal chhor Dujana. Surrender kyun nahi kar deta. Tu galat kar rha hai (Why don't you surrender? You...</td>\n",
       "    </tr>\n",
       "    <tr>\n",
       "      <th>4</th>\n",
       "      <td>Aarushi Maheshwari</td>\n",
       "      <td>03 Aug 2017,Thursday</td>\n",
       "      <td>Hotel staff to get training to spot signs of sex trafficking</td>\n",
       "      <td>http://indiatoday.intoday.in/story/sex-trafficking-mumbai-rescue-me-maharashtra-international-labour-organization-forced-labour-trafficking-traning-hotel-staff/1/1017210.html?utm_source=inshorts&amp;utm_medium=referral&amp;utm_campaign=fullarticle</td>\n",
       "      <td>Hotels in Maharashtra will train their staff to spot signs of sex trafficking, including frequent requests for bed linen changes and 'Do not disturb' signs left on room doors for days. A mobile phone app called Rescue Me, which will allow staff to alert police of suspicious behaviour, will be developed. The initiative has been backed by the Maharashtra government.</td>\n",
       "      <td>Hotels in Mumbai and other Indian cities are to train their staff to spot signs of sex trafficking such as frequent requests for bed linen changes or a \"Do not disturb\" sign left on the door for days on end. The group behind the initiative is also developing a mobile phone app - Rescue Me - which hotel staff can use to alert local police and senior anti-trafficking officers if they see suspicious behavior. \"Hotels are breeding grounds for human trade,\" said Sanee Awsarmmel, chairman of the alumni group of Maharashtra State Institute of Hotel Management and Catering Technology. \"(We) have hospitality professionals working in hotels across the country. We are committed to this cause.\"The initiative, spearheaded by the alumni group and backed by the Maharashtra state government, comes amid growing international recognition that hotels have a key role to play in fighting modern day slavery. MAHARASHTRA MAJOR DESTINATION FOR TRAFFICKED GIRLS Maharashtra, of which Mumbai is the capital, ...</td>\n",
       "    </tr>\n",
       "  </tbody>\n",
       "</table>\n",
       "</div>"
      ],
      "text/plain": [
       "               author  ...                                                                                                                                                                                                                                                                                                                                                                                                                                                                                                                                                                                                                                                                                                                                                                                                                                                                                                                                                                                                                                    ctext\n",
       "0        Chhavi Tyagi  ...  The Daman and Diu administration on Wednesday withdrew a circular that asked women staff to tie rakhis on male colleagues after the order triggered a backlash from employees and was ripped apart on social media.The union territory?s administration was forced to retreat within 24 hours of issuing the circular that made it compulsory for its staff to celebrate Rakshabandhan at workplace.?It has been decided to celebrate the festival of Rakshabandhan on August 7. In this connection, all offices/ departments shall remain open and celebrate the festival collectively at a suitable time wherein all the lady staff shall tie rakhis to their colleagues,? the order, issued on August 1 by Gurpreet Singh, deputy secretary (personnel), had said.To ensure that no one skipped office, an attendance report was to be sent to the government the next evening.The two notifications ? one mandating the celebration of Rakshabandhan (left) and the other withdrawing the mandate (right) ? were issued by the D...\n",
       "1         Daisy Mowke  ...  From her special numbers to TV?appearances, Bollywood actor Malaika Arora Khan has managed to carve her own identity. The actor, who made her debut in the Hindi film industry with the blockbuster debut opposite Shah Rukh Khan in Chaiyya Chaiyya from Dil Se (1998), is still remembered for the song. However, for trolls, she is a woman first and what matters right now is that she divorced a ?rich man?.  On Wednesday, Malaika Arora shared a gorgeous picture of herself on Instagram and a follower decided to troll her for using her ?alumni? (read alimony) money to wear ?short clothes and going to gym or salon?. Little did he/she know that the Munni Badnam star would reply with the perfect comeback. Take a look at the interaction:     Super excited to be affiliated with Khanna Jewellers @khannajewellerskj as their brand ambassador. Crafted to perfection, their stunning statement jewellery is a must have for every jewellery lover. #khannajewellers...#maksquad?? #hair @hairbypriyanka #styli...\n",
       "2      Arshiya Chopra  ...  The Indira Gandhi Institute of Medical Sciences (IGIMS) in Patna amended its marital declaration form on Thursday, replacing the word ?virgin? with ?unmarried? after controversy.Until now, new recruits to the super-specialty medical institute in the state capital were required to declare if they were bachelors, widowers or virgins.IGIMS medical superintendent Dr Manish Mandal said institute director Dr NR Biswas held a meeting on Thursday morning before directing that the word ?virgin? on the marital declaration form be immediately replaced with ?unmarried?. Dr Biswas had just returned after a four-day leave of absence.Earlier, Bihar health minister Mangal Pandey had ended up redefining the very meaning of virginity in his attempts to justify the awkward phrasing of the question in the form. Following a public furore over the document on Wednesday, the minister told news channels that there was nothing wrong with using the word ?virgin? because it simply meant ?kanya? or ?kunwari? ...\n",
       "3       Sumedha Sehra  ...  Lashkar-e-Taiba's Kashmir commander Abu Dujana was killed in an encounter in a village in Pulwama district of Jammu and Kashmir earlier this week. Dujana, who had managed to give the security forces a slip several times in the past, carried a bounty of Rs 15 lakh on his head.Reports say that Dujana had come to meet his wife when he was trapped inside a house in Hakripora village. Security officials involved in the encounter tried their best to convince Dujana to surrender but he refused, reports say.According to reports, Dujana rejected call for surrender from an Army officer. The Army had commissioned a local to start a telephonic conversation with Dujana. After initiating the talk, the local villager handed over the phone to the army officer.\"Kya haal hai? Maine kaha, kya haal hai (How are you. I asked, how are you)?\" Dujana is heard asking the officer. The officer replies: \"Humara haal chhor Dujana. Surrender kyun nahi kar deta. Tu galat kar rha hai (Why don't you surrender? You...\n",
       "4  Aarushi Maheshwari  ...  Hotels in Mumbai and other Indian cities are to train their staff to spot signs of sex trafficking such as frequent requests for bed linen changes or a \"Do not disturb\" sign left on the door for days on end. The group behind the initiative is also developing a mobile phone app - Rescue Me - which hotel staff can use to alert local police and senior anti-trafficking officers if they see suspicious behavior. \"Hotels are breeding grounds for human trade,\" said Sanee Awsarmmel, chairman of the alumni group of Maharashtra State Institute of Hotel Management and Catering Technology. \"(We) have hospitality professionals working in hotels across the country. We are committed to this cause.\"The initiative, spearheaded by the alumni group and backed by the Maharashtra state government, comes amid growing international recognition that hotels have a key role to play in fighting modern day slavery. MAHARASHTRA MAJOR DESTINATION FOR TRAFFICKED GIRLS Maharashtra, of which Mumbai is the capital, ...\n",
       "\n",
       "[5 rows x 6 columns]"
      ]
     },
     "execution_count": 6,
     "metadata": {
      "tags": []
     },
     "output_type": "execute_result"
    }
   ],
   "source": [
    "\n",
    "t1.head()"
   ]
  },
  {
   "cell_type": "markdown",
   "metadata": {
    "colab_type": "text",
    "id": "EvOnmSlHc3Z5"
   },
   "source": [
    "We convert our “headlines” column into a list of lists. It would be better to take the “ctext” as it contains a huge corpus of words. I have used the “headlines” column for an example "
   ]
  },
  {
   "cell_type": "code",
   "execution_count": 7,
   "metadata": {
    "colab": {},
    "colab_type": "code",
    "executionInfo": {
     "elapsed": 1044,
     "status": "ok",
     "timestamp": 1597809639721,
     "user": {
      "displayName": "Mathangi Sri",
      "photoUrl": "https://lh3.googleusercontent.com/a-/AOh14Gh0ldbF3y4-3F3Sow0eR6EEpQIkBrzVD03GQlAQlg=s64",
      "userId": "02610637757489513110"
     },
     "user_tz": -330
    },
    "id": "gIjcW4JRislA"
   },
   "outputs": [],
   "source": [
    "t1[\"h1_stop\"] = t1[\"headlines\"].str.lower()"
   ]
  },
  {
   "cell_type": "markdown",
   "metadata": {
    "colab_type": "text",
    "id": "9XLat19bc3aC"
   },
   "source": [
    "Lets stem the words befor we build word vectors.\n",
    "Stemming is a process to bring back the words to their root forms and hence similar words could be normalized.  "
   ]
  },
  {
   "cell_type": "code",
   "execution_count": 8,
   "metadata": {
    "colab": {
     "base_uri": "https://localhost:8080/",
     "height": 34
    },
    "colab_type": "code",
    "executionInfo": {
     "elapsed": 1794,
     "status": "ok",
     "timestamp": 1597809641407,
     "user": {
      "displayName": "Mathangi Sri",
      "photoUrl": "https://lh3.googleusercontent.com/a-/AOh14Gh0ldbF3y4-3F3Sow0eR6EEpQIkBrzVD03GQlAQlg=s64",
      "userId": "02610637757489513110"
     },
     "user_tz": -330
    },
    "id": "O1kjMYhPislD",
    "outputId": "29827120-599c-49e1-8d47-c34e2bd4d86b"
   },
   "outputs": [
    {
     "data": {
      "text/plain": [
       "['he wa dine', 'we dine yesterdai']"
      ]
     },
     "execution_count": 8,
     "metadata": {
      "tags": []
     },
     "output_type": "execute_result"
    }
   ],
   "source": [
    "from gensim.parsing.porter import PorterStemmer\n",
    "p = PorterStemmer()\n",
    "p.stem_documents([\"He was dining\", \"We dined yesterday\"])\n"
   ]
  },
  {
   "cell_type": "code",
   "execution_count": 9,
   "metadata": {
    "colab": {
     "base_uri": "https://localhost:8080/",
     "height": 190
    },
    "colab_type": "code",
    "executionInfo": {
     "elapsed": 7685,
     "status": "ok",
     "timestamp": 1597809648380,
     "user": {
      "displayName": "Mathangi Sri",
      "photoUrl": "https://lh3.googleusercontent.com/a-/AOh14Gh0ldbF3y4-3F3Sow0eR6EEpQIkBrzVD03GQlAQlg=s64",
      "userId": "02610637757489513110"
     },
     "user_tz": -330
    },
    "id": "P73bUnYAkdFY",
    "outputId": "a45756b1-86d0-4383-a285-f764988e5112"
   },
   "outputs": [
    {
     "name": "stdout",
     "output_type": "stream",
     "text": [
      "Collecting stop_words\n",
      "  Downloading https://files.pythonhosted.org/packages/1c/cb/d58290804b7a4c5daa42abbbe2a93c477ae53e45541b1825e86f0dfaaf63/stop-words-2018.7.23.tar.gz\n",
      "Building wheels for collected packages: stop-words\n",
      "  Building wheel for stop-words (setup.py) ... \u001b[?25l\u001b[?25hdone\n",
      "  Created wheel for stop-words: filename=stop_words-2018.7.23-cp36-none-any.whl size=32917 sha256=8c19aba134d118abf8e30184a480b5c268a0354cde17abca417f8ebfd3dbae38\n",
      "  Stored in directory: /root/.cache/pip/wheels/75/37/6a/2b295e03bd07290f0da95c3adb9a74ba95fbc333aa8b0c7c78\n",
      "Successfully built stop-words\n",
      "Installing collected packages: stop-words\n",
      "Successfully installed stop-words-2018.7.23\n"
     ]
    }
   ],
   "source": [
    "!pip install stop_words"
   ]
  },
  {
   "cell_type": "markdown",
   "metadata": {
    "colab_type": "text",
    "id": "M52GqTKEc3aM"
   },
   "source": [
    "Applying Stop Words and Stemming"
   ]
  },
  {
   "cell_type": "code",
   "execution_count": 10,
   "metadata": {
    "colab": {
     "base_uri": "https://localhost:8080/",
     "height": 459
    },
    "colab_type": "code",
    "executionInfo": {
     "elapsed": 4549,
     "status": "ok",
     "timestamp": 1597809650366,
     "user": {
      "displayName": "Mathangi Sri",
      "photoUrl": "https://lh3.googleusercontent.com/a-/AOh14Gh0ldbF3y4-3F3Sow0eR6EEpQIkBrzVD03GQlAQlg=s64",
      "userId": "02610637757489513110"
     },
     "user_tz": -330
    },
    "id": "_XcDwkWxislG",
    "outputId": "de56dd3a-f53f-4f26-b627-9b53bc5ce4a4"
   },
   "outputs": [
    {
     "data": {
      "text/plain": [
       "[['daman',\n",
       "  '&',\n",
       "  'diu',\n",
       "  'revok',\n",
       "  'mandatori',\n",
       "  'rakshabandhan',\n",
       "  'offic',\n",
       "  'order'],\n",
       " ['malaika', 'slam', 'user', 'troll', \"'divorc\", 'rich', \"man'\"],\n",
       " [\"'virgin'\", 'now', 'correct', \"'unmarried'\", \"igims'\", 'form'],\n",
       " ['aaj', 'aapn', 'pakad', 'liya:', 'let', 'man', 'dujana', 'kill'],\n",
       " ['hotel', 'staff', 'get', 'train', 'spot', 'sign', 'sex', 'traffick'],\n",
       " ['man',\n",
       "  'found',\n",
       "  'dead',\n",
       "  'delhi',\n",
       "  'polic',\n",
       "  'station,',\n",
       "  'kin',\n",
       "  'alleg',\n",
       "  'foul',\n",
       "  'plai'],\n",
       " ['delhi', 'hc', 'reduc', 'aid', \"'negligent'\", 'accid', 'victim', '45%'],\n",
       " ['60-yr-old', 'lynch', 'rumour', 'cut', \"people'\", 'hair'],\n",
       " ['chopper', 'fly', 'critic', 'low', 'led', '2015', 'bombai', 'high', 'crash'],\n",
       " ['congress', 'open', \"'state\", 'bank', \"tomato'\", 'lucknow']]"
      ]
     },
     "execution_count": 10,
     "metadata": {
      "tags": []
     },
     "output_type": "execute_result"
    }
   ],
   "source": [
    "import stop_words\n",
    "eng_words = stop_words.get_stop_words('en')\n",
    "\n",
    "for i in eng_words:\n",
    "    if(len(i)>1):\n",
    "        wrd_repl = r\"\\b\" + i + r\"\\b\"\n",
    "        \n",
    "        t1[\"h1_stop\"] = t1[\"h1_stop\"].str.replace(wrd_repl,\"\")\n",
    "t1[\"h2_stop\"] = pd.Series(p.stem_documents(t1[\"h1_stop\"]))\n",
    "    \n",
    "sentences = list(t1[\"h2_stop\"].str.split())\n",
    "sentences[0:10]"
   ]
  },
  {
   "cell_type": "markdown",
   "metadata": {
    "colab_type": "text",
    "id": "sBf2XXMNc3aT"
   },
   "source": [
    "We are now building the word2vec gensim model. The “size” option is the number of dimensions we want the word to be represented in. min_count is the minimum number of documents the word should be in. The “iter” option is the number of “epochs” of the neural network"
   ]
  },
  {
   "cell_type": "code",
   "execution_count": 12,
   "metadata": {
    "colab": {},
    "colab_type": "code",
    "executionInfo": {
     "elapsed": 1040,
     "status": "ok",
     "timestamp": 1597809669676,
     "user": {
      "displayName": "Mathangi Sri",
      "photoUrl": "https://lh3.googleusercontent.com/a-/AOh14Gh0ldbF3y4-3F3Sow0eR6EEpQIkBrzVD03GQlAQlg=s64",
      "userId": "02610637757489513110"
     },
     "user_tz": -330
    },
    "id": "mXnmZdfeislJ"
   },
   "outputs": [],
   "source": [
    "import gensim\n",
    "model = gensim.models.Word2Vec(iter=10,min_count=10,size=200) \n",
    "model.build_vocab(sentences) \n",
    "token_count = sum([len(sentence) for sentence in sentences])"
   ]
  },
  {
   "cell_type": "code",
   "execution_count": 13,
   "metadata": {
    "colab": {
     "base_uri": "https://localhost:8080/",
     "height": 88
    },
    "colab_type": "code",
    "executionInfo": {
     "elapsed": 1127,
     "status": "ok",
     "timestamp": 1597809670970,
     "user": {
      "displayName": "Mathangi Sri",
      "photoUrl": "https://lh3.googleusercontent.com/a-/AOh14Gh0ldbF3y4-3F3Sow0eR6EEpQIkBrzVD03GQlAQlg=s64",
      "userId": "02610637757489513110"
     },
     "user_tz": -330
    },
    "id": "_H6yDK5xislN",
    "outputId": "3fdfa143-1d46-43ac-e30b-3645391c993c"
   },
   "outputs": [
    {
     "name": "stderr",
     "output_type": "stream",
     "text": [
      "/usr/local/lib/python3.6/dist-packages/ipykernel_launcher.py:1: DeprecationWarning: Call to deprecated `iter` (Attribute will be removed in 4.0.0, use self.epochs instead).\n",
      "  \"\"\"Entry point for launching an IPython kernel.\n"
     ]
    },
    {
     "data": {
      "text/plain": [
       "(149396, 329250)"
      ]
     },
     "execution_count": 13,
     "metadata": {
      "tags": []
     },
     "output_type": "execute_result"
    }
   ],
   "source": [
    "model.train(sentences,total_examples = token_count,epochs = model.iter)"
   ]
  },
  {
   "cell_type": "markdown",
   "metadata": {
    "colab_type": "text",
    "id": "u3QBlFnSc3ah"
   },
   "source": [
    "Set of word vectors generated"
   ]
  },
  {
   "cell_type": "code",
   "execution_count": 14,
   "metadata": {
    "colab": {
     "base_uri": "https://localhost:8080/",
     "height": 1000
    },
    "colab_type": "code",
    "executionInfo": {
     "elapsed": 1025,
     "status": "ok",
     "timestamp": 1597809677319,
     "user": {
      "displayName": "Mathangi Sri",
      "photoUrl": "https://lh3.googleusercontent.com/a-/AOh14Gh0ldbF3y4-3F3Sow0eR6EEpQIkBrzVD03GQlAQlg=s64",
      "userId": "02610637757489513110"
     },
     "user_tz": -330
    },
    "id": "MC-LOnxwislQ",
    "outputId": "723ac3c5-00ef-43fd-c18a-19f9ede05e00"
   },
   "outputs": [
    {
     "data": {
      "text/plain": [
       "{\"'\": <gensim.models.keyedvectors.Vocab at 0x7ff5e1f4a780>,\n",
       " \"'s\": <gensim.models.keyedvectors.Vocab at 0x7ff5e1f57b38>,\n",
       " ',': <gensim.models.keyedvectors.Vocab at 0x7ff5e1f514e0>,\n",
       " '1': <gensim.models.keyedvectors.Vocab at 0x7ff5e1f43390>,\n",
       " '10': <gensim.models.keyedvectors.Vocab at 0x7ff5e1f53518>,\n",
       " '100': <gensim.models.keyedvectors.Vocab at 0x7ff5e1ed97f0>,\n",
       " '12': <gensim.models.keyedvectors.Vocab at 0x7ff5e1edd2b0>,\n",
       " '15': <gensim.models.keyedvectors.Vocab at 0x7ff5e1f57940>,\n",
       " '16': <gensim.models.keyedvectors.Vocab at 0x7ff5e1ed9390>,\n",
       " '1st': <gensim.models.keyedvectors.Vocab at 0x7ff5e1eddcc0>,\n",
       " '2': <gensim.models.keyedvectors.Vocab at 0x7ff5e1edd2e8>,\n",
       " '20': <gensim.models.keyedvectors.Vocab at 0x7ff5e1f51b00>,\n",
       " '2016': <gensim.models.keyedvectors.Vocab at 0x7ff5e1ed9a58>,\n",
       " '2017': <gensim.models.keyedvectors.Vocab at 0x7ff5e1f431d0>,\n",
       " '3': <gensim.models.keyedvectors.Vocab at 0x7ff5e1f53390>,\n",
       " '30': <gensim.models.keyedvectors.Vocab at 0x7ff5e1edd400>,\n",
       " '4': <gensim.models.keyedvectors.Vocab at 0x7ff5e1edd588>,\n",
       " '5': <gensim.models.keyedvectors.Vocab at 0x7ff5e1f4d198>,\n",
       " '6': <gensim.models.keyedvectors.Vocab at 0x7ff5e1f53128>,\n",
       " '7': <gensim.models.keyedvectors.Vocab at 0x7ff5e1f4ac50>,\n",
       " '8': <gensim.models.keyedvectors.Vocab at 0x7ff5e1f43fd0>,\n",
       " '9': <gensim.models.keyedvectors.Vocab at 0x7ff5e1f43160>,\n",
       " ':': <gensim.models.keyedvectors.Vocab at 0x7ff5e1edd940>,\n",
       " '?1': <gensim.models.keyedvectors.Vocab at 0x7ff5e1f43cf8>,\n",
       " '?100': <gensim.models.keyedvectors.Vocab at 0x7ff5e1f53d68>,\n",
       " 'a': <gensim.models.keyedvectors.Vocab at 0x7ff5e1eddef0>,\n",
       " 'aadhaar': <gensim.models.keyedvectors.Vocab at 0x7ff5e1f432b0>,\n",
       " 'aamir': <gensim.models.keyedvectors.Vocab at 0x7ff5e1ed9a20>,\n",
       " 'aap': <gensim.models.keyedvectors.Vocab at 0x7ff5e1f53710>,\n",
       " 'abduct': <gensim.models.keyedvectors.Vocab at 0x7ff5e1f4dfd0>,\n",
       " 'abus': <gensim.models.keyedvectors.Vocab at 0x7ff5e1edda90>,\n",
       " 'accept': <gensim.models.keyedvectors.Vocab at 0x7ff5e1ed9ba8>,\n",
       " 'accid': <gensim.models.keyedvectors.Vocab at 0x7ff5e28aa4e0>,\n",
       " 'account': <gensim.models.keyedvectors.Vocab at 0x7ff5e1f4aa20>,\n",
       " 'accus': <gensim.models.keyedvectors.Vocab at 0x7ff5e1f570f0>,\n",
       " 'act': <gensim.models.keyedvectors.Vocab at 0x7ff5e1f43ef0>,\n",
       " 'action': <gensim.models.keyedvectors.Vocab at 0x7ff5e1f53c50>,\n",
       " 'actor': <gensim.models.keyedvectors.Vocab at 0x7ff5e1edd390>,\n",
       " 'actress': <gensim.models.keyedvectors.Vocab at 0x7ff5e1f57f28>,\n",
       " 'ad': <gensim.models.keyedvectors.Vocab at 0x7ff5e1ed9b00>,\n",
       " 'adityanath': <gensim.models.keyedvectors.Vocab at 0x7ff5e1ed9cc0>,\n",
       " 'aid': <gensim.models.keyedvectors.Vocab at 0x7ff5e28aa518>,\n",
       " 'air': <gensim.models.keyedvectors.Vocab at 0x7ff5e1f57278>,\n",
       " 'airlin': <gensim.models.keyedvectors.Vocab at 0x7ff5e1f51cc0>,\n",
       " 'airport': <gensim.models.keyedvectors.Vocab at 0x7ff5e1edd978>,\n",
       " 'akhilesh': <gensim.models.keyedvectors.Vocab at 0x7ff5e1f4d2b0>,\n",
       " 'akshai': <gensim.models.keyedvectors.Vocab at 0x7ff5e1f53780>,\n",
       " 'alleg': <gensim.models.keyedvectors.Vocab at 0x7ff5e28aa550>,\n",
       " 'allow': <gensim.models.keyedvectors.Vocab at 0x7ff5e1f51e80>,\n",
       " 'amarnath': <gensim.models.keyedvectors.Vocab at 0x7ff5e1edd0f0>,\n",
       " 'amid': <gensim.models.keyedvectors.Vocab at 0x7ff5e1f435c0>,\n",
       " 'amit': <gensim.models.keyedvectors.Vocab at 0x7ff5e1f53470>,\n",
       " 'among': <gensim.models.keyedvectors.Vocab at 0x7ff5e1f4d358>,\n",
       " 'anil': <gensim.models.keyedvectors.Vocab at 0x7ff5e1f4a400>,\n",
       " 'announc': <gensim.models.keyedvectors.Vocab at 0x7ff5e1f43278>,\n",
       " 'apologis': <gensim.models.keyedvectors.Vocab at 0x7ff5e1f57208>,\n",
       " 'app': <gensim.models.keyedvectors.Vocab at 0x7ff5e1f4def0>,\n",
       " 'appear': <gensim.models.keyedvectors.Vocab at 0x7ff5e1ed9828>,\n",
       " 'appoint': <gensim.models.keyedvectors.Vocab at 0x7ff5e1f53550>,\n",
       " 'approv': <gensim.models.keyedvectors.Vocab at 0x7ff5e1f4aeb8>,\n",
       " 'arm': <gensim.models.keyedvectors.Vocab at 0x7ff5e1f55400>,\n",
       " 'armi': <gensim.models.keyedvectors.Vocab at 0x7ff5e1f531d0>,\n",
       " 'arrest': <gensim.models.keyedvectors.Vocab at 0x7ff5e1edd6a0>,\n",
       " 'ask': <gensim.models.keyedvectors.Vocab at 0x7ff5e1edd1d0>,\n",
       " 'assam': <gensim.models.keyedvectors.Vocab at 0x7ff5e1f53e48>,\n",
       " 'assault': <gensim.models.keyedvectors.Vocab at 0x7ff5e1f57e48>,\n",
       " 'assembl': <gensim.models.keyedvectors.Vocab at 0x7ff5e1f4d470>,\n",
       " 'athlet': <gensim.models.keyedvectors.Vocab at 0x7ff5e1eddac8>,\n",
       " 'attack': <gensim.models.keyedvectors.Vocab at 0x7ff5e1edd0b8>,\n",
       " 'attend': <gensim.models.keyedvectors.Vocab at 0x7ff5e1ed9be0>,\n",
       " 'au': <gensim.models.keyedvectors.Vocab at 0x7ff5e1f4d6a0>,\n",
       " 'auction': <gensim.models.keyedvectors.Vocab at 0x7ff5e1f4ac88>,\n",
       " 'australia': <gensim.models.keyedvectors.Vocab at 0x7ff5e1f4a710>,\n",
       " 'awai': <gensim.models.keyedvectors.Vocab at 0x7ff5e1f55278>,\n",
       " 'award': <gensim.models.keyedvectors.Vocab at 0x7ff5e1ed9668>,\n",
       " 'baahubali': <gensim.models.keyedvectors.Vocab at 0x7ff5e1f438d0>,\n",
       " 'babi': <gensim.models.keyedvectors.Vocab at 0x7ff5e1edd860>,\n",
       " 'back': <gensim.models.keyedvectors.Vocab at 0x7ff5e1f4a080>,\n",
       " 'bad': <gensim.models.keyedvectors.Vocab at 0x7ff5e1f57be0>,\n",
       " 'bag': <gensim.models.keyedvectors.Vocab at 0x7ff5e1f4a4e0>,\n",
       " 'bail': <gensim.models.keyedvectors.Vocab at 0x7ff5e1f55a20>,\n",
       " 'ban': <gensim.models.keyedvectors.Vocab at 0x7ff5e1f574e0>,\n",
       " 'bank': <gensim.models.keyedvectors.Vocab at 0x7ff5e28aa0f0>,\n",
       " 'bar': <gensim.models.keyedvectors.Vocab at 0x7ff5e1f55d68>,\n",
       " 'bcci': <gensim.models.keyedvectors.Vocab at 0x7ff5e1f4d860>,\n",
       " 'beat': <gensim.models.keyedvectors.Vocab at 0x7ff5e1f43c18>,\n",
       " 'becom': <gensim.models.keyedvectors.Vocab at 0x7ff5e1f4dcf8>,\n",
       " 'begin': <gensim.models.keyedvectors.Vocab at 0x7ff5e1ed9208>,\n",
       " 'bengaluru': <gensim.models.keyedvectors.Vocab at 0x7ff5e1f51e48>,\n",
       " 'best': <gensim.models.keyedvectors.Vocab at 0x7ff5e1f4a470>,\n",
       " 'big': <gensim.models.keyedvectors.Vocab at 0x7ff5e1f57828>,\n",
       " 'bigger': <gensim.models.keyedvectors.Vocab at 0x7ff5e1ed9048>,\n",
       " 'biggest': <gensim.models.keyedvectors.Vocab at 0x7ff5e1f430b8>,\n",
       " 'bihar': <gensim.models.keyedvectors.Vocab at 0x7ff5e1f57ef0>,\n",
       " 'bill': <gensim.models.keyedvectors.Vocab at 0x7ff5e1f55048>,\n",
       " 'biopic': <gensim.models.keyedvectors.Vocab at 0x7ff5e1f4de10>,\n",
       " 'bjp': <gensim.models.keyedvectors.Vocab at 0x7ff5e1f53438>,\n",
       " 'black': <gensim.models.keyedvectors.Vocab at 0x7ff5e1f55438>,\n",
       " 'blast': <gensim.models.keyedvectors.Vocab at 0x7ff5e1f43978>,\n",
       " 'block': <gensim.models.keyedvectors.Vocab at 0x7ff5e1edd4a8>,\n",
       " 'bmc': <gensim.models.keyedvectors.Vocab at 0x7ff5e1f43748>,\n",
       " 'board': <gensim.models.keyedvectors.Vocab at 0x7ff5e1f554e0>,\n",
       " 'bodi': <gensim.models.keyedvectors.Vocab at 0x7ff5e1edd128>,\n",
       " 'boi': <gensim.models.keyedvectors.Vocab at 0x7ff5e28aa278>,\n",
       " 'bomb': <gensim.models.keyedvectors.Vocab at 0x7ff5e1edd9b0>,\n",
       " 'bombai': <gensim.models.keyedvectors.Vocab at 0x7ff5e28aa358>,\n",
       " 'book': <gensim.models.keyedvectors.Vocab at 0x7ff5e1f57320>,\n",
       " 'border': <gensim.models.keyedvectors.Vocab at 0x7ff5e1f53358>,\n",
       " 'bowl': <gensim.models.keyedvectors.Vocab at 0x7ff5e1f4ab38>,\n",
       " 'break': <gensim.models.keyedvectors.Vocab at 0x7ff5e1f51550>,\n",
       " 'bsf': <gensim.models.keyedvectors.Vocab at 0x7ff5e1ed9320>,\n",
       " 'bu': <gensim.models.keyedvectors.Vocab at 0x7ff5e1edd908>,\n",
       " 'bui': <gensim.models.keyedvectors.Vocab at 0x7ff5e1f4a908>,\n",
       " 'build': <gensim.models.keyedvectors.Vocab at 0x7ff5e28959b0>,\n",
       " 'call': <gensim.models.keyedvectors.Vocab at 0x7ff5e28aa2b0>,\n",
       " 'campaign': <gensim.models.keyedvectors.Vocab at 0x7ff5e1f57080>,\n",
       " 'can': <gensim.models.keyedvectors.Vocab at 0x7ff5e1f4d7f0>,\n",
       " 'cancel': <gensim.models.keyedvectors.Vocab at 0x7ff5e1f55d30>,\n",
       " 'candid': <gensim.models.keyedvectors.Vocab at 0x7ff5e1ed96a0>,\n",
       " 'captain': <gensim.models.keyedvectors.Vocab at 0x7ff5e1f4a240>,\n",
       " 'car': <gensim.models.keyedvectors.Vocab at 0x7ff5e1f4d240>,\n",
       " 'card': <gensim.models.keyedvectors.Vocab at 0x7ff5e1f439b0>,\n",
       " 'carri': <gensim.models.keyedvectors.Vocab at 0x7ff5e1f53588>,\n",
       " 'case': <gensim.models.keyedvectors.Vocab at 0x7ff5e1f57978>,\n",
       " 'cash': <gensim.models.keyedvectors.Vocab at 0x7ff5e1f4dd30>,\n",
       " 'cast': <gensim.models.keyedvectors.Vocab at 0x7ff5e1f53ac8>,\n",
       " 'caught': <gensim.models.keyedvectors.Vocab at 0x7ff5e1f57e80>,\n",
       " 'cbi': <gensim.models.keyedvectors.Vocab at 0x7ff5e1f43e10>,\n",
       " 'celebr': <gensim.models.keyedvectors.Vocab at 0x7ff5e1f43518>,\n",
       " 'censor': <gensim.models.keyedvectors.Vocab at 0x7ff5e1f576d8>,\n",
       " 'centr': <gensim.models.keyedvectors.Vocab at 0x7ff5e1f535f8>,\n",
       " 'ceo': <gensim.models.keyedvectors.Vocab at 0x7ff5e1f55ba8>,\n",
       " 'chairman': <gensim.models.keyedvectors.Vocab at 0x7ff5e1f55b00>,\n",
       " 'champion': <gensim.models.keyedvectors.Vocab at 0x7ff5e1f4d400>,\n",
       " 'chang': <gensim.models.keyedvectors.Vocab at 0x7ff5e1f4a2e8>,\n",
       " 'charg': <gensim.models.keyedvectors.Vocab at 0x7ff5e1edda58>,\n",
       " 'check': <gensim.models.keyedvectors.Vocab at 0x7ff5e1f4a550>,\n",
       " 'chennai': <gensim.models.keyedvectors.Vocab at 0x7ff5e1ed9b70>,\n",
       " 'chief': <gensim.models.keyedvectors.Vocab at 0x7ff5e1edd048>,\n",
       " 'child': <gensim.models.keyedvectors.Vocab at 0x7ff5e1f51748>,\n",
       " 'china': <gensim.models.keyedvectors.Vocab at 0x7ff5e1f55208>,\n",
       " 'chines': <gensim.models.keyedvectors.Vocab at 0x7ff5e1f557b8>,\n",
       " 'citi': <gensim.models.keyedvectors.Vocab at 0x7ff5e1f53630>,\n",
       " 'civic': <gensim.models.keyedvectors.Vocab at 0x7ff5e1f533c8>,\n",
       " 'claim': <gensim.models.keyedvectors.Vocab at 0x7ff5e1edd160>,\n",
       " 'class': <gensim.models.keyedvectors.Vocab at 0x7ff5e1f51898>,\n",
       " 'clear': <gensim.models.keyedvectors.Vocab at 0x7ff5e1f51fd0>,\n",
       " 'close': <gensim.models.keyedvectors.Vocab at 0x7ff5e1edd5f8>,\n",
       " 'club': <gensim.models.keyedvectors.Vocab at 0x7ff5e1ed9630>,\n",
       " 'cm': <gensim.models.keyedvectors.Vocab at 0x7ff5e1f51c50>,\n",
       " \"cm'\": <gensim.models.keyedvectors.Vocab at 0x7ff5e1f4a9e8>,\n",
       " 'coach': <gensim.models.keyedvectors.Vocab at 0x7ff5e1f4deb8>,\n",
       " 'colleg': <gensim.models.keyedvectors.Vocab at 0x7ff5e1f516d8>,\n",
       " 'come': <gensim.models.keyedvectors.Vocab at 0x7ff5e1f43da0>,\n",
       " 'commit': <gensim.models.keyedvectors.Vocab at 0x7ff5e1f4ae10>,\n",
       " 'compani': <gensim.models.keyedvectors.Vocab at 0x7ff5e1f4a8d0>,\n",
       " 'complaint': <gensim.models.keyedvectors.Vocab at 0x7ff5e1f55b38>,\n",
       " 'cong': <gensim.models.keyedvectors.Vocab at 0x7ff5e1f53278>,\n",
       " 'congress': <gensim.models.keyedvectors.Vocab at 0x7ff5e28aa048>,\n",
       " 'contest': <gensim.models.keyedvectors.Vocab at 0x7ff5e1f43320>,\n",
       " 'convict': <gensim.models.keyedvectors.Vocab at 0x7ff5e1f57908>,\n",
       " 'cop': <gensim.models.keyedvectors.Vocab at 0x7ff5e1edd208>,\n",
       " 'corrupt': <gensim.models.keyedvectors.Vocab at 0x7ff5e1f539b0>,\n",
       " 'coupl': <gensim.models.keyedvectors.Vocab at 0x7ff5e1ed9080>,\n",
       " 'court': <gensim.models.keyedvectors.Vocab at 0x7ff5e1f578d0>,\n",
       " 'cover': <gensim.models.keyedvectors.Vocab at 0x7ff5e1ed99b0>,\n",
       " 'cow': <gensim.models.keyedvectors.Vocab at 0x7ff5e1f536d8>,\n",
       " 'cr': <gensim.models.keyedvectors.Vocab at 0x7ff5e1f51278>,\n",
       " 'crash': <gensim.models.keyedvectors.Vocab at 0x7ff5e28aa080>,\n",
       " 'cricket': <gensim.models.keyedvectors.Vocab at 0x7ff5e1f51f60>,\n",
       " 'crore': <gensim.models.keyedvectors.Vocab at 0x7ff5e1f55c50>,\n",
       " 'cross': <gensim.models.keyedvectors.Vocab at 0x7ff5e1f53a58>,\n",
       " 'crpf': <gensim.models.keyedvectors.Vocab at 0x7ff5e1f4d780>,\n",
       " 'cut': <gensim.models.keyedvectors.Vocab at 0x7ff5e28aa3c8>,\n",
       " 'dai': <gensim.models.keyedvectors.Vocab at 0x7ff5e1f51e10>,\n",
       " 'data': <gensim.models.keyedvectors.Vocab at 0x7ff5e1f55080>,\n",
       " 'date': <gensim.models.keyedvectors.Vocab at 0x7ff5e1f43240>,\n",
       " 'daughter': <gensim.models.keyedvectors.Vocab at 0x7ff5e1f53eb8>,\n",
       " 'dead': <gensim.models.keyedvectors.Vocab at 0x7ff5e28aa668>,\n",
       " 'death': <gensim.models.keyedvectors.Vocab at 0x7ff5e1f53a20>,\n",
       " 'debut': <gensim.models.keyedvectors.Vocab at 0x7ff5e1ed9278>,\n",
       " 'decid': <gensim.models.keyedvectors.Vocab at 0x7ff5e1f43a58>,\n",
       " 'declar': <gensim.models.keyedvectors.Vocab at 0x7ff5e1edd7b8>,\n",
       " 'defeat': <gensim.models.keyedvectors.Vocab at 0x7ff5e1f4d048>,\n",
       " 'defenc': <gensim.models.keyedvectors.Vocab at 0x7ff5e1f43940>,\n",
       " 'delai': <gensim.models.keyedvectors.Vocab at 0x7ff5e1f51b70>,\n",
       " 'delhi': <gensim.models.keyedvectors.Vocab at 0x7ff5e28aa5f8>,\n",
       " \"delhi'\": <gensim.models.keyedvectors.Vocab at 0x7ff5e1edd7f0>,\n",
       " 'demand': <gensim.models.keyedvectors.Vocab at 0x7ff5e1edd710>,\n",
       " 'demonetis': <gensim.models.keyedvectors.Vocab at 0x7ff5e1f555c0>,\n",
       " 'deni': <gensim.models.keyedvectors.Vocab at 0x7ff5e1f57a90>,\n",
       " 'deposit': <gensim.models.keyedvectors.Vocab at 0x7ff5e1ed90b8>,\n",
       " 'dept': <gensim.models.keyedvectors.Vocab at 0x7ff5e1f51240>,\n",
       " 'detain': <gensim.models.keyedvectors.Vocab at 0x7ff5e1f55dd8>,\n",
       " 'develop': <gensim.models.keyedvectors.Vocab at 0x7ff5e1f4ac18>,\n",
       " 'dhoni': <gensim.models.keyedvectors.Vocab at 0x7ff5e1f55748>,\n",
       " 'di': <gensim.models.keyedvectors.Vocab at 0x7ff5e1f4d438>,\n",
       " 'die': <gensim.models.keyedvectors.Vocab at 0x7ff5e1f51dd8>,\n",
       " 'differ': <gensim.models.keyedvectors.Vocab at 0x7ff5e1f53c18>,\n",
       " 'direct': <gensim.models.keyedvectors.Vocab at 0x7ff5e1f514a8>,\n",
       " 'director': <gensim.models.keyedvectors.Vocab at 0x7ff5e1f57400>,\n",
       " 'doctor': <gensim.models.keyedvectors.Vocab at 0x7ff5e1eddfd0>,\n",
       " 'dog': <gensim.models.keyedvectors.Vocab at 0x7ff5e1f4d0f0>,\n",
       " 'donald': <gensim.models.keyedvectors.Vocab at 0x7ff5e1edde48>,\n",
       " 'donat': <gensim.models.keyedvectors.Vocab at 0x7ff5e1f4a5f8>,\n",
       " 'doubl': <gensim.models.keyedvectors.Vocab at 0x7ff5e1f53f60>,\n",
       " 'drink': <gensim.models.keyedvectors.Vocab at 0x7ff5e1f51ba8>,\n",
       " 'driver': <gensim.models.keyedvectors.Vocab at 0x7ff5e1f4a390>,\n",
       " 'drop': <gensim.models.keyedvectors.Vocab at 0x7ff5e1ed9a90>,\n",
       " 'drug': <gensim.models.keyedvectors.Vocab at 0x7ff5e1f4d208>,\n",
       " 'du': <gensim.models.keyedvectors.Vocab at 0x7ff5e1f516a0>,\n",
       " 'due': <gensim.models.keyedvectors.Vocab at 0x7ff5e1f57438>,\n",
       " 'dutt': <gensim.models.keyedvectors.Vocab at 0x7ff5e1f4aba8>,\n",
       " 'earn': <gensim.models.keyedvectors.Vocab at 0x7ff5e1f55be0>,\n",
       " 'ec': <gensim.models.keyedvectors.Vocab at 0x7ff5e1ed9780>,\n",
       " 'elect': <gensim.models.keyedvectors.Vocab at 0x7ff5e1f43358>,\n",
       " 'emerg': <gensim.models.keyedvectors.Vocab at 0x7ff5e1f55e10>,\n",
       " 'employe': <gensim.models.keyedvectors.Vocab at 0x7ff5e1f57470>,\n",
       " 'end': <gensim.models.keyedvectors.Vocab at 0x7ff5e1ed9438>,\n",
       " 'enter': <gensim.models.keyedvectors.Vocab at 0x7ff5e1f51a58>,\n",
       " 'even': <gensim.models.keyedvectors.Vocab at 0x7ff5e1f4d9e8>,\n",
       " 'event': <gensim.models.keyedvectors.Vocab at 0x7ff5e1f437f0>,\n",
       " 'everi': <gensim.models.keyedvectors.Vocab at 0x7ff5e1ed9160>,\n",
       " 'evm': <gensim.models.keyedvectors.Vocab at 0x7ff5e1ed9cf8>,\n",
       " 'face': <gensim.models.keyedvectors.Vocab at 0x7ff5e1f51668>,\n",
       " 'fail': <gensim.models.keyedvectors.Vocab at 0x7ff5e1f43780>,\n",
       " 'fake': <gensim.models.keyedvectors.Vocab at 0x7ff5e1f51a90>,\n",
       " 'fall': <gensim.models.keyedvectors.Vocab at 0x7ff5e1f4db70>,\n",
       " 'famili': <gensim.models.keyedvectors.Vocab at 0x7ff5e1f43208>,\n",
       " 'fan': <gensim.models.keyedvectors.Vocab at 0x7ff5e1f43f28>,\n",
       " 'farmer': <gensim.models.keyedvectors.Vocab at 0x7ff5e1edd748>,\n",
       " 'father': <gensim.models.keyedvectors.Vocab at 0x7ff5e1ed91d0>,\n",
       " 'featur': <gensim.models.keyedvectors.Vocab at 0x7ff5e1f4a7f0>,\n",
       " 'femal': <gensim.models.keyedvectors.Vocab at 0x7ff5e1f57710>,\n",
       " 'fight': <gensim.models.keyedvectors.Vocab at 0x7ff5e1f4dc18>,\n",
       " 'file': <gensim.models.keyedvectors.Vocab at 0x7ff5e1f51630>,\n",
       " 'film': <gensim.models.keyedvectors.Vocab at 0x7ff5e1f57780>,\n",
       " 'film:': <gensim.models.keyedvectors.Vocab at 0x7ff5e1f43d30>,\n",
       " 'final': <gensim.models.keyedvectors.Vocab at 0x7ff5e1f43080>,\n",
       " 'fine': <gensim.models.keyedvectors.Vocab at 0x7ff5e1f4acf8>,\n",
       " 'fir': <gensim.models.keyedvectors.Vocab at 0x7ff5e1ed9128>,\n",
       " 'fire': <gensim.models.keyedvectors.Vocab at 0x7ff5e1eddf60>,\n",
       " 'firm': <gensim.models.keyedvectors.Vocab at 0x7ff5e1f57630>,\n",
       " 'first': <gensim.models.keyedvectors.Vocab at 0x7ff5e1f513c8>,\n",
       " 'flight': <gensim.models.keyedvectors.Vocab at 0x7ff5e1edd5c0>,\n",
       " 'food': <gensim.models.keyedvectors.Vocab at 0x7ff5e28aa1d0>,\n",
       " 'footbal': <gensim.models.keyedvectors.Vocab at 0x7ff5e1f43860>,\n",
       " 'forc': <gensim.models.keyedvectors.Vocab at 0x7ff5e1f51d30>,\n",
       " 'foreign': <gensim.models.keyedvectors.Vocab at 0x7ff5e1f4d668>,\n",
       " 'form': <gensim.models.keyedvectors.Vocab at 0x7ff5e585fc18>,\n",
       " 'former': <gensim.models.keyedvectors.Vocab at 0x7ff5e1f4da58>,\n",
       " 'found': <gensim.models.keyedvectors.Vocab at 0x7ff5e28aa630>,\n",
       " 'free': <gensim.models.keyedvectors.Vocab at 0x7ff5e2895978>,\n",
       " 'freedom': <gensim.models.keyedvectors.Vocab at 0x7ff5e1ed96d8>,\n",
       " 'fund': <gensim.models.keyedvectors.Vocab at 0x7ff5e1f532b0>,\n",
       " 'gandhi': <gensim.models.keyedvectors.Vocab at 0x7ff5e1f4a048>,\n",
       " 'gang': <gensim.models.keyedvectors.Vocab at 0x7ff5e1f43c50>,\n",
       " 'ganguli': <gensim.models.keyedvectors.Vocab at 0x7ff5e1ed97b8>,\n",
       " 'get': <gensim.models.keyedvectors.Vocab at 0x7ff5e585fd68>,\n",
       " 'ghaziabad': <gensim.models.keyedvectors.Vocab at 0x7ff5e1f57358>,\n",
       " 'gift': <gensim.models.keyedvectors.Vocab at 0x7ff5e1f577f0>,\n",
       " 'girl': <gensim.models.keyedvectors.Vocab at 0x7ff5e1f579e8>,\n",
       " 'give': <gensim.models.keyedvectors.Vocab at 0x7ff5e1f55630>,\n",
       " 'go': <gensim.models.keyedvectors.Vocab at 0x7ff5e1f51eb8>,\n",
       " 'goa': <gensim.models.keyedvectors.Vocab at 0x7ff5e1f553c8>,\n",
       " 'gold': <gensim.models.keyedvectors.Vocab at 0x7ff5e1f53f98>,\n",
       " 'googl': <gensim.models.keyedvectors.Vocab at 0x7ff5e1f51908>,\n",
       " 'got': <gensim.models.keyedvectors.Vocab at 0x7ff5e28aa208>,\n",
       " 'govern': <gensim.models.keyedvectors.Vocab at 0x7ff5e1f57ac8>,\n",
       " 'govt': <gensim.models.keyedvectors.Vocab at 0x7ff5e1f57550>,\n",
       " 'group': <gensim.models.keyedvectors.Vocab at 0x7ff5e1edd898>,\n",
       " 'gst': <gensim.models.keyedvectors.Vocab at 0x7ff5e1f4d160>,\n",
       " 'gujarat': <gensim.models.keyedvectors.Vocab at 0x7ff5e1eddbe0>,\n",
       " 'gurugram': <gensim.models.keyedvectors.Vocab at 0x7ff604f237b8>,\n",
       " 'haasan': <gensim.models.keyedvectors.Vocab at 0x7ff5e1f53da0>,\n",
       " 'harass': <gensim.models.keyedvectors.Vocab at 0x7ff5e1f57128>,\n",
       " 'haryana': <gensim.models.keyedvectors.Vocab at 0x7ff5e1f51588>,\n",
       " 'hc': <gensim.models.keyedvectors.Vocab at 0x7ff5e28aa390>,\n",
       " 'head': <gensim.models.keyedvectors.Vocab at 0x7ff5e1f53748>,\n",
       " 'held': <gensim.models.keyedvectors.Vocab at 0x7ff5e1eddb70>,\n",
       " 'help': <gensim.models.keyedvectors.Vocab at 0x7ff5e1f4d5f8>,\n",
       " 'high': <gensim.models.keyedvectors.Vocab at 0x7ff5e28aa2e8>,\n",
       " 'highest': <gensim.models.keyedvectors.Vocab at 0x7ff5e1f53908>,\n",
       " 'highwai': <gensim.models.keyedvectors.Vocab at 0x7ff5e1f4a748>,\n",
       " 'hike': <gensim.models.keyedvectors.Vocab at 0x7ff5e1f4de48>,\n",
       " 'hindu': <gensim.models.keyedvectors.Vocab at 0x7ff5e1f4d748>,\n",
       " 'hit': <gensim.models.keyedvectors.Vocab at 0x7ff5e1edd518>,\n",
       " 'hold': <gensim.models.keyedvectors.Vocab at 0x7ff5e1f4da90>,\n",
       " 'home': <gensim.models.keyedvectors.Vocab at 0x7ff5e1f510b8>,\n",
       " 'hospit': <gensim.models.keyedvectors.Vocab at 0x7ff5e1f4d4a8>,\n",
       " 'host': <gensim.models.keyedvectors.Vocab at 0x7ff5e1f51320>,\n",
       " 'hotel': <gensim.models.keyedvectors.Vocab at 0x7ff5e585ffd0>,\n",
       " 'hour': <gensim.models.keyedvectors.Vocab at 0x7ff5e1f51f28>,\n",
       " 'hous': <gensim.models.keyedvectors.Vocab at 0x7ff5e1eddeb8>,\n",
       " 'husband': <gensim.models.keyedvectors.Vocab at 0x7ff5e1f53e80>,\n",
       " 'i': <gensim.models.keyedvectors.Vocab at 0x7ff5e1f57cf8>,\n",
       " 'i-t': <gensim.models.keyedvectors.Vocab at 0x7ff5e1f51208>,\n",
       " 'iaf': <gensim.models.keyedvectors.Vocab at 0x7ff5e1f51f98>,\n",
       " 'icc': <gensim.models.keyedvectors.Vocab at 0x7ff5e1ed9860>,\n",
       " 'illeg': <gensim.models.keyedvectors.Vocab at 0x7ff5e1f550b8>,\n",
       " 'impos': <gensim.models.keyedvectors.Vocab at 0x7ff5e1ed93c8>,\n",
       " 'increas': <gensim.models.keyedvectors.Vocab at 0x7ff5e1f43cc0>,\n",
       " 'india': <gensim.models.keyedvectors.Vocab at 0x7ff5e1edd278>,\n",
       " \"india'\": <gensim.models.keyedvectors.Vocab at 0x7ff5e1f55a90>,\n",
       " 'india,': <gensim.models.keyedvectors.Vocab at 0x7ff5e1ed9908>,\n",
       " 'india:': <gensim.models.keyedvectors.Vocab at 0x7ff5e1f575c0>,\n",
       " 'indian': <gensim.models.keyedvectors.Vocab at 0x7ff5e1eddb00>,\n",
       " 'indian-origin': <gensim.models.keyedvectors.Vocab at 0x7ff5e1ed94a8>,\n",
       " 'injur': <gensim.models.keyedvectors.Vocab at 0x7ff5e1f53cf8>,\n",
       " 'instal': <gensim.models.keyedvectors.Vocab at 0x7ff5e1f4a5c0>,\n",
       " 'instead': <gensim.models.keyedvectors.Vocab at 0x7ff5e1f43828>,\n",
       " 'isi': <gensim.models.keyedvectors.Vocab at 0x7ff5e1f4a630>,\n",
       " 'issu': <gensim.models.keyedvectors.Vocab at 0x7ff5e1f4d898>,\n",
       " 'j&k': <gensim.models.keyedvectors.Vocab at 0x7ff5e1edd240>,\n",
       " 'jail': <gensim.models.keyedvectors.Vocab at 0x7ff5e1f4d278>,\n",
       " 'jaitlei': <gensim.models.keyedvectors.Vocab at 0x7ff5e1f575f8>,\n",
       " 'jan': <gensim.models.keyedvectors.Vocab at 0x7ff5e1f4ad68>,\n",
       " 'jawan': <gensim.models.keyedvectors.Vocab at 0x7ff5e1f43f98>,\n",
       " 'jio': <gensim.models.keyedvectors.Vocab at 0x7ff5e1f43ba8>,\n",
       " 'jnu': <gensim.models.keyedvectors.Vocab at 0x7ff5e1f4dba8>,\n",
       " 'job': <gensim.models.keyedvectors.Vocab at 0x7ff5e1f57588>,\n",
       " 'join': <gensim.models.keyedvectors.Vocab at 0x7ff5e1f4db00>,\n",
       " 'judg': <gensim.models.keyedvectors.Vocab at 0x7ff5e1f576a0>,\n",
       " \"k'taka\": <gensim.models.keyedvectors.Vocab at 0x7ff5e1f512b0>,\n",
       " 'kangana': <gensim.models.keyedvectors.Vocab at 0x7ff5e1f55198>,\n",
       " 'kapil': <gensim.models.keyedvectors.Vocab at 0x7ff5e1f57b70>,\n",
       " 'kashmir': <gensim.models.keyedvectors.Vocab at 0x7ff5e1edd080>,\n",
       " 'katrina': <gensim.models.keyedvectors.Vocab at 0x7ff5e1ed9978>,\n",
       " 'kejriw': <gensim.models.keyedvectors.Vocab at 0x7ff5e1f4acc0>,\n",
       " 'kerala': <gensim.models.keyedvectors.Vocab at 0x7ff5e1f53f28>,\n",
       " 'khan': <gensim.models.keyedvectors.Vocab at 0x7ff5e1f570b8>,\n",
       " 'kid': <gensim.models.keyedvectors.Vocab at 0x7ff5e1f51780>,\n",
       " 'kill': <gensim.models.keyedvectors.Vocab at 0x7ff5e585fdd8>,\n",
       " 'kohli': <gensim.models.keyedvectors.Vocab at 0x7ff5e1f55710>,\n",
       " 'kolkata': <gensim.models.keyedvectors.Vocab at 0x7ff5e1f4a588>,\n",
       " 'kovind': <gensim.models.keyedvectors.Vocab at 0x7ff5e1f43588>,\n",
       " 'kumar': <gensim.models.keyedvectors.Vocab at 0x7ff5e1edd358>,\n",
       " 'lakh': <gensim.models.keyedvectors.Vocab at 0x7ff5e1f518d0>,\n",
       " 'lalu': <gensim.models.keyedvectors.Vocab at 0x7ff5e1f558d0>,\n",
       " 'land': <gensim.models.keyedvectors.Vocab at 0x7ff5e1edd4e0>,\n",
       " 'last': <gensim.models.keyedvectors.Vocab at 0x7ff5e1f4a518>,\n",
       " 'launch': <gensim.models.keyedvectors.Vocab at 0x7ff5e1f55588>,\n",
       " 'law': <gensim.models.keyedvectors.Vocab at 0x7ff5e1f43128>,\n",
       " 'lawyer': <gensim.models.keyedvectors.Vocab at 0x7ff5e1ed98d0>,\n",
       " 'lead': <gensim.models.keyedvectors.Vocab at 0x7ff5e1f4d550>,\n",
       " 'leader': <gensim.models.keyedvectors.Vocab at 0x7ff5e1f571d0>,\n",
       " 'leak': <gensim.models.keyedvectors.Vocab at 0x7ff5e1ed9198>,\n",
       " 'leav': <gensim.models.keyedvectors.Vocab at 0x7ff5e1f552b0>,\n",
       " 'let': <gensim.models.keyedvectors.Vocab at 0x7ff5e585feb8>,\n",
       " 'letter': <gensim.models.keyedvectors.Vocab at 0x7ff5e1ed9400>,\n",
       " 'life': <gensim.models.keyedvectors.Vocab at 0x7ff5e1f55668>,\n",
       " 'like': <gensim.models.keyedvectors.Vocab at 0x7ff5e1f57ba8>,\n",
       " 'link': <gensim.models.keyedvectors.Vocab at 0x7ff5e1f55160>,\n",
       " 'liquor': <gensim.models.keyedvectors.Vocab at 0x7ff5e1f4d1d0>,\n",
       " 'list': <gensim.models.keyedvectors.Vocab at 0x7ff5e1f4d128>,\n",
       " 'live': <gensim.models.keyedvectors.Vocab at 0x7ff5e1f535c0>,\n",
       " 'loan': <gensim.models.keyedvectors.Vocab at 0x7ff5e1f4df28>,\n",
       " 'london': <gensim.models.keyedvectors.Vocab at 0x7ff5e1f4d0b8>,\n",
       " 'look': <gensim.models.keyedvectors.Vocab at 0x7ff5e1f55e80>,\n",
       " 'lose': <gensim.models.keyedvectors.Vocab at 0x7ff5e1f57668>,\n",
       " 'loss': <gensim.models.keyedvectors.Vocab at 0x7ff5e1f43be0>,\n",
       " 'love': <gensim.models.keyedvectors.Vocab at 0x7ff5e1f53198>,\n",
       " 'lynch': <gensim.models.keyedvectors.Vocab at 0x7ff5e28aa438>,\n",
       " 'made': <gensim.models.keyedvectors.Vocab at 0x7ff5e1f57c50>,\n",
       " 'maha': <gensim.models.keyedvectors.Vocab at 0x7ff5e1f51c18>,\n",
       " 'maharashtra': <gensim.models.keyedvectors.Vocab at 0x7ff5e1edd828>,\n",
       " 'mai': <gensim.models.keyedvectors.Vocab at 0x7ff5e1f510f0>,\n",
       " 'major': <gensim.models.keyedvectors.Vocab at 0x7ff5e1f53860>,\n",
       " 'make': <gensim.models.keyedvectors.Vocab at 0x7ff5e1f51438>,\n",
       " 'mallya': <gensim.models.keyedvectors.Vocab at 0x7ff5e1f55da0>,\n",
       " 'mamata': <gensim.models.keyedvectors.Vocab at 0x7ff5e1f556d8>,\n",
       " 'man': <gensim.models.keyedvectors.Vocab at 0x7ff5e585fe48>,\n",
       " 'manag': <gensim.models.keyedvectors.Vocab at 0x7ff5e1f4add8>,\n",
       " 'mark': <gensim.models.keyedvectors.Vocab at 0x7ff5e1f53a90>,\n",
       " 'marri': <gensim.models.keyedvectors.Vocab at 0x7ff5e1f4d9b0>,\n",
       " 'marriag': <gensim.models.keyedvectors.Vocab at 0x7ff5e1f51470>,\n",
       " 'match': <gensim.models.keyedvectors.Vocab at 0x7ff5e1f517f0>,\n",
       " 'mcd': <gensim.models.keyedvectors.Vocab at 0x7ff5e1ed9550>,\n",
       " 'media': <gensim.models.keyedvectors.Vocab at 0x7ff5e1eddf98>,\n",
       " 'meet': <gensim.models.keyedvectors.Vocab at 0x7ff5e1f552e8>,\n",
       " 'member': <gensim.models.keyedvectors.Vocab at 0x7ff5e1f57c18>,\n",
       " 'men': <gensim.models.keyedvectors.Vocab at 0x7ff5e1f4d390>,\n",
       " 'metro': <gensim.models.keyedvectors.Vocab at 0x7ff5e1f57fd0>,\n",
       " 'milit': <gensim.models.keyedvectors.Vocab at 0x7ff5e1ed9898>,\n",
       " 'min': <gensim.models.keyedvectors.Vocab at 0x7ff5e1f512e8>,\n",
       " 'minist': <gensim.models.keyedvectors.Vocab at 0x7ff5e1eddc18>,\n",
       " 'ministri': <gensim.models.keyedvectors.Vocab at 0x7ff5e1f43630>,\n",
       " 'minor': <gensim.models.keyedvectors.Vocab at 0x7ff5e1ed95f8>,\n",
       " 'miss': <gensim.models.keyedvectors.Vocab at 0x7ff5e1f43198>,\n",
       " 'mla': <gensim.models.keyedvectors.Vocab at 0x7ff5e1f51358>,\n",
       " 'mob': <gensim.models.keyedvectors.Vocab at 0x7ff5e1f57e10>,\n",
       " 'mobil': <gensim.models.keyedvectors.Vocab at 0x7ff5e1f4a0b8>,\n",
       " 'model': <gensim.models.keyedvectors.Vocab at 0x7ff5e1ed9b38>,\n",
       " 'modi': <gensim.models.keyedvectors.Vocab at 0x7ff5e1f51080>,\n",
       " 'molest': <gensim.models.keyedvectors.Vocab at 0x7ff5e1f43f60>,\n",
       " 'monei': <gensim.models.keyedvectors.Vocab at 0x7ff5e1f43b38>,\n",
       " 'month': <gensim.models.keyedvectors.Vocab at 0x7ff5e1f51828>,\n",
       " 'mother': <gensim.models.keyedvectors.Vocab at 0x7ff5e1f4ab70>,\n",
       " 'move': <gensim.models.keyedvectors.Vocab at 0x7ff5e1f55f28>,\n",
       " 'mp': <gensim.models.keyedvectors.Vocab at 0x7ff5e1f538d0>,\n",
       " 'mulayam': <gensim.models.keyedvectors.Vocab at 0x7ff5e1f4d2e8>,\n",
       " 'mumbai': <gensim.models.keyedvectors.Vocab at 0x7ff5e1edd320>,\n",
       " 'murder': <gensim.models.keyedvectors.Vocab at 0x7ff5e1f51da0>,\n",
       " 'muslim': <gensim.models.keyedvectors.Vocab at 0x7ff5e1f53898>,\n",
       " 'must': <gensim.models.keyedvectors.Vocab at 0x7ff5e1f53320>,\n",
       " 'name': <gensim.models.keyedvectors.Vocab at 0x7ff5e1f43ac8>,\n",
       " 'nation': <gensim.models.keyedvectors.Vocab at 0x7ff5e1f55978>,\n",
       " 'near': <gensim.models.keyedvectors.Vocab at 0x7ff5e1f43048>,\n",
       " 'need': <gensim.models.keyedvectors.Vocab at 0x7ff5e1f57d30>,\n",
       " 'never': <gensim.models.keyedvectors.Vocab at 0x7ff5e1f55240>,\n",
       " 'new': <gensim.models.keyedvectors.Vocab at 0x7ff5e1f4d5c0>,\n",
       " 'next': <gensim.models.keyedvectors.Vocab at 0x7ff5e1f51cf8>,\n",
       " 'nitish': <gensim.models.keyedvectors.Vocab at 0x7ff5e1f55908>,\n",
       " 'noida': <gensim.models.keyedvectors.Vocab at 0x7ff5e1edd780>,\n",
       " 'note': <gensim.models.keyedvectors.Vocab at 0x7ff5e1f434e0>,\n",
       " 'notic': <gensim.models.keyedvectors.Vocab at 0x7ff5e1f4ada0>,\n",
       " 'now': <gensim.models.keyedvectors.Vocab at 0x7ff5e585ff28>,\n",
       " 'number': <gensim.models.keyedvectors.Vocab at 0x7ff5e1f432e8>,\n",
       " 'offer': <gensim.models.keyedvectors.Vocab at 0x7ff604f23828>,\n",
       " 'offic': <gensim.models.keyedvectors.Vocab at 0x7ff5e1f3ff98>,\n",
       " 'offici': <gensim.models.keyedvectors.Vocab at 0x7ff5e1f53c88>,\n",
       " 'old': <gensim.models.keyedvectors.Vocab at 0x7ff5e1f4a358>,\n",
       " 'oldest': <gensim.models.keyedvectors.Vocab at 0x7ff5e1f43a90>,\n",
       " 'on': <gensim.models.keyedvectors.Vocab at 0x7ff5e1f51d68>,\n",
       " 'onlin': <gensim.models.keyedvectors.Vocab at 0x7ff5e1f57cc0>,\n",
       " 'open': <gensim.models.keyedvectors.Vocab at 0x7ff5e28aa128>,\n",
       " 'oper': <gensim.models.keyedvectors.Vocab at 0x7ff5e1f4a898>,\n",
       " 'oppos': <gensim.models.keyedvectors.Vocab at 0x7ff5e1f4aef0>,\n",
       " 'order': <gensim.models.keyedvectors.Vocab at 0x7ff5e1f3ffd0>,\n",
       " 'outsid': <gensim.models.keyedvectors.Vocab at 0x7ff5e1f55898>,\n",
       " 'pai': <gensim.models.keyedvectors.Vocab at 0x7ff5e2895f28>,\n",
       " 'paid': <gensim.models.keyedvectors.Vocab at 0x7ff5e1f55358>,\n",
       " 'pak': <gensim.models.keyedvectors.Vocab at 0x7ff5e1edd198>,\n",
       " 'pakistan': <gensim.models.keyedvectors.Vocab at 0x7ff5e1f43c88>,\n",
       " 'panel': <gensim.models.keyedvectors.Vocab at 0x7ff5e1f43e80>,\n",
       " 'park': <gensim.models.keyedvectors.Vocab at 0x7ff5e2895a58>,\n",
       " 'parliament': <gensim.models.keyedvectors.Vocab at 0x7ff5e1f435f8>,\n",
       " 'part': <gensim.models.keyedvectors.Vocab at 0x7ff5e1edd9e8>,\n",
       " 'parti': <gensim.models.keyedvectors.Vocab at 0x7ff5e1f57198>,\n",
       " 'pass': <gensim.models.keyedvectors.Vocab at 0x7ff5e1f55550>,\n",
       " 'passeng': <gensim.models.keyedvectors.Vocab at 0x7ff5e1f519b0>,\n",
       " 'peopl': <gensim.models.keyedvectors.Vocab at 0x7ff5e28aa240>,\n",
       " 'perform': <gensim.models.keyedvectors.Vocab at 0x7ff5e1ed9240>,\n",
       " 'person': <gensim.models.keyedvectors.Vocab at 0x7ff5e1f55470>,\n",
       " 'petit': <gensim.models.keyedvectors.Vocab at 0x7ff5e1f43438>,\n",
       " 'phone': <gensim.models.keyedvectors.Vocab at 0x7ff5e1f53240>,\n",
       " 'photo': <gensim.models.keyedvectors.Vocab at 0x7ff5e1edd668>,\n",
       " 'pic': <gensim.models.keyedvectors.Vocab at 0x7ff5e1f4d710>,\n",
       " 'pictur': <gensim.models.keyedvectors.Vocab at 0x7ff5e1f511d0>,\n",
       " 'pilot': <gensim.models.keyedvectors.Vocab at 0x7ff5e1ed92e8>,\n",
       " 'place': <gensim.models.keyedvectors.Vocab at 0x7ff5e1f4d4e0>,\n",
       " 'plai': <gensim.models.keyedvectors.Vocab at 0x7ff5e28aa320>,\n",
       " 'plan': <gensim.models.keyedvectors.Vocab at 0x7ff5e28aa198>,\n",
       " 'plane': <gensim.models.keyedvectors.Vocab at 0x7ff5e1edd550>,\n",
       " 'player': <gensim.models.keyedvectors.Vocab at 0x7ff5e1f4d080>,\n",
       " 'plea': <gensim.models.keyedvectors.Vocab at 0x7ff5e1f55cc0>,\n",
       " 'pm': <gensim.models.keyedvectors.Vocab at 0x7ff5e1f51048>,\n",
       " \"pm'\": <gensim.models.keyedvectors.Vocab at 0x7ff5e1f4ae48>,\n",
       " 'polic': <gensim.models.keyedvectors.Vocab at 0x7ff5e28aa588>,\n",
       " 'polit': <gensim.models.keyedvectors.Vocab at 0x7ff5e1f55940>,\n",
       " 'poll': <gensim.models.keyedvectors.Vocab at 0x7ff5e1eddba8>,\n",
       " 'polls:': <gensim.models.keyedvectors.Vocab at 0x7ff5e1ed9518>,\n",
       " 'pollut': <gensim.models.keyedvectors.Vocab at 0x7ff5e1f4ae80>,\n",
       " 'poor': <gensim.models.keyedvectors.Vocab at 0x7ff5e1f57a20>,\n",
       " 'post': <gensim.models.keyedvectors.Vocab at 0x7ff5e1f53160>,\n",
       " 'poster': <gensim.models.keyedvectors.Vocab at 0x7ff5e1f43908>,\n",
       " 'power': <gensim.models.keyedvectors.Vocab at 0x7ff5e1f53828>,\n",
       " 'pradesh': <gensim.models.keyedvectors.Vocab at 0x7ff5e1f436a0>,\n",
       " 'pregnant': <gensim.models.keyedvectors.Vocab at 0x7ff5e1f515c0>,\n",
       " 'presid': <gensim.models.keyedvectors.Vocab at 0x7ff5e1f4af60>,\n",
       " 'prez': <gensim.models.keyedvectors.Vocab at 0x7ff5e1edde10>,\n",
       " 'privat': <gensim.models.keyedvectors.Vocab at 0x7ff5e1f43a20>,\n",
       " 'priyanka': <gensim.models.keyedvectors.Vocab at 0x7ff5e1f51160>,\n",
       " 'probe': <gensim.models.keyedvectors.Vocab at 0x7ff5e1f57b00>,\n",
       " 'produc': <gensim.models.keyedvectors.Vocab at 0x7ff5e1f4d588>,\n",
       " 'project': <gensim.models.keyedvectors.Vocab at 0x7ff5e1f4d7b8>,\n",
       " 'propos': <gensim.models.keyedvectors.Vocab at 0x7ff5e1f4df60>,\n",
       " 'protest': <gensim.models.keyedvectors.Vocab at 0x7ff5e1f550f0>,\n",
       " 'public': <gensim.models.keyedvectors.Vocab at 0x7ff5e1ed9470>,\n",
       " 'punjab': <gensim.models.keyedvectors.Vocab at 0x7ff5e1f57860>,\n",
       " 'put': <gensim.models.keyedvectors.Vocab at 0x7ff5e1f53400>,\n",
       " 'question': <gensim.models.keyedvectors.Vocab at 0x7ff5e1f4aac8>,\n",
       " 'quit': <gensim.models.keyedvectors.Vocab at 0x7ff5e1f55ac8>,\n",
       " 'rahul': <gensim.models.keyedvectors.Vocab at 0x7ff5e1f4de80>,\n",
       " 'raid': <gensim.models.keyedvectors.Vocab at 0x7ff5e1ed9588>,\n",
       " 'railwai': <gensim.models.keyedvectors.Vocab at 0x7ff5e1f530b8>,\n",
       " 'rais': <gensim.models.keyedvectors.Vocab at 0x7ff5e1ed9748>,\n",
       " 'raj': <gensim.models.keyedvectors.Vocab at 0x7ff5e1f53cc0>,\n",
       " 'rajasthan': <gensim.models.keyedvectors.Vocab at 0x7ff5e1f4da20>,\n",
       " 'rajinikanth': <gensim.models.keyedvectors.Vocab at 0x7ff5e1ed99e8>,\n",
       " 'ram': <gensim.models.keyedvectors.Vocab at 0x7ff5e1f4db38>,\n",
       " 'rape': <gensim.models.keyedvectors.Vocab at 0x7ff5e1f515f8>,\n",
       " 'rbi': <gensim.models.keyedvectors.Vocab at 0x7ff5e1f434a8>,\n",
       " 'reach': <gensim.models.keyedvectors.Vocab at 0x7ff5e1f51ef0>,\n",
       " 'receiv': <gensim.models.keyedvectors.Vocab at 0x7ff5e1f43400>,\n",
       " 'record': <gensim.models.keyedvectors.Vocab at 0x7ff5e1f517b8>,\n",
       " 'red': <gensim.models.keyedvectors.Vocab at 0x7ff5e1f4a208>,\n",
       " 'reduc': <gensim.models.keyedvectors.Vocab at 0x7ff5e28aa4a8>,\n",
       " 'refus': <gensim.models.keyedvectors.Vocab at 0x7ff5e1f57898>,\n",
       " 'reject': <gensim.models.keyedvectors.Vocab at 0x7ff5e1f4a438>,\n",
       " 'releas': <gensim.models.keyedvectors.Vocab at 0x7ff5e1edd6d8>,\n",
       " 'relianc': <gensim.models.keyedvectors.Vocab at 0x7ff5e1ed9710>,\n",
       " 'remark': <gensim.models.keyedvectors.Vocab at 0x7ff5e1f57f60>,\n",
       " 'remov': <gensim.models.keyedvectors.Vocab at 0x7ff5e1f57da0>,\n",
       " 'replac': <gensim.models.keyedvectors.Vocab at 0x7ff5e1f437b8>,\n",
       " 'report': <gensim.models.keyedvectors.Vocab at 0x7ff5e1eddf28>,\n",
       " 'rescu': <gensim.models.keyedvectors.Vocab at 0x7ff5e1f51b38>,\n",
       " 'resign': <gensim.models.keyedvectors.Vocab at 0x7ff5e1f554a8>,\n",
       " 'return': <gensim.models.keyedvectors.Vocab at 0x7ff5e1f43d68>,\n",
       " 'reveal': <gensim.models.keyedvectors.Vocab at 0x7ff5e1f4abe0>,\n",
       " 'right': <gensim.models.keyedvectors.Vocab at 0x7ff5e1f4a860>,\n",
       " 'road': <gensim.models.keyedvectors.Vocab at 0x7ff5e1f53e10>,\n",
       " 'rob': <gensim.models.keyedvectors.Vocab at 0x7ff5e1f4dd68>,\n",
       " 'role': <gensim.models.keyedvectors.Vocab at 0x7ff5e1f539e8>,\n",
       " 'row': <gensim.models.keyedvectors.Vocab at 0x7ff5e1f4a1d0>,\n",
       " 'rss': <gensim.models.keyedvectors.Vocab at 0x7ff5e1f53ef0>,\n",
       " 'rule': <gensim.models.keyedvectors.Vocab at 0x7ff5e1f53dd8>,\n",
       " 'rumour': <gensim.models.keyedvectors.Vocab at 0x7ff5e28aa400>,\n",
       " 'run': <gensim.models.keyedvectors.Vocab at 0x7ff5e1f4a278>,\n",
       " 'russia': <gensim.models.keyedvectors.Vocab at 0x7ff5e1f55320>,\n",
       " 'russian': <gensim.models.keyedvectors.Vocab at 0x7ff5e1f51c88>,\n",
       " 'sachin': <gensim.models.keyedvectors.Vocab at 0x7ff5e1ed94e0>,\n",
       " 'sack': <gensim.models.keyedvectors.Vocab at 0x7ff5e1f534e0>,\n",
       " 'sai': <gensim.models.keyedvectors.Vocab at 0x7ff5e1f57d68>,\n",
       " 'salari': <gensim.models.keyedvectors.Vocab at 0x7ff5e1f55c18>,\n",
       " 'sale': <gensim.models.keyedvectors.Vocab at 0x7ff5e1f53978>,\n",
       " 'salman': <gensim.models.keyedvectors.Vocab at 0x7ff5e1f57c88>,\n",
       " 'sasikala': <gensim.models.keyedvectors.Vocab at 0x7ff5e1f43710>,\n",
       " 'saudi': <gensim.models.keyedvectors.Vocab at 0x7ff5e1f559b0>,\n",
       " 'save': <gensim.models.keyedvectors.Vocab at 0x7ff5e1f537f0>,\n",
       " 'sc': <gensim.models.keyedvectors.Vocab at 0x7ff5e1eddb38>,\n",
       " 'scam': <gensim.models.keyedvectors.Vocab at 0x7ff5e1f55390>,\n",
       " 'scheme': <gensim.models.keyedvectors.Vocab at 0x7ff5e1f43b70>,\n",
       " 'school': <gensim.models.keyedvectors.Vocab at 0x7ff5e1f57a58>,\n",
       " 'score': <gensim.models.keyedvectors.Vocab at 0x7ff5e1f433c8>,\n",
       " 'scrap': <gensim.models.keyedvectors.Vocab at 0x7ff5e1f4df98>,\n",
       " 'seat': <gensim.models.keyedvectors.Vocab at 0x7ff5e1edd8d0>,\n",
       " 'secur': <gensim.models.keyedvectors.Vocab at 0x7ff5e1f4a320>,\n",
       " 'see': <gensim.models.keyedvectors.Vocab at 0x7ff5e1f4ab00>,\n",
       " 'seek': <gensim.models.keyedvectors.Vocab at 0x7ff5e1f55cf8>,\n",
       " 'seiz': <gensim.models.keyedvectors.Vocab at 0x7ff5e1f536a0>,\n",
       " 'sell': <gensim.models.keyedvectors.Vocab at 0x7ff5e1f4a128>,\n",
       " 'sena': <gensim.models.keyedvectors.Vocab at 0x7ff5e1f4dcc0>,\n",
       " 'send': <gensim.models.keyedvectors.Vocab at 0x7ff5e1f53208>,\n",
       " 'sentenc': <gensim.models.keyedvectors.Vocab at 0x7ff5e1f4a6a0>,\n",
       " 'set': <gensim.models.keyedvectors.Vocab at 0x7ff5e1f577b8>,\n",
       " 'sex': <gensim.models.keyedvectors.Vocab at 0x7ff5e28aa5c0>,\n",
       " 'sexual': <gensim.models.keyedvectors.Vocab at 0x7ff5e1f57048>,\n",
       " 'shah': <gensim.models.keyedvectors.Vocab at 0x7ff5e1f57748>,\n",
       " 'shahid': <gensim.models.keyedvectors.Vocab at 0x7ff5e1f53be0>,\n",
       " 'share': <gensim.models.keyedvectors.Vocab at 0x7ff5e1f51198>,\n",
       " 'shastri': <gensim.models.keyedvectors.Vocab at 0x7ff5e1f55780>,\n",
       " 'shift': <gensim.models.keyedvectors.Vocab at 0x7ff5e1f51128>,\n",
       " 'shiv': <gensim.models.keyedvectors.Vocab at 0x7ff5e1f4afd0>,\n",
       " 'shot': <gensim.models.keyedvectors.Vocab at 0x7ff5e1f4dc50>,\n",
       " 'show': <gensim.models.keyedvectors.Vocab at 0x7ff5e1edd630>,\n",
       " 'sign': <gensim.models.keyedvectors.Vocab at 0x7ff5e28aa6a0>,\n",
       " 'sinc': <gensim.models.keyedvectors.Vocab at 0x7ff5e1ed9c18>,\n",
       " 'singh': <gensim.models.keyedvectors.Vocab at 0x7ff5e1f4d320>,\n",
       " 'sister': <gensim.models.keyedvectors.Vocab at 0x7ff5e1f4d940>,\n",
       " 'slam': <gensim.models.keyedvectors.Vocab at 0x7ff5e1f3ff60>,\n",
       " 'son': <gensim.models.keyedvectors.Vocab at 0x7ff5e1f55860>,\n",
       " 'song': <gensim.models.keyedvectors.Vocab at 0x7ff5e1f4ddd8>,\n",
       " 'south': <gensim.models.keyedvectors.Vocab at 0x7ff5e1f4a828>,\n",
       " 'sp': <gensim.models.keyedvectors.Vocab at 0x7ff5e1f4a978>,\n",
       " 'special': <gensim.models.keyedvectors.Vocab at 0x7ff5e1f4dac8>,\n",
       " 'sport': <gensim.models.keyedvectors.Vocab at 0x7ff5e1f51518>,\n",
       " 'sri': <gensim.models.keyedvectors.Vocab at 0x7ff5e1f51a20>,\n",
       " 'srk': <gensim.models.keyedvectors.Vocab at 0x7ff5e1f51400>,\n",
       " 'stab': <gensim.models.keyedvectors.Vocab at 0x7ff5e1f55828>,\n",
       " 'staff': <gensim.models.keyedvectors.Vocab at 0x7ff5e585ff60>,\n",
       " 'star': <gensim.models.keyedvectors.Vocab at 0x7ff5e1f57f98>,\n",
       " 'start': <gensim.models.keyedvectors.Vocab at 0x7ff5e1f51710>,\n",
       " 'state': <gensim.models.keyedvectors.Vocab at 0x7ff5e1f4a940>,\n",
       " 'station': <gensim.models.keyedvectors.Vocab at 0x7ff5e1f530f0>,\n",
       " 'statu': <gensim.models.keyedvectors.Vocab at 0x7ff5e1f55f98>,\n",
       " 'steal': <gensim.models.keyedvectors.Vocab at 0x7ff5e1f53b00>,\n",
       " 'stolen': <gensim.models.keyedvectors.Vocab at 0x7ff5e1f55ef0>,\n",
       " 'stop': <gensim.models.keyedvectors.Vocab at 0x7ff5e1eddcf8>,\n",
       " 'strike': <gensim.models.keyedvectors.Vocab at 0x7ff5e1f4d630>,\n",
       " 'student': <gensim.models.keyedvectors.Vocab at 0x7ff5e1f51978>,\n",
       " 'studi': <gensim.models.keyedvectors.Vocab at 0x7ff5e1f572b0>,\n",
       " 'suicid': <gensim.models.keyedvectors.Vocab at 0x7ff5e1f43550>,\n",
       " 'sunil': <gensim.models.keyedvectors.Vocab at 0x7ff5e1f573c8>,\n",
       " 'support': <gensim.models.keyedvectors.Vocab at 0x7ff5e1f556a0>,\n",
       " 'sushant': <gensim.models.keyedvectors.Vocab at 0x7ff5e1f519e8>,\n",
       " 'suspect': <gensim.models.keyedvectors.Vocab at 0x7ff5e1f4a668>,\n",
       " 'suspend': <gensim.models.keyedvectors.Vocab at 0x7ff5e1f51940>,\n",
       " 'swaraj': <gensim.models.keyedvectors.Vocab at 0x7ff5e1f4a7b8>,\n",
       " 'system': <gensim.models.keyedvectors.Vocab at 0x7ff5e1f53d30>,\n",
       " 'take': <gensim.models.keyedvectors.Vocab at 0x7ff5e1f57518>,\n",
       " 'talk': <gensim.models.keyedvectors.Vocab at 0x7ff5e1f51390>,\n",
       " 'tamil': <gensim.models.keyedvectors.Vocab at 0x7ff5e1f57dd8>,\n",
       " 'target': <gensim.models.keyedvectors.Vocab at 0x7ff5e1f4dc88>,\n",
       " 'tata': <gensim.models.keyedvectors.Vocab at 0x7ff5e1f55b70>,\n",
       " 'tax': <gensim.models.keyedvectors.Vocab at 0x7ff5e2895a90>,\n",
       " 'teacher': <gensim.models.keyedvectors.Vocab at 0x7ff5e1f579b0>,\n",
       " 'team': <gensim.models.keyedvectors.Vocab at 0x7ff5e1f53048>,\n",
       " 'tell': <gensim.models.keyedvectors.Vocab at 0x7ff5e1f4a4a8>,\n",
       " 'templ': <gensim.models.keyedvectors.Vocab at 0x7ff5e1f55fd0>,\n",
       " 'term': <gensim.models.keyedvectors.Vocab at 0x7ff5e1f4a6d8>,\n",
       " 'terror': <gensim.models.keyedvectors.Vocab at 0x7ff5e1f555f8>,\n",
       " 'terrorist': <gensim.models.keyedvectors.Vocab at 0x7ff5e1f43470>,\n",
       " 'test': <gensim.models.keyedvectors.Vocab at 0x7ff5e1edd438>,\n",
       " 'theatr': <gensim.models.keyedvectors.Vocab at 0x7ff5e1f4a0f0>,\n",
       " 'think': <gensim.models.keyedvectors.Vocab at 0x7ff5e1f43eb8>,\n",
       " 'threat': <gensim.models.keyedvectors.Vocab at 0x7ff5e1f4a9b0>,\n",
       " 'threaten': <gensim.models.keyedvectors.Vocab at 0x7ff5e1f4af98>,\n",
       " 'three': <gensim.models.keyedvectors.Vocab at 0x7ff5e1f43dd8>,\n",
       " 'throw': <gensim.models.keyedvectors.Vocab at 0x7ff5e1ed92b0>,\n",
       " 'ticket': <gensim.models.keyedvectors.Vocab at 0x7ff5e1f51ac8>,\n",
       " 'tiger': <gensim.models.keyedvectors.Vocab at 0x7ff5e1f4d978>,\n",
       " 'till': <gensim.models.keyedvectors.Vocab at 0x7ff5e1f55e48>,\n",
       " 'time': <gensim.models.keyedvectors.Vocab at 0x7ff5e1eddc88>,\n",
       " 'titl': <gensim.models.keyedvectors.Vocab at 0x7ff5e1f43e48>,\n",
       " 'tn': <gensim.models.keyedvectors.Vocab at 0x7ff5e1ed9940>,\n",
       " 'togeth': <gensim.models.keyedvectors.Vocab at 0x7ff5e1f4a160>,\n",
       " 'toilet': <gensim.models.keyedvectors.Vocab at 0x7ff5e1f532e8>,\n",
       " 'top': <gensim.models.keyedvectors.Vocab at 0x7ff5e1f537b8>,\n",
       " 'traffic': <gensim.models.keyedvectors.Vocab at 0x7ff5e1f4dda0>,\n",
       " 'train': <gensim.models.keyedvectors.Vocab at 0x7ff5e585fe10>,\n",
       " 'transfer': <gensim.models.keyedvectors.Vocab at 0x7ff5e1ed90f0>,\n",
       " 'travel': <gensim.models.keyedvectors.Vocab at 0x7ff5e1f574a8>,\n",
       " 'tripl': <gensim.models.keyedvectors.Vocab at 0x7ff5e1ed9ac8>,\n",
       " 'truck': <gensim.models.keyedvectors.Vocab at 0x7ff5e1f55f60>,\n",
       " 'trump': <gensim.models.keyedvectors.Vocab at 0x7ff5e1edde80>,\n",
       " \"trump'\": <gensim.models.keyedvectors.Vocab at 0x7ff5e1f534a8>,\n",
       " 'try': <gensim.models.keyedvectors.Vocab at 0x7ff5e1f4d518>,\n",
       " 'turn': <gensim.models.keyedvectors.Vocab at 0x7ff5e1f551d0>,\n",
       " 'tv': <gensim.models.keyedvectors.Vocab at 0x7ff5e1f4d8d0>,\n",
       " 'tweet': <gensim.models.keyedvectors.Vocab at 0x7ff5e1f57240>,\n",
       " 'twitter': <gensim.models.keyedvectors.Vocab at 0x7ff5e1f53ba8>,\n",
       " 'two': <gensim.models.keyedvectors.Vocab at 0x7ff5e1f559e8>,\n",
       " 'uk': <gensim.models.keyedvectors.Vocab at 0x7ff5e1f53940>,\n",
       " 'un': <gensim.models.keyedvectors.Vocab at 0x7ff5e1edd470>,\n",
       " 'union': <gensim.models.keyedvectors.Vocab at 0x7ff5e1eddc50>,\n",
       " 'unit': <gensim.models.keyedvectors.Vocab at 0x7ff5e1f430f0>,\n",
       " 'univers': <gensim.models.keyedvectors.Vocab at 0x7ff5e1f51be0>,\n",
       " 'upcom': <gensim.models.keyedvectors.Vocab at 0x7ff5e1f4a198>,\n",
       " 'urg': <gensim.models.keyedvectors.Vocab at 0x7ff5e1f43898>,\n",
       " 'us': <gensim.models.keyedvectors.Vocab at 0x7ff5e1edda20>,\n",
       " 'user': <gensim.models.keyedvectors.Vocab at 0x7ff5e585ff98>,\n",
       " 'uttar': <gensim.models.keyedvectors.Vocab at 0x7ff5e1f43668>,\n",
       " 'victim': <gensim.models.keyedvectors.Vocab at 0x7ff5e28aa470>,\n",
       " 'video': <gensim.models.keyedvectors.Vocab at 0x7ff5e1f4af28>,\n",
       " 'vijai': <gensim.models.keyedvectors.Vocab at 0x7ff5e1f436d8>,\n",
       " 'villag': <gensim.models.keyedvectors.Vocab at 0x7ff5e1f43b00>,\n",
       " 'violat': <gensim.models.keyedvectors.Vocab at 0x7ff5e1f4ad30>,\n",
       " 'virat': <gensim.models.keyedvectors.Vocab at 0x7ff5e1f4d828>,\n",
       " 'visit': <gensim.models.keyedvectors.Vocab at 0x7ff5e1f4aa90>,\n",
       " 'vote': <gensim.models.keyedvectors.Vocab at 0x7ff5e1f53fd0>,\n",
       " 'walk': <gensim.models.keyedvectors.Vocab at 0x7ff5e1f557f0>,\n",
       " 'wall': <gensim.models.keyedvectors.Vocab at 0x7ff5e1f55a58>,\n",
       " 'want': <gensim.models.keyedvectors.Vocab at 0x7ff5e1f4d908>,\n",
       " 'war': <gensim.models.keyedvectors.Vocab at 0x7ff5e1f57390>,\n",
       " 'warn': <gensim.models.keyedvectors.Vocab at 0x7ff5e1f4aa58>,\n",
       " 'watch': <gensim.models.keyedvectors.Vocab at 0x7ff5e1f53668>,\n",
       " 'water': <gensim.models.keyedvectors.Vocab at 0x7ff5e1f4dbe0>,\n",
       " 'wear': <gensim.models.keyedvectors.Vocab at 0x7ff5e1f53b70>,\n",
       " 'week': <gensim.models.keyedvectors.Vocab at 0x7ff5e1f4a2b0>,\n",
       " 'west': <gensim.models.keyedvectors.Vocab at 0x7ff5e1f439e8>,\n",
       " 'whatsapp': <gensim.models.keyedvectors.Vocab at 0x7ff5e1ed9358>,\n",
       " 'wife': <gensim.models.keyedvectors.Vocab at 0x7ff5e1f53b38>,\n",
       " 'will': <gensim.models.keyedvectors.Vocab at 0x7ff5e1f55128>,\n",
       " 'wimbledon': <gensim.models.keyedvectors.Vocab at 0x7ff5e1ed9c50>,\n",
       " 'win': <gensim.models.keyedvectors.Vocab at 0x7ff5e1f55518>,\n",
       " 'wish': <gensim.models.keyedvectors.Vocab at 0x7ff5e1ed95c0>,\n",
       " 'without': <gensim.models.keyedvectors.Vocab at 0x7ff5e1f4a3c8>,\n",
       " 'woman': <gensim.models.keyedvectors.Vocab at 0x7ff5e1f57eb8>,\n",
       " 'women': <gensim.models.keyedvectors.Vocab at 0x7ff5e1f57160>,\n",
       " 'work': <gensim.models.keyedvectors.Vocab at 0x7ff5e1f53080>,\n",
       " 'worker': <gensim.models.keyedvectors.Vocab at 0x7ff5e1f572e8>,\n",
       " 'world': <gensim.models.keyedvectors.Vocab at 0x7ff5e1f4d3c8>,\n",
       " \"world'\": <gensim.models.keyedvectors.Vocab at 0x7ff5e1f4d6d8>,\n",
       " 'worth': <gensim.models.keyedvectors.Vocab at 0x7ff5e1f55eb8>,\n",
       " 'wrong': <gensim.models.keyedvectors.Vocab at 0x7ff5e1f55c88>,\n",
       " 'year': <gensim.models.keyedvectors.Vocab at 0x7ff5e1f51860>,\n",
       " 'yogi': <gensim.models.keyedvectors.Vocab at 0x7ff5e1ed9c88>,\n",
       " 'yr': <gensim.models.keyedvectors.Vocab at 0x7ff5e1edd3c8>}"
      ]
     },
     "execution_count": 14,
     "metadata": {
      "tags": []
     },
     "output_type": "execute_result"
    }
   ],
   "source": [
    "model.wv.vocab"
   ]
  },
  {
   "cell_type": "code",
   "execution_count": 15,
   "metadata": {
    "colab": {
     "base_uri": "https://localhost:8080/",
     "height": 275
    },
    "colab_type": "code",
    "executionInfo": {
     "elapsed": 1034,
     "status": "ok",
     "timestamp": 1597809684009,
     "user": {
      "displayName": "Mathangi Sri",
      "photoUrl": "https://lh3.googleusercontent.com/a-/AOh14Gh0ldbF3y4-3F3Sow0eR6EEpQIkBrzVD03GQlAQlg=s64",
      "userId": "02610637757489513110"
     },
     "user_tz": -330
    },
    "id": "zQADR0fyislT",
    "outputId": "ef7fa397-81ea-4477-d9b6-8066928d035a"
   },
   "outputs": [
    {
     "name": "stderr",
     "output_type": "stream",
     "text": [
      "/usr/local/lib/python3.6/dist-packages/ipykernel_launcher.py:1: DeprecationWarning: Call to deprecated `most_similar` (Method will be removed in 4.0.0, use self.wv.most_similar() instead).\n",
      "  \"\"\"Entry point for launching an IPython kernel.\n",
      "/usr/local/lib/python3.6/dist-packages/gensim/matutils.py:737: FutureWarning: Conversion of the second argument of issubdtype from `int` to `np.signedinteger` is deprecated. In future, it will be treated as `np.int64 == np.dtype(int).type`.\n",
      "  if np.issubdtype(vec.dtype, np.int):\n"
     ]
    },
    {
     "data": {
      "text/plain": [
       "[('report', 0.9998923540115356),\n",
       " ('get', 0.9998892545700073),\n",
       " ('take', 0.999885082244873),\n",
       " ('mumbai', 0.9998843669891357),\n",
       " ('indian', 0.9998838305473328),\n",
       " ('call', 0.9998794794082642),\n",
       " ('jail', 0.9998782277107239),\n",
       " ('year', 0.999877393245697),\n",
       " ('kill', 0.9998773336410522),\n",
       " ('delhi', 0.9998770952224731)]"
      ]
     },
     "execution_count": 15,
     "metadata": {
      "tags": []
     },
     "output_type": "execute_result"
    }
   ],
   "source": [
    "model.most_similar('polic')"
   ]
  },
  {
   "cell_type": "markdown",
   "metadata": {
    "colab_type": "text",
    "id": "rdhKRMCac3ar"
   },
   "source": [
    "Example of \"Polic\" word vector"
   ]
  },
  {
   "cell_type": "code",
   "execution_count": 16,
   "metadata": {
    "colab": {
     "base_uri": "https://localhost:8080/",
     "height": 768
    },
    "colab_type": "code",
    "executionInfo": {
     "elapsed": 961,
     "status": "ok",
     "timestamp": 1597809686278,
     "user": {
      "displayName": "Mathangi Sri",
      "photoUrl": "https://lh3.googleusercontent.com/a-/AOh14Gh0ldbF3y4-3F3Sow0eR6EEpQIkBrzVD03GQlAQlg=s64",
      "userId": "02610637757489513110"
     },
     "user_tz": -330
    },
    "id": "GUt0cCyaislW",
    "outputId": "7afa6ac7-6bfa-4765-d3d3-a2b38f6fec5b"
   },
   "outputs": [
    {
     "name": "stderr",
     "output_type": "stream",
     "text": [
      "/usr/local/lib/python3.6/dist-packages/ipykernel_launcher.py:1: DeprecationWarning: Call to deprecated `__getitem__` (Method will be removed in 4.0.0, use self.wv.__getitem__() instead).\n",
      "  \"\"\"Entry point for launching an IPython kernel.\n"
     ]
    },
    {
     "data": {
      "text/plain": [
       "array([ 0.11834934,  0.21337458,  0.03328618, -0.21670192,  0.12195799,\n",
       "        0.05638056,  0.3402187 , -0.18369518, -0.06047295,  0.05781244,\n",
       "        0.04509117,  0.17188638, -0.26442727,  0.04853801, -0.25738654,\n",
       "       -0.01403073,  0.2590166 ,  0.03056786, -0.13485454,  0.1301692 ,\n",
       "        0.11417734,  0.1709013 ,  0.00435636, -0.02373919, -0.20038344,\n",
       "       -0.18156202, -0.367141  ,  0.11897054,  0.0041351 ,  0.28917104,\n",
       "       -0.04908011,  0.03572244,  0.10251857, -0.19918089,  0.03058901,\n",
       "        0.16307989, -0.01174473, -0.04265049,  0.00520038, -0.01660416,\n",
       "        0.2031985 , -0.02478904, -0.09122077, -0.02690028, -0.12100707,\n",
       "        0.09115547,  0.0178129 , -0.01111273,  0.31348306,  0.01833618,\n",
       "       -0.00068799, -0.02229044, -0.00497743,  0.09413265,  0.1540884 ,\n",
       "       -0.25502607, -0.11291281, -0.06615365,  0.05772389, -0.0866123 ,\n",
       "        0.03795764, -0.04062628,  0.11240582,  0.04045807,  0.07584371,\n",
       "       -0.08662183, -0.01104501,  0.01471077, -0.11915521, -0.03572926,\n",
       "        0.25744104, -0.04975271, -0.15965255,  0.12100232, -0.17873904,\n",
       "       -0.17395799,  0.28319114, -0.01948831, -0.17152275,  0.14660272,\n",
       "        0.2852658 ,  0.02447728,  0.08675407,  0.05496736,  0.06846928,\n",
       "       -0.15287852,  0.07372117, -0.2252066 , -0.29684043, -0.12572679,\n",
       "        0.03643609, -0.08075623, -0.06801435, -0.0647862 ,  0.23620854,\n",
       "       -0.07172152, -0.00430181,  0.01762086, -0.02959682, -0.05957023,\n",
       "       -0.2258362 , -0.05510332, -0.1605344 ,  0.07389227, -0.14297289,\n",
       "       -0.00043731, -0.02818077,  0.01746095, -0.05389986, -0.00956815,\n",
       "       -0.10934919, -0.2005794 , -0.09609889,  0.25181815, -0.08240691,\n",
       "       -0.26096362, -0.01718927,  0.16106823, -0.01952901,  0.05673197,\n",
       "        0.10175663, -0.15204558,  0.13906343, -0.17212449,  0.06369297,\n",
       "       -0.05383062,  0.01302068, -0.06350012,  0.04998318, -0.08087607,\n",
       "       -0.3675246 , -0.21562785, -0.10384791,  0.0695507 , -0.01887691,\n",
       "       -0.24453078,  0.11291068,  0.2469576 ,  0.07937461,  0.05226409,\n",
       "        0.2693506 , -0.06541321, -0.05644147,  0.10027143,  0.2520899 ,\n",
       "       -0.01809195, -0.07192089, -0.0147375 ,  0.18055986, -0.12834623,\n",
       "       -0.02211483,  0.03491348,  0.19056761,  0.19556691,  0.08885782,\n",
       "       -0.11796634,  0.11763868,  0.1378241 , -0.04893797,  0.0462456 ,\n",
       "       -0.1512395 ,  0.15229575, -0.01064783,  0.09029987,  0.17766395,\n",
       "       -0.08683198, -0.12935328,  0.0739112 ,  0.13685948, -0.04529788,\n",
       "       -0.0722152 ,  0.09013844, -0.00992524,  0.00350687,  0.22375658,\n",
       "       -0.0745995 ,  0.07481052,  0.03064591,  0.10387198,  0.03382938,\n",
       "       -0.18282439,  0.06579243, -0.04777005,  0.110115  , -0.09944626,\n",
       "       -0.09233022, -0.11889503, -0.21103963,  0.1721287 ,  0.01260754,\n",
       "        0.02235366,  0.17344788,  0.34065965, -0.01905161,  0.28164104,\n",
       "       -0.08615068,  0.2211001 , -0.20141791,  0.04259314,  0.09261206],\n",
       "      dtype=float32)"
      ]
     },
     "execution_count": 16,
     "metadata": {
      "tags": []
     },
     "output_type": "execute_result"
    }
   ],
   "source": [
    "model[\"polic\"]"
   ]
  },
  {
   "cell_type": "markdown",
   "metadata": {
    "colab_type": "text",
    "id": "9Bgp_8wzc3aw"
   },
   "source": [
    "Out of Vocab word throws error"
   ]
  },
  {
   "cell_type": "code",
   "execution_count": 17,
   "metadata": {
    "colab": {
     "base_uri": "https://localhost:8080/",
     "height": 360
    },
    "colab_type": "code",
    "executionInfo": {
     "elapsed": 943,
     "status": "error",
     "timestamp": 1597809691698,
     "user": {
      "displayName": "Mathangi Sri",
      "photoUrl": "https://lh3.googleusercontent.com/a-/AOh14Gh0ldbF3y4-3F3Sow0eR6EEpQIkBrzVD03GQlAQlg=s64",
      "userId": "02610637757489513110"
     },
     "user_tz": -330
    },
    "id": "_q1iJN492uhO",
    "outputId": "3e5d4488-d613-409f-beb9-400a0aaa37a6"
   },
   "outputs": [
    {
     "name": "stderr",
     "output_type": "stream",
     "text": [
      "/usr/local/lib/python3.6/dist-packages/ipykernel_launcher.py:1: DeprecationWarning: Call to deprecated `__getitem__` (Method will be removed in 4.0.0, use self.wv.__getitem__() instead).\n",
      "  \"\"\"Entry point for launching an IPython kernel.\n"
     ]
    },
    {
     "ename": "KeyError",
     "evalue": "ignored",
     "output_type": "error",
     "traceback": [
      "\u001b[0;31m---------------------------------------------------------------------------\u001b[0m",
      "\u001b[0;31mKeyError\u001b[0m                                  Traceback (most recent call last)",
      "\u001b[0;32m<ipython-input-17-00466cf5d046>\u001b[0m in \u001b[0;36m<module>\u001b[0;34m()\u001b[0m\n\u001b[0;32m----> 1\u001b[0;31m \u001b[0mmodel\u001b[0m\u001b[0;34m[\u001b[0m\u001b[0;34m'administration'\u001b[0m\u001b[0;34m]\u001b[0m\u001b[0;34m\u001b[0m\u001b[0;34m\u001b[0m\u001b[0m\n\u001b[0m",
      "\u001b[0;32m/usr/local/lib/python3.6/dist-packages/gensim/utils.py\u001b[0m in \u001b[0;36mnew_func1\u001b[0;34m(*args, **kwargs)\u001b[0m\n\u001b[1;32m   1420\u001b[0m                     \u001b[0mstacklevel\u001b[0m\u001b[0;34m=\u001b[0m\u001b[0;36m2\u001b[0m\u001b[0;34m\u001b[0m\u001b[0;34m\u001b[0m\u001b[0m\n\u001b[1;32m   1421\u001b[0m                 )\n\u001b[0;32m-> 1422\u001b[0;31m                 \u001b[0;32mreturn\u001b[0m \u001b[0mfunc\u001b[0m\u001b[0;34m(\u001b[0m\u001b[0;34m*\u001b[0m\u001b[0margs\u001b[0m\u001b[0;34m,\u001b[0m \u001b[0;34m**\u001b[0m\u001b[0mkwargs\u001b[0m\u001b[0;34m)\u001b[0m\u001b[0;34m\u001b[0m\u001b[0;34m\u001b[0m\u001b[0m\n\u001b[0m\u001b[1;32m   1423\u001b[0m \u001b[0;34m\u001b[0m\u001b[0m\n\u001b[1;32m   1424\u001b[0m             \u001b[0;32mreturn\u001b[0m \u001b[0mnew_func1\u001b[0m\u001b[0;34m\u001b[0m\u001b[0;34m\u001b[0m\u001b[0m\n",
      "\u001b[0;32m/usr/local/lib/python3.6/dist-packages/gensim/models/word2vec.py\u001b[0m in \u001b[0;36m__getitem__\u001b[0;34m(self, words)\u001b[0m\n\u001b[1;32m   1101\u001b[0m \u001b[0;34m\u001b[0m\u001b[0m\n\u001b[1;32m   1102\u001b[0m         \"\"\"\n\u001b[0;32m-> 1103\u001b[0;31m         \u001b[0;32mreturn\u001b[0m \u001b[0mself\u001b[0m\u001b[0;34m.\u001b[0m\u001b[0mwv\u001b[0m\u001b[0;34m.\u001b[0m\u001b[0m__getitem__\u001b[0m\u001b[0;34m(\u001b[0m\u001b[0mwords\u001b[0m\u001b[0;34m)\u001b[0m\u001b[0;34m\u001b[0m\u001b[0;34m\u001b[0m\u001b[0m\n\u001b[0m\u001b[1;32m   1104\u001b[0m \u001b[0;34m\u001b[0m\u001b[0m\n\u001b[1;32m   1105\u001b[0m     \u001b[0;34m@\u001b[0m\u001b[0mdeprecated\u001b[0m\u001b[0;34m(\u001b[0m\u001b[0;34m\"Method will be removed in 4.0.0, use self.wv.__contains__() instead\"\u001b[0m\u001b[0;34m)\u001b[0m\u001b[0;34m\u001b[0m\u001b[0;34m\u001b[0m\u001b[0m\n",
      "\u001b[0;32m/usr/local/lib/python3.6/dist-packages/gensim/models/keyedvectors.py\u001b[0m in \u001b[0;36m__getitem__\u001b[0;34m(self, entities)\u001b[0m\n\u001b[1;32m    335\u001b[0m         \u001b[0;32mif\u001b[0m \u001b[0misinstance\u001b[0m\u001b[0;34m(\u001b[0m\u001b[0mentities\u001b[0m\u001b[0;34m,\u001b[0m \u001b[0mstring_types\u001b[0m\u001b[0;34m)\u001b[0m\u001b[0;34m:\u001b[0m\u001b[0;34m\u001b[0m\u001b[0;34m\u001b[0m\u001b[0m\n\u001b[1;32m    336\u001b[0m             \u001b[0;31m# allow calls like trained_model['office'], as a shorthand for trained_model[['office']]\u001b[0m\u001b[0;34m\u001b[0m\u001b[0;34m\u001b[0m\u001b[0;34m\u001b[0m\u001b[0m\n\u001b[0;32m--> 337\u001b[0;31m             \u001b[0;32mreturn\u001b[0m \u001b[0mself\u001b[0m\u001b[0;34m.\u001b[0m\u001b[0mget_vector\u001b[0m\u001b[0;34m(\u001b[0m\u001b[0mentities\u001b[0m\u001b[0;34m)\u001b[0m\u001b[0;34m\u001b[0m\u001b[0;34m\u001b[0m\u001b[0m\n\u001b[0m\u001b[1;32m    338\u001b[0m \u001b[0;34m\u001b[0m\u001b[0m\n\u001b[1;32m    339\u001b[0m         \u001b[0;32mreturn\u001b[0m \u001b[0mvstack\u001b[0m\u001b[0;34m(\u001b[0m\u001b[0;34m[\u001b[0m\u001b[0mself\u001b[0m\u001b[0;34m.\u001b[0m\u001b[0mget_vector\u001b[0m\u001b[0;34m(\u001b[0m\u001b[0mentity\u001b[0m\u001b[0;34m)\u001b[0m \u001b[0;32mfor\u001b[0m \u001b[0mentity\u001b[0m \u001b[0;32min\u001b[0m \u001b[0mentities\u001b[0m\u001b[0;34m]\u001b[0m\u001b[0;34m)\u001b[0m\u001b[0;34m\u001b[0m\u001b[0;34m\u001b[0m\u001b[0m\n",
      "\u001b[0;32m/usr/local/lib/python3.6/dist-packages/gensim/models/keyedvectors.py\u001b[0m in \u001b[0;36mget_vector\u001b[0;34m(self, word)\u001b[0m\n\u001b[1;32m    453\u001b[0m \u001b[0;34m\u001b[0m\u001b[0m\n\u001b[1;32m    454\u001b[0m     \u001b[0;32mdef\u001b[0m \u001b[0mget_vector\u001b[0m\u001b[0;34m(\u001b[0m\u001b[0mself\u001b[0m\u001b[0;34m,\u001b[0m \u001b[0mword\u001b[0m\u001b[0;34m)\u001b[0m\u001b[0;34m:\u001b[0m\u001b[0;34m\u001b[0m\u001b[0;34m\u001b[0m\u001b[0m\n\u001b[0;32m--> 455\u001b[0;31m         \u001b[0;32mreturn\u001b[0m \u001b[0mself\u001b[0m\u001b[0;34m.\u001b[0m\u001b[0mword_vec\u001b[0m\u001b[0;34m(\u001b[0m\u001b[0mword\u001b[0m\u001b[0;34m)\u001b[0m\u001b[0;34m\u001b[0m\u001b[0;34m\u001b[0m\u001b[0m\n\u001b[0m\u001b[1;32m    456\u001b[0m \u001b[0;34m\u001b[0m\u001b[0m\n\u001b[1;32m    457\u001b[0m     \u001b[0;32mdef\u001b[0m \u001b[0mwords_closer_than\u001b[0m\u001b[0;34m(\u001b[0m\u001b[0mself\u001b[0m\u001b[0;34m,\u001b[0m \u001b[0mw1\u001b[0m\u001b[0;34m,\u001b[0m \u001b[0mw2\u001b[0m\u001b[0;34m)\u001b[0m\u001b[0;34m:\u001b[0m\u001b[0;34m\u001b[0m\u001b[0;34m\u001b[0m\u001b[0m\n",
      "\u001b[0;32m/usr/local/lib/python3.6/dist-packages/gensim/models/keyedvectors.py\u001b[0m in \u001b[0;36mword_vec\u001b[0;34m(self, word, use_norm)\u001b[0m\n\u001b[1;32m    450\u001b[0m             \u001b[0;32mreturn\u001b[0m \u001b[0mresult\u001b[0m\u001b[0;34m\u001b[0m\u001b[0;34m\u001b[0m\u001b[0m\n\u001b[1;32m    451\u001b[0m         \u001b[0;32melse\u001b[0m\u001b[0;34m:\u001b[0m\u001b[0;34m\u001b[0m\u001b[0;34m\u001b[0m\u001b[0m\n\u001b[0;32m--> 452\u001b[0;31m             \u001b[0;32mraise\u001b[0m \u001b[0mKeyError\u001b[0m\u001b[0;34m(\u001b[0m\u001b[0;34m\"word '%s' not in vocabulary\"\u001b[0m \u001b[0;34m%\u001b[0m \u001b[0mword\u001b[0m\u001b[0;34m)\u001b[0m\u001b[0;34m\u001b[0m\u001b[0;34m\u001b[0m\u001b[0m\n\u001b[0m\u001b[1;32m    453\u001b[0m \u001b[0;34m\u001b[0m\u001b[0m\n\u001b[1;32m    454\u001b[0m     \u001b[0;32mdef\u001b[0m \u001b[0mget_vector\u001b[0m\u001b[0;34m(\u001b[0m\u001b[0mself\u001b[0m\u001b[0;34m,\u001b[0m \u001b[0mword\u001b[0m\u001b[0;34m)\u001b[0m\u001b[0;34m:\u001b[0m\u001b[0;34m\u001b[0m\u001b[0;34m\u001b[0m\u001b[0m\n",
      "\u001b[0;31mKeyError\u001b[0m: \"word 'administration' not in vocabulary\""
     ]
    }
   ],
   "source": [
    "model['administration']"
   ]
  },
  {
   "cell_type": "markdown",
   "metadata": {
    "colab_type": "text",
    "id": "yiXoeRsLc3a1"
   },
   "source": [
    "The other popular library for word2vec is fasttext. This is a library released by facebook. Primary difference is that the input vector being considered are set of “ngrams” of the word. For example “transform” would get in “tra”, “ran”, “ans” etc. This  helps the word2vec model to provide vector representation for most words as they will be broken down into ngrams and their weights recombined to give a final output. "
   ]
  },
  {
   "cell_type": "markdown",
   "metadata": {
    "colab_type": "text",
    "id": "L7-dmJnzc3a2"
   },
   "source": [
    "Preprocessing the sentences to get the required format"
   ]
  },
  {
   "cell_type": "code",
   "execution_count": 18,
   "metadata": {
    "colab": {},
    "colab_type": "code",
    "executionInfo": {
     "elapsed": 888,
     "status": "ok",
     "timestamp": 1597809696443,
     "user": {
      "displayName": "Mathangi Sri",
      "photoUrl": "https://lh3.googleusercontent.com/a-/AOh14Gh0ldbF3y4-3F3Sow0eR6EEpQIkBrzVD03GQlAQlg=s64",
      "userId": "02610637757489513110"
     },
     "user_tz": -330
    },
    "id": "2V2Dalshk594"
   },
   "outputs": [],
   "source": [
    "t1[\"h1_stop\"] = t1[\"h1_stop\"].str.replace('[0-9]+','numbrepl')\n",
    "t1[\"h1_stop\"] = t1[\"h1_stop\"].str.replace('[^a-z\\s]+','')\n",
    "list2=[]\n",
    "for i in t1[\"h1_stop\"]:\n",
    "  list1 = i.split()\n",
    "  str1 = \"\"\n",
    "  for j in list1:\n",
    "    if(len(j)>=3):\n",
    "      str1 = str1 + \" \" + j\n",
    "  list2.append(str1)\n",
    "t1[\"h1_proc\"] = list2"
   ]
  },
  {
   "cell_type": "code",
   "execution_count": 20,
   "metadata": {
    "colab": {
     "base_uri": "https://localhost:8080/",
     "height": 419
    },
    "colab_type": "code",
    "executionInfo": {
     "elapsed": 864,
     "status": "ok",
     "timestamp": 1597809707067,
     "user": {
      "displayName": "Mathangi Sri",
      "photoUrl": "https://lh3.googleusercontent.com/a-/AOh14Gh0ldbF3y4-3F3Sow0eR6EEpQIkBrzVD03GQlAQlg=s64",
      "userId": "02610637757489513110"
     },
     "user_tz": -330
    },
    "id": "xY-T9k6updX0",
    "outputId": "1d4cb898-972f-4597-c596-bde8c1d7fa1e"
   },
   "outputs": [
    {
     "data": {
      "text/html": [
       "<div>\n",
       "<style scoped>\n",
       "    .dataframe tbody tr th:only-of-type {\n",
       "        vertical-align: middle;\n",
       "    }\n",
       "\n",
       "    .dataframe tbody tr th {\n",
       "        vertical-align: top;\n",
       "    }\n",
       "\n",
       "    .dataframe thead th {\n",
       "        text-align: right;\n",
       "    }\n",
       "</style>\n",
       "<table border=\"1\" class=\"dataframe\">\n",
       "  <thead>\n",
       "    <tr style=\"text-align: right;\">\n",
       "      <th></th>\n",
       "      <th>headlines</th>\n",
       "      <th>h1_proc</th>\n",
       "    </tr>\n",
       "  </thead>\n",
       "  <tbody>\n",
       "    <tr>\n",
       "      <th>0</th>\n",
       "      <td>Daman &amp; Diu revokes mandatory Rakshabandhan in offices order</td>\n",
       "      <td>daman diu revokes mandatory rakshabandhan offices order</td>\n",
       "    </tr>\n",
       "    <tr>\n",
       "      <th>1</th>\n",
       "      <td>Malaika slams user who trolled her for 'divorcing rich man'</td>\n",
       "      <td>malaika slams user trolled divorcing rich man</td>\n",
       "    </tr>\n",
       "    <tr>\n",
       "      <th>2</th>\n",
       "      <td>'Virgin' now corrected to 'Unmarried' in IGIMS' form</td>\n",
       "      <td>virgin now corrected unmarried igims form</td>\n",
       "    </tr>\n",
       "    <tr>\n",
       "      <th>3</th>\n",
       "      <td>Aaj aapne pakad liya: LeT man Dujana before being killed</td>\n",
       "      <td>aaj aapne pakad liya let man dujana killed</td>\n",
       "    </tr>\n",
       "    <tr>\n",
       "      <th>4</th>\n",
       "      <td>Hotel staff to get training to spot signs of sex trafficking</td>\n",
       "      <td>hotel staff get training spot signs sex trafficking</td>\n",
       "    </tr>\n",
       "    <tr>\n",
       "      <th>...</th>\n",
       "      <td>...</td>\n",
       "      <td>...</td>\n",
       "    </tr>\n",
       "    <tr>\n",
       "      <th>4509</th>\n",
       "      <td>Rasna seeking ?250 cr revenue from snack category: Chairman</td>\n",
       "      <td>rasna seeking numbrepl revenue snack category chairman</td>\n",
       "    </tr>\n",
       "    <tr>\n",
       "      <th>4510</th>\n",
       "      <td>Sachin attends Rajya Sabha after questions on attendance</td>\n",
       "      <td>sachin attends rajya sabha questions attendance</td>\n",
       "    </tr>\n",
       "    <tr>\n",
       "      <th>4511</th>\n",
       "      <td>Shouldn't rob their childhood: Aamir on kids reality shows</td>\n",
       "      <td>rob childhood aamir kids reality shows</td>\n",
       "    </tr>\n",
       "    <tr>\n",
       "      <th>4512</th>\n",
       "      <td>Asha Bhosle gets ?53,000 power bill for unused bungalow</td>\n",
       "      <td>asha bhosle gets numbreplnumbrepl power bill unused bungalow</td>\n",
       "    </tr>\n",
       "    <tr>\n",
       "      <th>4513</th>\n",
       "      <td>More than half of India's languages may die in 50yrs: Survey</td>\n",
       "      <td>half indias languages may die numbreplyrs survey</td>\n",
       "    </tr>\n",
       "  </tbody>\n",
       "</table>\n",
       "<p>4514 rows × 2 columns</p>\n",
       "</div>"
      ],
      "text/plain": [
       "                                                         headlines                                                        h1_proc\n",
       "0     Daman & Diu revokes mandatory Rakshabandhan in offices order        daman diu revokes mandatory rakshabandhan offices order\n",
       "1     Malaika slams user who trolled her for 'divorcing rich man'                   malaika slams user trolled divorcing rich man\n",
       "2             'Virgin' now corrected to 'Unmarried' in IGIMS' form                      virgin now corrected unmarried igims form\n",
       "3         Aaj aapne pakad liya: LeT man Dujana before being killed                     aaj aapne pakad liya let man dujana killed\n",
       "4     Hotel staff to get training to spot signs of sex trafficking            hotel staff get training spot signs sex trafficking\n",
       "...                                                            ...                                                            ...\n",
       "4509   Rasna seeking ?250 cr revenue from snack category: Chairman         rasna seeking numbrepl revenue snack category chairman\n",
       "4510      Sachin attends Rajya Sabha after questions on attendance                sachin attends rajya sabha questions attendance\n",
       "4511   Shouldn't rob their childhood: Aamir on kids reality shows                          rob childhood aamir kids reality shows\n",
       "4512       Asha Bhosle gets ?53,000 power bill for unused bungalow   asha bhosle gets numbreplnumbrepl power bill unused bungalow\n",
       "4513  More than half of India's languages may die in 50yrs: Survey               half indias languages may die numbreplyrs survey\n",
       "\n",
       "[4514 rows x 2 columns]"
      ]
     },
     "execution_count": 20,
     "metadata": {
      "tags": []
     },
     "output_type": "execute_result"
    }
   ],
   "source": [
    "t1[[\"headlines\",\"h1_proc\"]]"
   ]
  },
  {
   "cell_type": "markdown",
   "metadata": {
    "colab_type": "text",
    "id": "bksGwcnIc3a_"
   },
   "source": [
    "Have used word_punctuation_tokenizer to tokenize words. The punctuation tokenizer would treat the punctionations as separate tokens as compared to “tokenize” function from NLTK"
   ]
  },
  {
   "cell_type": "code",
   "execution_count": 21,
   "metadata": {
    "colab": {},
    "colab_type": "code",
    "executionInfo": {
     "elapsed": 955,
     "status": "ok",
     "timestamp": 1597809712483,
     "user": {
      "displayName": "Mathangi Sri",
      "photoUrl": "https://lh3.googleusercontent.com/a-/AOh14Gh0ldbF3y4-3F3Sow0eR6EEpQIkBrzVD03GQlAQlg=s64",
      "userId": "02610637757489513110"
     },
     "user_tz": -330
    },
    "id": "u_hwtHUGo4s4"
   },
   "outputs": [],
   "source": [
    "word_punctuation_tokenizer = nltk.WordPunctTokenizer()\n",
    "\n",
    "word_tokenized_corpus = [word_punctuation_tokenizer.tokenize(sent) \n",
    "  for sent in t1[\"h1_proc\"]]\n"
   ]
  },
  {
   "cell_type": "code",
   "execution_count": 23,
   "metadata": {
    "colab": {},
    "colab_type": "code",
    "executionInfo": {
     "elapsed": 6687,
     "status": "ok",
     "timestamp": 1597809797670,
     "user": {
      "displayName": "Mathangi Sri",
      "photoUrl": "https://lh3.googleusercontent.com/a-/AOh14Gh0ldbF3y4-3F3Sow0eR6EEpQIkBrzVD03GQlAQlg=s64",
      "userId": "02610637757489513110"
     },
     "user_tz": -330
    },
    "id": "lEwIT2_Uq58d"
   },
   "outputs": [],
   "source": [
    "from gensim.models.fasttext import FastText as FT_gen\n",
    "model_ft = FT_gen(word_tokenized_corpus,size=100,\n",
    "                      window=5,\n",
    "                      min_count=10,\n",
    "                      \n",
    "                      sg=1,\n",
    "                      iter=100\n",
    "                      )"
   ]
  },
  {
   "cell_type": "markdown",
   "metadata": {
    "colab_type": "text",
    "id": "O-P285Rec3bI"
   },
   "source": [
    "Word vector for \"police\""
   ]
  },
  {
   "cell_type": "code",
   "execution_count": 24,
   "metadata": {
    "colab": {
     "base_uri": "https://localhost:8080/",
     "height": 306
    },
    "colab_type": "code",
    "executionInfo": {
     "elapsed": 5156,
     "status": "ok",
     "timestamp": 1597809797673,
     "user": {
      "displayName": "Mathangi Sri",
      "photoUrl": "https://lh3.googleusercontent.com/a-/AOh14Gh0ldbF3y4-3F3Sow0eR6EEpQIkBrzVD03GQlAQlg=s64",
      "userId": "02610637757489513110"
     },
     "user_tz": -330
    },
    "id": "j94EGRhnriX9",
    "outputId": "b2cf1df9-1fe0-4e0c-8a64-fcfac34eb0df"
   },
   "outputs": [
    {
     "name": "stdout",
     "output_type": "stream",
     "text": [
      "[-0.22546193 -0.57399255  0.37502384 -0.5541501  -0.3610318   1.2900186\n",
      " -0.21831332  0.44128725  0.5840549  -0.12127865  0.34372768  0.03986532\n",
      " -0.44284812 -0.2760494   0.54226714 -0.34788117 -0.15348753  1.0568762\n",
      "  0.22936492 -0.4770464   0.11813045  0.05293164 -0.39436248 -0.00858558\n",
      "  0.29899442  0.54440194  0.6654917   0.04176539 -0.0792782   0.3340478\n",
      " -0.48971924  0.50223035 -0.24313357  0.21165931  0.58307886  0.2431692\n",
      " -0.48484662 -0.03386339  0.41664338  0.5915182  -0.53992075  0.1489043\n",
      "  0.6073883   0.5138187  -0.9025914  -0.14146869  0.45071426  0.30966145\n",
      " -0.11701576  0.24241701 -0.26873347 -0.28248525 -0.04691637 -0.05199096\n",
      "  0.4091813   0.02940704  0.84898555  0.27491227 -0.05435127 -0.14587085\n",
      "  0.87376994  0.35274458  0.4400529  -0.68847644 -0.31428352 -0.82805383\n",
      " -0.68499035 -0.42406824 -0.7662555   0.42705762  0.39762172 -0.17032546\n",
      " -0.04753472 -0.07993346  0.4266643   0.13033721  0.31655085 -0.1532629\n",
      " -0.11560907  0.16596934  0.2285682  -0.04258824  0.41395795 -0.12076477\n",
      " -0.23494254 -0.4628348  -0.57752055 -0.08451999 -0.88860923 -0.19655263\n",
      " -0.36597848  0.02129284 -0.53731376 -0.1852866   0.41115233 -0.7419632\n",
      "  0.27287516  0.09396822  0.33309183  0.67962843]\n"
     ]
    }
   ],
   "source": [
    "print(model_ft.wv['police'])"
   ]
  },
  {
   "cell_type": "code",
   "execution_count": 25,
   "metadata": {
    "colab": {
     "base_uri": "https://localhost:8080/",
     "height": 275
    },
    "colab_type": "code",
    "executionInfo": {
     "elapsed": 933,
     "status": "ok",
     "timestamp": 1597809800239,
     "user": {
      "displayName": "Mathangi Sri",
      "photoUrl": "https://lh3.googleusercontent.com/a-/AOh14Gh0ldbF3y4-3F3Sow0eR6EEpQIkBrzVD03GQlAQlg=s64",
      "userId": "02610637757489513110"
     },
     "user_tz": -330
    },
    "id": "lDnsC93JrtIP",
    "outputId": "f8df50a9-128e-4886-db57-20f81a35dc4f"
   },
   "outputs": [
    {
     "name": "stderr",
     "output_type": "stream",
     "text": [
      "/usr/local/lib/python3.6/dist-packages/ipykernel_launcher.py:1: DeprecationWarning: Call to deprecated `most_similar` (Method will be removed in 4.0.0, use self.wv.most_similar() instead).\n",
      "  \"\"\"Entry point for launching an IPython kernel.\n",
      "/usr/local/lib/python3.6/dist-packages/gensim/matutils.py:737: FutureWarning: Conversion of the second argument of issubdtype from `int` to `np.signedinteger` is deprecated. In future, it will be treated as `np.int64 == np.dtype(int).type`.\n",
      "  if np.issubdtype(vec.dtype, np.int):\n"
     ]
    },
    {
     "data": {
      "text/plain": [
       "[('injured', 0.4775485396385193),\n",
       " ('bomb', 0.4253961145877838),\n",
       " ('numbreplyrold', 0.3804662823677063),\n",
       " ('politics', 0.37814605236053467),\n",
       " ('notice', 0.37109649181365967),\n",
       " ('since', 0.3676730990409851),\n",
       " ('join', 0.3629407286643982),\n",
       " ('officers', 0.3592672049999237),\n",
       " ('quit', 0.3568107485771179),\n",
       " ('home', 0.35545021295547485)]"
      ]
     },
     "execution_count": 25,
     "metadata": {
      "tags": []
     },
     "output_type": "execute_result"
    }
   ],
   "source": [
    "model_ft.most_similar('police')"
   ]
  },
  {
   "cell_type": "code",
   "execution_count": 26,
   "metadata": {
    "colab": {
     "base_uri": "https://localhost:8080/",
     "height": 54
    },
    "colab_type": "code",
    "executionInfo": {
     "elapsed": 644,
     "status": "ok",
     "timestamp": 1597809801465,
     "user": {
      "displayName": "Mathangi Sri",
      "photoUrl": "https://lh3.googleusercontent.com/a-/AOh14Gh0ldbF3y4-3F3Sow0eR6EEpQIkBrzVD03GQlAQlg=s64",
      "userId": "02610637757489513110"
     },
     "user_tz": -330
    },
    "id": "jUe9_2i5islp",
    "outputId": "b1c35020-8789-46f9-8303-2d31842e8e12"
   },
   "outputs": [
    {
     "name": "stdout",
     "output_type": "stream",
     "text": [
      "{'mandatory': <gensim.models.keyedvectors.Vocab object at 0x7ff5ddb6afd0>, 'order': <gensim.models.keyedvectors.Vocab object at 0x7ff5ddb6ae10>, 'slams': <gensim.models.keyedvectors.Vocab object at 0x7ff5ddb6af60>, 'man': <gensim.models.keyedvectors.Vocab object at 0x7ff5ddb6a940>, 'now': <gensim.models.keyedvectors.Vocab object at 0x7ff5ddb6aa20>, 'let': <gensim.models.keyedvectors.Vocab object at 0x7ff5ddb6aa58>, 'killed': <gensim.models.keyedvectors.Vocab object at 0x7ff5ddb6add8>, 'staff': <gensim.models.keyedvectors.Vocab object at 0x7ff5ddb6ac88>, 'get': <gensim.models.keyedvectors.Vocab object at 0x7ff5ddb6a9e8>, 'sex': <gensim.models.keyedvectors.Vocab object at 0x7ff5ddb6a978>, 'found': <gensim.models.keyedvectors.Vocab object at 0x7ff5ddb6a8d0>, 'dead': <gensim.models.keyedvectors.Vocab object at 0x7ff5ddb6a780>, 'delhi': <gensim.models.keyedvectors.Vocab object at 0x7ff5ddb6a748>, 'police': <gensim.models.keyedvectors.Vocab object at 0x7ff5ddb6abe0>, 'station': <gensim.models.keyedvectors.Vocab object at 0x7ff5ddb6a908>, 'play': <gensim.models.keyedvectors.Vocab object at 0x7ff5ddb6a710>, 'accident': <gensim.models.keyedvectors.Vocab object at 0x7ff5ddb6af98>, 'victim': <gensim.models.keyedvectors.Vocab object at 0x7ff5ddb6ab38>, 'numbrepl': <gensim.models.keyedvectors.Vocab object at 0x7ff5ddb6aeb8>, 'numbreplyrold': <gensim.models.keyedvectors.Vocab object at 0x7ff5ddb6a9b0>, 'rumours': <gensim.models.keyedvectors.Vocab object at 0x7ff5ddb6aac8>, 'bombay': <gensim.models.keyedvectors.Vocab object at 0x7ff5ddb6ac18>, 'high': <gensim.models.keyedvectors.Vocab object at 0x7ff5ddb6ac50>, 'congress': <gensim.models.keyedvectors.Vocab object at 0x7ff5ddb6ab00>, 'state': <gensim.models.keyedvectors.Vocab object at 0x7ff5ddb6aba8>, 'bank': <gensim.models.keyedvectors.Vocab object at 0x7ff5ddb6ab70>, 'food': <gensim.models.keyedvectors.Vocab object at 0x7ff5ddb6aef0>, 'banks': <gensim.models.keyedvectors.Vocab object at 0x7ff5ddb6a860>, 'people': <gensim.models.keyedvectors.Vocab object at 0x7ff5ddb6ae48>, 'call': <gensim.models.keyedvectors.Vocab object at 0x7ff5ddb6af28>, 'life': <gensim.models.keyedvectors.Vocab object at 0x7ff5ddb6aa90>, 'boy': <gensim.models.keyedvectors.Vocab object at 0x7ff5ddb6acf8>, 'got': <gensim.models.keyedvectors.Vocab object at 0x7ff5ddb6a898>, 'google': <gensim.models.keyedvectors.Vocab object at 0x7ff5ddb6a7b8>, 'gurugram': <gensim.models.keyedvectors.Vocab object at 0x7ff5ddb6ae80>, 'pay': <gensim.models.keyedvectors.Vocab object at 0x7ff5ddb6acc0>, 'tax': <gensim.models.keyedvectors.Vocab object at 0x7ff5ddb80048>, 'free': <gensim.models.keyedvectors.Vocab object at 0x7ff5ddb80080>, 'human': <gensim.models.keyedvectors.Vocab object at 0x7ff5ddb800b8>, 'stop': <gensim.models.keyedvectors.Vocab object at 0x7ff5ddb800f0>, 'numbreplst': <gensim.models.keyedvectors.Vocab object at 0x7ff5ddb80128>, 'time': <gensim.models.keyedvectors.Vocab object at 0x7ff5ddb80160>, 'numbreplnumbrepl': <gensim.models.keyedvectors.Vocab object at 0x7ff5ddb80198>, 'union': <gensim.models.keyedvectors.Vocab object at 0x7ff5ddb801d0>, 'minister': <gensim.models.keyedvectors.Vocab object at 0x7ff5ddb80208>, 'gujarat': <gensim.models.keyedvectors.Vocab object at 0x7ff5ddb80240>, 'polls': <gensim.models.keyedvectors.Vocab object at 0x7ff5ddb80278>, 'held': <gensim.models.keyedvectors.Vocab object at 0x7ff5ddb802b0>, 'indian': <gensim.models.keyedvectors.Vocab object at 0x7ff5ddb802e8>, 'bomb': <gensim.models.keyedvectors.Vocab object at 0x7ff5ddb80320>, 'airport': <gensim.models.keyedvectors.Vocab object at 0x7ff5ddb80358>, 'bus': <gensim.models.keyedvectors.Vocab object at 0x7ff5ddb80390>, 'seats': <gensim.models.keyedvectors.Vocab object at 0x7ff5ddb803c8>, 'group': <gensim.models.keyedvectors.Vocab object at 0x7ff5ddb80400>, 'baby': <gensim.models.keyedvectors.Vocab object at 0x7ff5ddb80438>, 'pregnant': <gensim.models.keyedvectors.Vocab object at 0x7ff5ddb80470>, 'maharashtra': <gensim.models.keyedvectors.Vocab object at 0x7ff5ddb804a8>, 'delhis': <gensim.models.keyedvectors.Vocab object at 0x7ff5ddb804e0>, 'noida': <gensim.models.keyedvectors.Vocab object at 0x7ff5ddb80518>, 'farmers': <gensim.models.keyedvectors.Vocab object at 0x7ff5ddb80550>, 'demand': <gensim.models.keyedvectors.Vocab object at 0x7ff5ddb80588>, 'release': <gensim.models.keyedvectors.Vocab object at 0x7ff5ddb805c0>, 'arrested': <gensim.models.keyedvectors.Vocab object at 0x7ff5ddb805f8>, 'shows': <gensim.models.keyedvectors.Vocab object at 0x7ff5ddb80630>, 'flight': <gensim.models.keyedvectors.Vocab object at 0x7ff5ddb80668>, 'plane': <gensim.models.keyedvectors.Vocab object at 0x7ff5ddb806a0>, 'hits': <gensim.models.keyedvectors.Vocab object at 0x7ff5ddb806d8>, 'yrs': <gensim.models.keyedvectors.Vocab object at 0x7ff5ddb80710>, 'actor': <gensim.models.keyedvectors.Vocab object at 0x7ff5ddb80748>, 'kumar': <gensim.models.keyedvectors.Vocab object at 0x7ff5ddb80780>, 'mumbai': <gensim.models.keyedvectors.Vocab object at 0x7ff5ddb807b8>, 'india': <gensim.models.keyedvectors.Vocab object at 0x7ff5ddb807f0>, 'cops': <gensim.models.keyedvectors.Vocab object at 0x7ff5ddb80828>, 'pak': <gensim.models.keyedvectors.Vocab object at 0x7ff5ddb80860>, 'claim': <gensim.models.keyedvectors.Vocab object at 0x7ff5ddb80898>, 'leaders': <gensim.models.keyedvectors.Vocab object at 0x7ff5ddb808d0>, 'body': <gensim.models.keyedvectors.Vocab object at 0x7ff5ddb80908>, 'amarnath': <gensim.models.keyedvectors.Vocab object at 0x7ff5ddb80940>, 'attack': <gensim.models.keyedvectors.Vocab object at 0x7ff5ddb80978>, 'kashmir': <gensim.models.keyedvectors.Vocab object at 0x7ff5ddb809b0>, 'chief': <gensim.models.keyedvectors.Vocab object at 0x7ff5ddb809e8>, 'prez': <gensim.models.keyedvectors.Vocab object at 0x7ff5ddb80a20>, 'donald': <gensim.models.keyedvectors.Vocab object at 0x7ff5ddb80a58>, 'trump': <gensim.models.keyedvectors.Vocab object at 0x7ff5ddb80a90>, 'called': <gensim.models.keyedvectors.Vocab object at 0x7ff5ddb80ac8>, 'house': <gensim.models.keyedvectors.Vocab object at 0x7ff5ddb80b00>, 'report': <gensim.models.keyedvectors.Vocab object at 0x7ff5ddb80b38>, 'media': <gensim.models.keyedvectors.Vocab object at 0x7ff5ddb80b70>, 'doctor': <gensim.models.keyedvectors.Vocab object at 0x7ff5ddb80ba8>, 'campaign': <gensim.models.keyedvectors.Vocab object at 0x7ff5ddb80be0>, 'khan': <gensim.models.keyedvectors.Vocab object at 0x7ff5ddb80c18>, 'accused': <gensim.models.keyedvectors.Vocab object at 0x7ff5ddb80c50>, 'women': <gensim.models.keyedvectors.Vocab object at 0x7ff5ddb80c88>, 'party': <gensim.models.keyedvectors.Vocab object at 0x7ff5ddb80cc0>, 'tweets': <gensim.models.keyedvectors.Vocab object at 0x7ff5ddb80cf8>, 'air': <gensim.models.keyedvectors.Vocab object at 0x7ff5ddb80d30>, 'study': <gensim.models.keyedvectors.Vocab object at 0x7ff5ddb80d68>, 'workers': <gensim.models.keyedvectors.Vocab object at 0x7ff5ddb80da0>, 'booked': <gensim.models.keyedvectors.Vocab object at 0x7ff5ddb80dd8>, 'violence': <gensim.models.keyedvectors.Vocab object at 0x7ff5ddb80e10>, 'ghaziabad': <gensim.models.keyedvectors.Vocab object at 0x7ff5ddb80e48>, 'war': <gensim.models.keyedvectors.Vocab object at 0x7ff5ddb80e80>, 'sunil': <gensim.models.keyedvectors.Vocab object at 0x7ff5ddb80eb8>, 'accuses': <gensim.models.keyedvectors.Vocab object at 0x7ff5ddb80ef0>, 'director': <gensim.models.keyedvectors.Vocab object at 0x7ff5ddb80f28>, 'employees': <gensim.models.keyedvectors.Vocab object at 0x7ff5ddb80f60>, 'ban': <gensim.models.keyedvectors.Vocab object at 0x7ff5ddb80f98>, 'take': <gensim.models.keyedvectors.Vocab object at 0x7ff5ddb80fd0>, 'govt': <gensim.models.keyedvectors.Vocab object at 0x7ff5ddb79048>, 'jaitley': <gensim.models.keyedvectors.Vocab object at 0x7ff5ddb79080>, 'firm': <gensim.models.keyedvectors.Vocab object at 0x7ff5ddb790b8>, 'loses': <gensim.models.keyedvectors.Vocab object at 0x7ff5ddb790f0>, 'show': <gensim.models.keyedvectors.Vocab object at 0x7ff5ddb79128>, 'reports': <gensim.models.keyedvectors.Vocab object at 0x7ff5ddb79160>, 'female': <gensim.models.keyedvectors.Vocab object at 0x7ff5ddb79198>, 'shah': <gensim.models.keyedvectors.Vocab object at 0x7ff5ddb791d0>, 'film': <gensim.models.keyedvectors.Vocab object at 0x7ff5ddb79208>, 'sets': <gensim.models.keyedvectors.Vocab object at 0x7ff5ddb79240>, 'big': <gensim.models.keyedvectors.Vocab object at 0x7ff5ddb79278>, 'punjab': <gensim.models.keyedvectors.Vocab object at 0x7ff5ddb792b0>, 'cop': <gensim.models.keyedvectors.Vocab object at 0x7ff5ddb792e8>, 'court': <gensim.models.keyedvectors.Vocab object at 0x7ff5ddb79320>, 'case': <gensim.models.keyedvectors.Vocab object at 0x7ff5ddb79358>, 'girls': <gensim.models.keyedvectors.Vocab object at 0x7ff5ddb79390>, 'poor': <gensim.models.keyedvectors.Vocab object at 0x7ff5ddb793c8>, 'school': <gensim.models.keyedvectors.Vocab object at 0x7ff5ddb79400>, 'denies': <gensim.models.keyedvectors.Vocab object at 0x7ff5ddb79438>, 'charges': <gensim.models.keyedvectors.Vocab object at 0x7ff5ddb79470>, 'leader': <gensim.models.keyedvectors.Vocab object at 0x7ff5ddb794a8>, 'probe': <gensim.models.keyedvectors.Vocab object at 0x7ff5ddb794e0>, 'claims': <gensim.models.keyedvectors.Vocab object at 0x7ff5ddb79518>, 'term': <gensim.models.keyedvectors.Vocab object at 0x7ff5ddb79550>, 'kapil': <gensim.models.keyedvectors.Vocab object at 0x7ff5ddb79588>, 'like': <gensim.models.keyedvectors.Vocab object at 0x7ff5ddb795c0>, 'bad': <gensim.models.keyedvectors.Vocab object at 0x7ff5ddb795f8>, 'marriage': <gensim.models.keyedvectors.Vocab object at 0x7ff5ddb79630>, 'made': <gensim.models.keyedvectors.Vocab object at 0x7ff5ddb79668>, 'remark': <gensim.models.keyedvectors.Vocab object at 0x7ff5ddb796a0>, 'salman': <gensim.models.keyedvectors.Vocab object at 0x7ff5ddb796d8>, 'used': <gensim.models.keyedvectors.Vocab object at 0x7ff5ddb79710>, 'online': <gensim.models.keyedvectors.Vocab object at 0x7ff5ddb79748>, 'rape': <gensim.models.keyedvectors.Vocab object at 0x7ff5ddb79780>, 'need': <gensim.models.keyedvectors.Vocab object at 0x7ff5ddb797b8>, 'says': <gensim.models.keyedvectors.Vocab object at 0x7ff5ddb797f0>, 'tamil': <gensim.models.keyedvectors.Vocab object at 0x7ff5ddb79828>, 'mob': <gensim.models.keyedvectors.Vocab object at 0x7ff5ddb79860>, 'caught': <gensim.models.keyedvectors.Vocab object at 0x7ff5ddb79898>, 'woman': <gensim.models.keyedvectors.Vocab object at 0x7ff5ddb798d0>, 'bihar': <gensim.models.keyedvectors.Vocab object at 0x7ff5ddb79908>, 'asks': <gensim.models.keyedvectors.Vocab object at 0x7ff5ddb79940>, 'actress': <gensim.models.keyedvectors.Vocab object at 0x7ff5ddb79978>, 'star': <gensim.models.keyedvectors.Vocab object at 0x7ff5ddb799b0>, 'metro': <gensim.models.keyedvectors.Vocab object at 0x7ff5ddb799e8>, 'modi': <gensim.models.keyedvectors.Vocab object at 0x7ff5ddb79a20>, 'home': <gensim.models.keyedvectors.Vocab object at 0x7ff5ddb79a58>, 'year': <gensim.models.keyedvectors.Vocab object at 0x7ff5ddb79a90>, 'may': <gensim.models.keyedvectors.Vocab object at 0x7ff5ddb79ac8>, 'priyanka': <gensim.models.keyedvectors.Vocab object at 0x7ff5ddb79b00>, 'shares': <gensim.models.keyedvectors.Vocab object at 0x7ff5ddb79b38>, 'picture': <gensim.models.keyedvectors.Vocab object at 0x7ff5ddb79b70>, 'dept': <gensim.models.keyedvectors.Vocab object at 0x7ff5ddb79ba8>, 'ktaka': <gensim.models.keyedvectors.Vocab object at 0x7ff5ddb79be0>, 'min': <gensim.models.keyedvectors.Vocab object at 0x7ff5ddb79c18>, 'mlas': <gensim.models.keyedvectors.Vocab object at 0x7ff5ddb79c50>, 'first': <gensim.models.keyedvectors.Vocab object at 0x7ff5ddb79c88>, 'srk': <gensim.models.keyedvectors.Vocab object at 0x7ff5ddb79cc0>, 'girl': <gensim.models.keyedvectors.Vocab object at 0x7ff5ddb79cf8>, 'government': <gensim.models.keyedvectors.Vocab object at 0x7ff5ddb79d30>, 'makes': <gensim.models.keyedvectors.Vocab object at 0x7ff5ddb79d68>, 'dies': <gensim.models.keyedvectors.Vocab object at 0x7ff5ddb79da0>, 'fire': <gensim.models.keyedvectors.Vocab object at 0x7ff5ddb79dd8>, 'haryana': <gensim.models.keyedvectors.Vocab object at 0x7ff5ddb79e10>, 'raped': <gensim.models.keyedvectors.Vocab object at 0x7ff5ddb79e48>, 'files': <gensim.models.keyedvectors.Vocab object at 0x7ff5ddb79e80>, 'harassment': <gensim.models.keyedvectors.Vocab object at 0x7ff5ddb79eb8>, 'calls': <gensim.models.keyedvectors.Vocab object at 0x7ff5ddb79ef0>, 'ministers': <gensim.models.keyedvectors.Vocab object at 0x7ff5ddb79f28>, 'face': <gensim.models.keyedvectors.Vocab object at 0x7ff5ddb79f60>, 'child': <gensim.models.keyedvectors.Vocab object at 0x7ff5ddb79f98>, 'kids': <gensim.models.keyedvectors.Vocab object at 0x7ff5ddb79fd0>, 'times': <gensim.models.keyedvectors.Vocab object at 0x7ff5ddb39048>, 'record': <gensim.models.keyedvectors.Vocab object at 0x7ff5ddb39080>, 'months': <gensim.models.keyedvectors.Vocab object at 0x7ff5ddb390b8>, 'lakh': <gensim.models.keyedvectors.Vocab object at 0x7ff5ddb390f0>, 'suspended': <gensim.models.keyedvectors.Vocab object at 0x7ff5ddb39128>, 'passengers': <gensim.models.keyedvectors.Vocab object at 0x7ff5ddb39160>, 'due': <gensim.models.keyedvectors.Vocab object at 0x7ff5ddb39198>, 'sushant': <gensim.models.keyedvectors.Vocab object at 0x7ff5ddb391d0>, 'sri': <gensim.models.keyedvectors.Vocab object at 0x7ff5ddb39208>, 'fake': <gensim.models.keyedvectors.Vocab object at 0x7ff5ddb39240>, 'kills': <gensim.models.keyedvectors.Vocab object at 0x7ff5ddb39278>, 'victims': <gensim.models.keyedvectors.Vocab object at 0x7ff5ddb392b0>, 'university': <gensim.models.keyedvectors.Vocab object at 0x7ff5ddb392e8>, 'maha': <gensim.models.keyedvectors.Vocab object at 0x7ff5ddb39320>, 'russian': <gensim.models.keyedvectors.Vocab object at 0x7ff5ddb39358>, 'next': <gensim.models.keyedvectors.Vocab object at 0x7ff5ddb39390>, 'one': <gensim.models.keyedvectors.Vocab object at 0x7ff5ddb393c8>, 'murder': <gensim.models.keyedvectors.Vocab object at 0x7ff5ddb39400>, 'die': <gensim.models.keyedvectors.Vocab object at 0x7ff5ddb39438>, 'day': <gensim.models.keyedvectors.Vocab object at 0x7ff5ddb39470>, 'bengaluru': <gensim.models.keyedvectors.Vocab object at 0x7ff5ddb394a8>, 'womens': <gensim.models.keyedvectors.Vocab object at 0x7ff5ddb394e0>, 'iaf': <gensim.models.keyedvectors.Vocab object at 0x7ff5ddb39518>, 'bill': <gensim.models.keyedvectors.Vocab object at 0x7ff5ddb39550>, 'forced': <gensim.models.keyedvectors.Vocab object at 0x7ff5ddb39588>, 'data': <gensim.models.keyedvectors.Vocab object at 0x7ff5ddb395c0>, 'illegal': <gensim.models.keyedvectors.Vocab object at 0x7ff5ddb395f8>, 'protest': <gensim.models.keyedvectors.Vocab object at 0x7ff5ddb39630>, 'land': <gensim.models.keyedvectors.Vocab object at 0x7ff5ddb39668>, 'will': <gensim.models.keyedvectors.Vocab object at 0x7ff5ddb396a0>, 'kangana': <gensim.models.keyedvectors.Vocab object at 0x7ff5ddb396d8>, 'china': <gensim.models.keyedvectors.Vocab object at 0x7ff5ddb39710>, 'never': <gensim.models.keyedvectors.Vocab object at 0x7ff5ddb39748>, 'allow': <gensim.models.keyedvectors.Vocab object at 0x7ff5ddb39780>, 'away': <gensim.models.keyedvectors.Vocab object at 0x7ff5ddb397b8>, 'russia': <gensim.models.keyedvectors.Vocab object at 0x7ff5ddb397f0>, 'bans': <gensim.models.keyedvectors.Vocab object at 0x7ff5ddb39828>, 'users': <gensim.models.keyedvectors.Vocab object at 0x7ff5ddb39860>, 'paid': <gensim.models.keyedvectors.Vocab object at 0x7ff5ddb39898>, 'remove': <gensim.models.keyedvectors.Vocab object at 0x7ff5ddb398d0>, 'scam': <gensim.models.keyedvectors.Vocab object at 0x7ff5ddb39908>, 'goa': <gensim.models.keyedvectors.Vocab object at 0x7ff5ddb39940>, 'black': <gensim.models.keyedvectors.Vocab object at 0x7ff5ddb39978>, 'board': <gensim.models.keyedvectors.Vocab object at 0x7ff5ddb399b0>, 'passes': <gensim.models.keyedvectors.Vocab object at 0x7ff5ddb399e8>, 'launch': <gensim.models.keyedvectors.Vocab object at 0x7ff5ddb39a20>, 'demonetisation': <gensim.models.keyedvectors.Vocab object at 0x7ff5ddb39a58>, 'terror': <gensim.models.keyedvectors.Vocab object at 0x7ff5ddb39a90>, 'give': <gensim.models.keyedvectors.Vocab object at 0x7ff5ddb39ac8>, 'support': <gensim.models.keyedvectors.Vocab object at 0x7ff5ddb39b00>, 'mamata': <gensim.models.keyedvectors.Vocab object at 0x7ff5ddb39b38>, 'kohli': <gensim.models.keyedvectors.Vocab object at 0x7ff5ddb39b70>, 'dhoni': <gensim.models.keyedvectors.Vocab object at 0x7ff5ddb39ba8>, 'captain': <gensim.models.keyedvectors.Vocab object at 0x7ff5ddb39be0>, 'chinese': <gensim.models.keyedvectors.Vocab object at 0x7ff5ddb39c18>, 'son': <gensim.models.keyedvectors.Vocab object at 0x7ff5ddb39c50>, 'outside': <gensim.models.keyedvectors.Vocab object at 0x7ff5ddb39c88>, 'lalu': <gensim.models.keyedvectors.Vocab object at 0x7ff5ddb39cc0>, 'nitish': <gensim.models.keyedvectors.Vocab object at 0x7ff5ddb39cf8>, 'politics': <gensim.models.keyedvectors.Vocab object at 0x7ff5ddb39d30>, 'numbrepll': <gensim.models.keyedvectors.Vocab object at 0x7ff5ddb39d68>, 'train': <gensim.models.keyedvectors.Vocab object at 0x7ff5ddb39da0>, 'saudi': <gensim.models.keyedvectors.Vocab object at 0x7ff5ddb39dd8>, 'using': <gensim.models.keyedvectors.Vocab object at 0x7ff5ddb39e10>, 'birthday': <gensim.models.keyedvectors.Vocab object at 0x7ff5ddb39e48>, 'taapsee': <gensim.models.keyedvectors.Vocab object at 0x7ff5ddb39e80>, 'two': <gensim.models.keyedvectors.Vocab object at 0x7ff5ddb39eb8>, 'bail': <gensim.models.keyedvectors.Vocab object at 0x7ff5ddb39ef0>, 'meeting': <gensim.models.keyedvectors.Vocab object at 0x7ff5ddb39f28>, 'students': <gensim.models.keyedvectors.Vocab object at 0x7ff5ddb39f60>, 'indias': <gensim.models.keyedvectors.Vocab object at 0x7ff5ddb39f98>, 'chairman': <gensim.models.keyedvectors.Vocab object at 0x7ff5ddb39fd0>, 'orders': <gensim.models.keyedvectors.Vocab object at 0x7ff5ddad4048>, 'cuts': <gensim.models.keyedvectors.Vocab object at 0x7ff5ddad4080>, 'tata': <gensim.models.keyedvectors.Vocab object at 0x7ff5ddad40b8>, 'ceo': <gensim.models.keyedvectors.Vocab object at 0x7ff5ddad40f0>, 'salary': <gensim.models.keyedvectors.Vocab object at 0x7ff5ddad4128>, 'crore': <gensim.models.keyedvectors.Vocab object at 0x7ff5ddad4160>, 'wrong': <gensim.models.keyedvectors.Vocab object at 0x7ff5ddad4198>, 'plea': <gensim.models.keyedvectors.Vocab object at 0x7ff5ddad41d0>, 'seeking': <gensim.models.keyedvectors.Vocab object at 0x7ff5ddad4208>, 'mallya': <gensim.models.keyedvectors.Vocab object at 0x7ff5ddad4240>, 'seeks': <gensim.models.keyedvectors.Vocab object at 0x7ff5ddad4278>, 'detained': <gensim.models.keyedvectors.Vocab object at 0x7ff5ddad42b0>, 'till': <gensim.models.keyedvectors.Vocab object at 0x7ff5ddad42e8>, 'look': <gensim.models.keyedvectors.Vocab object at 0x7ff5ddad4320>, 'worth': <gensim.models.keyedvectors.Vocab object at 0x7ff5ddad4358>, 'stolen': <gensim.models.keyedvectors.Vocab object at 0x7ff5ddad4390>, 'temple': <gensim.models.keyedvectors.Vocab object at 0x7ff5ddad43c8>, 'team': <gensim.models.keyedvectors.Vocab object at 0x7ff5ddad4400>, 'refuses': <gensim.models.keyedvectors.Vocab object at 0x7ff5ddad4438>, 'indians': <gensim.models.keyedvectors.Vocab object at 0x7ff5ddad4470>, 'work': <gensim.models.keyedvectors.Vocab object at 0x7ff5ddad44a8>, 'railway': <gensim.models.keyedvectors.Vocab object at 0x7ff5ddad44e0>, 'stations': <gensim.models.keyedvectors.Vocab object at 0x7ff5ddad4518>, 'quit': <gensim.models.keyedvectors.Vocab object at 0x7ff5ddad4550>, 'post': <gensim.models.keyedvectors.Vocab object at 0x7ff5ddad4588>, 'army': <gensim.models.keyedvectors.Vocab object at 0x7ff5ddad45c0>, 'gets': <gensim.models.keyedvectors.Vocab object at 0x7ff5ddad45f8>, 'phone': <gensim.models.keyedvectors.Vocab object at 0x7ff5ddad4630>, 'cong': <gensim.models.keyedvectors.Vocab object at 0x7ff5ddad4668>, 'mla': <gensim.models.keyedvectors.Vocab object at 0x7ff5ddad46a0>, 'colleges': <gensim.models.keyedvectors.Vocab object at 0x7ff5ddad46d8>, 'make': <gensim.models.keyedvectors.Vocab object at 0x7ff5ddad4710>, 'must': <gensim.models.keyedvectors.Vocab object at 0x7ff5ddad4748>, 'border': <gensim.models.keyedvectors.Vocab object at 0x7ff5ddad4780>, 'civic': <gensim.models.keyedvectors.Vocab object at 0x7ff5ddad47b8>, 'bjp': <gensim.models.keyedvectors.Vocab object at 0x7ff5ddad47f0>, 'president': <gensim.models.keyedvectors.Vocab object at 0x7ff5ddad4828>, 'amit': <gensim.models.keyedvectors.Vocab object at 0x7ff5ddad4860>, 'trumps': <gensim.models.keyedvectors.Vocab object at 0x7ff5ddad4898>, 'days': <gensim.models.keyedvectors.Vocab object at 0x7ff5ddad48d0>, 'live': <gensim.models.keyedvectors.Vocab object at 0x7ff5ddad4908>, 'centre': <gensim.models.keyedvectors.Vocab object at 0x7ff5ddad4940>, 'seized': <gensim.models.keyedvectors.Vocab object at 0x7ff5ddad4978>, 'cows': <gensim.models.keyedvectors.Vocab object at 0x7ff5ddad49b0>, 'aap': <gensim.models.keyedvectors.Vocab object at 0x7ff5ddad49e8>, 'election': <gensim.models.keyedvectors.Vocab object at 0x7ff5ddad4a20>, 'akshay': <gensim.models.keyedvectors.Vocab object at 0x7ff5ddad4a58>, 'top': <gensim.models.keyedvectors.Vocab object at 0x7ff5ddad4a90>, 'power': <gensim.models.keyedvectors.Vocab object at 0x7ff5ddad4ac8>, 'muslims': <gensim.models.keyedvectors.Vocab object at 0x7ff5ddad4b00>, 'highest': <gensim.models.keyedvectors.Vocab object at 0x7ff5ddad4b38>, 'sale': <gensim.models.keyedvectors.Vocab object at 0x7ff5ddad4b70>, 'corruption': <gensim.models.keyedvectors.Vocab object at 0x7ff5ddad4ba8>, 'films': <gensim.models.keyedvectors.Vocab object at 0x7ff5ddad4be0>, 'death': <gensim.models.keyedvectors.Vocab object at 0x7ff5ddad4c18>, 'mark': <gensim.models.keyedvectors.Vocab object at 0x7ff5ddad4c50>, 'wife': <gensim.models.keyedvectors.Vocab object at 0x7ff5ddad4c88>, 'twitter': <gensim.models.keyedvectors.Vocab object at 0x7ff5ddad4cc0>, 'shahid': <gensim.models.keyedvectors.Vocab object at 0x7ff5ddad4cf8>, 'action': <gensim.models.keyedvectors.Vocab object at 0x7ff5ddad4d30>, 'officials': <gensim.models.keyedvectors.Vocab object at 0x7ff5ddad4d68>, 'raj': <gensim.models.keyedvectors.Vocab object at 0x7ff5ddad4da0>, 'injured': <gensim.models.keyedvectors.Vocab object at 0x7ff5ddad4dd8>, 'system': <gensim.models.keyedvectors.Vocab object at 0x7ff5ddad4e10>, 'haasan': <gensim.models.keyedvectors.Vocab object at 0x7ff5ddad4e48>, 'office': <gensim.models.keyedvectors.Vocab object at 0x7ff5ddad4e80>, 'rules': <gensim.models.keyedvectors.Vocab object at 0x7ff5ddad4eb8>, 'road': <gensim.models.keyedvectors.Vocab object at 0x7ff5ddad4ef0>, 'assam': <gensim.models.keyedvectors.Vocab object at 0x7ff5ddad4f28>, 'husband': <gensim.models.keyedvectors.Vocab object at 0x7ff5ddad4f60>, 'daughter': <gensim.models.keyedvectors.Vocab object at 0x7ff5ddad4f98>, 'rss': <gensim.models.keyedvectors.Vocab object at 0x7ff5ddad4fd0>, 'kerala': <gensim.models.keyedvectors.Vocab object at 0x7ff5ddae3048>, 'win': <gensim.models.keyedvectors.Vocab object at 0x7ff5ddae3080>, 'gold': <gensim.models.keyedvectors.Vocab object at 0x7ff5ddae30b8>, 'vote': <gensim.models.keyedvectors.Vocab object at 0x7ff5ddae30f0>, 'players': <gensim.models.keyedvectors.Vocab object at 0x7ff5ddae3128>, 'london': <gensim.models.keyedvectors.Vocab object at 0x7ff5ddae3160>, 'test': <gensim.models.keyedvectors.Vocab object at 0x7ff5ddae3198>, 'match': <gensim.models.keyedvectors.Vocab object at 0x7ff5ddae31d0>, 'list': <gensim.models.keyedvectors.Vocab object at 0x7ff5ddae3208>, 'gst': <gensim.models.keyedvectors.Vocab object at 0x7ff5ddae3240>, 'liquor': <gensim.models.keyedvectors.Vocab object at 0x7ff5ddae3278>, 'drug': <gensim.models.keyedvectors.Vocab object at 0x7ff5ddae32b0>, 'car': <gensim.models.keyedvectors.Vocab object at 0x7ff5ddae32e8>, 'jail': <gensim.models.keyedvectors.Vocab object at 0x7ff5ddae3320>, 'akhilesh': <gensim.models.keyedvectors.Vocab object at 0x7ff5ddae3358>, 'mulayam': <gensim.models.keyedvectors.Vocab object at 0x7ff5ddae3390>, 'singh': <gensim.models.keyedvectors.Vocab object at 0x7ff5ddae33c8>, 'among': <gensim.models.keyedvectors.Vocab object at 0x7ff5ddae3400>, 'cbi': <gensim.models.keyedvectors.Vocab object at 0x7ff5ddae3438>, 'men': <gensim.models.keyedvectors.Vocab object at 0x7ff5ddae3470>, 'world': <gensim.models.keyedvectors.Vocab object at 0x7ff5ddae34a8>, 'head': <gensim.models.keyedvectors.Vocab object at 0x7ff5ddae34e0>, 'set': <gensim.models.keyedvectors.Vocab object at 0x7ff5ddae3518>, 'assembly': <gensim.models.keyedvectors.Vocab object at 0x7ff5ddae3550>, 'trying': <gensim.models.keyedvectors.Vocab object at 0x7ff5ddae3588>, 'lead': <gensim.models.keyedvectors.Vocab object at 0x7ff5ddae35c0>, 'role': <gensim.models.keyedvectors.Vocab object at 0x7ff5ddae35f8>, 'muslim': <gensim.models.keyedvectors.Vocab object at 0x7ff5ddae3630>, 'ram': <gensim.models.keyedvectors.Vocab object at 0x7ff5ddae3668>, 'help': <gensim.models.keyedvectors.Vocab object at 0x7ff5ddae36a0>, 'strike': <gensim.models.keyedvectors.Vocab object at 0x7ff5ddae36d8>, 'wins': <gensim.models.keyedvectors.Vocab object at 0x7ff5ddae3710>, 'aus': <gensim.models.keyedvectors.Vocab object at 0x7ff5ddae3748>, 'sports': <gensim.models.keyedvectors.Vocab object at 0x7ff5ddae3780>, 'numbreplcr': <gensim.models.keyedvectors.Vocab object at 0x7ff5ddae37b8>, 'worlds': <gensim.models.keyedvectors.Vocab object at 0x7ff5ddae37f0>, 'pic': <gensim.models.keyedvectors.Vocab object at 0x7ff5ddae3828>, 'hindu': <gensim.models.keyedvectors.Vocab object at 0x7ff5ddae3860>, 'crpf': <gensim.models.keyedvectors.Vocab object at 0x7ff5ddae3898>, 'officer': <gensim.models.keyedvectors.Vocab object at 0x7ff5ddae38d0>, 'offers': <gensim.models.keyedvectors.Vocab object at 0x7ff5ddae3908>, 'years': <gensim.models.keyedvectors.Vocab object at 0x7ff5ddae3940>, 'can': <gensim.models.keyedvectors.Vocab object at 0x7ff5ddae3978>, 'virat': <gensim.models.keyedvectors.Vocab object at 0x7ff5ddae39b0>, 'bcci': <gensim.models.keyedvectors.Vocab object at 0x7ff5ddae39e8>, 'issue': <gensim.models.keyedvectors.Vocab object at 0x7ff5ddae3a20>, 'want': <gensim.models.keyedvectors.Vocab object at 0x7ff5ddae3a58>, 'tiger': <gensim.models.keyedvectors.Vocab object at 0x7ff5ddae3a90>, 'even': <gensim.models.keyedvectors.Vocab object at 0x7ff5ddae3ac8>, 'rajasthan': <gensim.models.keyedvectors.Vocab object at 0x7ff5ddae3b00>, 'former': <gensim.models.keyedvectors.Vocab object at 0x7ff5ddae3b38>, 'special': <gensim.models.keyedvectors.Vocab object at 0x7ff5ddae3b70>, 'status': <gensim.models.keyedvectors.Vocab object at 0x7ff5ddae3ba8>, 'officers': <gensim.models.keyedvectors.Vocab object at 0x7ff5ddae3be0>, 'loss': <gensim.models.keyedvectors.Vocab object at 0x7ff5ddae3c18>, 'yadav': <gensim.models.keyedvectors.Vocab object at 0x7ff5ddae3c50>, 'working': <gensim.models.keyedvectors.Vocab object at 0x7ff5ddae3c88>, 'mother': <gensim.models.keyedvectors.Vocab object at 0x7ff5ddae3cc0>, 'jnu': <gensim.models.keyedvectors.Vocab object at 0x7ff5ddae3cf8>, 'threat': <gensim.models.keyedvectors.Vocab object at 0x7ff5ddae3d30>, 'water': <gensim.models.keyedvectors.Vocab object at 0x7ff5ddae3d68>, 'park': <gensim.models.keyedvectors.Vocab object at 0x7ff5ddae3da0>, 'fight': <gensim.models.keyedvectors.Vocab object at 0x7ff5ddae3dd8>, 'falls': <gensim.models.keyedvectors.Vocab object at 0x7ff5ddae3e10>, 'issues': <gensim.models.keyedvectors.Vocab object at 0x7ff5ddae3e48>, 'shot': <gensim.models.keyedvectors.Vocab object at 0x7ff5ddae3e80>, 'sena': <gensim.models.keyedvectors.Vocab object at 0x7ff5ddae3eb8>, 'cash': <gensim.models.keyedvectors.Vocab object at 0x7ff5ddae3ef0>, 'pics': <gensim.models.keyedvectors.Vocab object at 0x7ff5ddae3f28>, 'complaint': <gensim.models.keyedvectors.Vocab object at 0x7ff5ddae3f60>, 'traffic': <gensim.models.keyedvectors.Vocab object at 0x7ff5ddae3f98>, 'rahul': <gensim.models.keyedvectors.Vocab object at 0x7ff5ddae3fd0>, 'cases': <gensim.models.keyedvectors.Vocab object at 0x7ff5ddae6048>, 'app': <gensim.models.keyedvectors.Vocab object at 0x7ff5ddae6080>, 'slammed': <gensim.models.keyedvectors.Vocab object at 0x7ff5ddae60b8>, 'numbreplth': <gensim.models.keyedvectors.Vocab object at 0x7ff5ddae60f0>, 'plan': <gensim.models.keyedvectors.Vocab object at 0x7ff5ddae6128>, 'gandhi': <gensim.models.keyedvectors.Vocab object at 0x7ff5ddae6160>, 'back': <gensim.models.keyedvectors.Vocab object at 0x7ff5ddae6198>, 'loan': <gensim.models.keyedvectors.Vocab object at 0x7ff5ddae61d0>, 'mobile': <gensim.models.keyedvectors.Vocab object at 0x7ff5ddae6208>, 'new': <gensim.models.keyedvectors.Vocab object at 0x7ff5ddae6240>, 'city': <gensim.models.keyedvectors.Vocab object at 0x7ff5ddae6278>, 'theatres': <gensim.models.keyedvectors.Vocab object at 0x7ff5ddae62b0>, 'sells': <gensim.models.keyedvectors.Vocab object at 0x7ff5ddae62e8>, 'seen': <gensim.models.keyedvectors.Vocab object at 0x7ff5ddae6320>, 'together': <gensim.models.keyedvectors.Vocab object at 0x7ff5ddae6358>, 'upcoming': <gensim.models.keyedvectors.Vocab object at 0x7ff5ddae6390>, 'row': <gensim.models.keyedvectors.Vocab object at 0x7ff5ddae63c8>, 'red': <gensim.models.keyedvectors.Vocab object at 0x7ff5ddae6400>, 'hit': <gensim.models.keyedvectors.Vocab object at 0x7ff5ddae6438>, 'love': <gensim.models.keyedvectors.Vocab object at 0x7ff5ddae6470>, 'security': <gensim.models.keyedvectors.Vocab object at 0x7ff5ddae64a8>, 'old': <gensim.models.keyedvectors.Vocab object at 0x7ff5ddae64e0>, 'driver': <gensim.models.keyedvectors.Vocab object at 0x7ff5ddae6518>, 'without': <gensim.models.keyedvectors.Vocab object at 0x7ff5ddae6550>, 'anil': <gensim.models.keyedvectors.Vocab object at 0x7ff5ddae6588>, 'rejects': <gensim.models.keyedvectors.Vocab object at 0x7ff5ddae65c0>, 'best': <gensim.models.keyedvectors.Vocab object at 0x7ff5ddae65f8>, 'tweet': <gensim.models.keyedvectors.Vocab object at 0x7ff5ddae6630>, 'player': <gensim.models.keyedvectors.Vocab object at 0x7ff5ddae6668>, 'tells': <gensim.models.keyedvectors.Vocab object at 0x7ff5ddae66a0>, 'bag': <gensim.models.keyedvectors.Vocab object at 0x7ff5ddae66d8>, 'last': <gensim.models.keyedvectors.Vocab object at 0x7ff5ddae6710>, 'join': <gensim.models.keyedvectors.Vocab object at 0x7ff5ddae6748>, 'kolkata': <gensim.models.keyedvectors.Vocab object at 0x7ff5ddae6780>, 'install': <gensim.models.keyedvectors.Vocab object at 0x7ff5ddae67b8>, 'isis': <gensim.models.keyedvectors.Vocab object at 0x7ff5ddae67f0>, 'australia': <gensim.models.keyedvectors.Vocab object at 0x7ff5ddae6828>, 'swaraj': <gensim.models.keyedvectors.Vocab object at 0x7ff5ddae6860>, 'south': <gensim.models.keyedvectors.Vocab object at 0x7ff5ddae6898>, 'second': <gensim.models.keyedvectors.Vocab object at 0x7ff5ddae68d0>, 'wants': <gensim.models.keyedvectors.Vocab object at 0x7ff5ddae6908>, 'hours': <gensim.models.keyedvectors.Vocab object at 0x7ff5ddae6940>, 'plans': <gensim.models.keyedvectors.Vocab object at 0x7ff5ddae6978>, 'numbreplyearold': <gensim.models.keyedvectors.Vocab object at 0x7ff5ddae69b0>, 'cms': <gensim.models.keyedvectors.Vocab object at 0x7ff5ddae69e8>, 'accounts': <gensim.models.keyedvectors.Vocab object at 0x7ff5ddae6a20>, 'warns': <gensim.models.keyedvectors.Vocab object at 0x7ff5ddae6a58>, 'visit': <gensim.models.keyedvectors.Vocab object at 0x7ff5ddae6a90>, 'dutt': <gensim.models.keyedvectors.Vocab object at 0x7ff5ddae6ac8>, 'reveals': <gensim.models.keyedvectors.Vocab object at 0x7ff5ddae6b00>, 'hindi': <gensim.models.keyedvectors.Vocab object at 0x7ff5ddae6b38>, 'right': <gensim.models.keyedvectors.Vocab object at 0x7ff5ddae6b70>, 'kejriwal': <gensim.models.keyedvectors.Vocab object at 0x7ff5ddae6ba8>, 'fined': <gensim.models.keyedvectors.Vocab object at 0x7ff5ddae6be0>, 'use': <gensim.models.keyedvectors.Vocab object at 0x7ff5ddae6c18>, 'jan': <gensim.models.keyedvectors.Vocab object at 0x7ff5ddae6c50>, 'notice': <gensim.models.keyedvectors.Vocab object at 0x7ff5ddae6c88>, 'suicide': <gensim.models.keyedvectors.Vocab object at 0x7ff5ddae6cc0>, 'pms': <gensim.models.keyedvectors.Vocab object at 0x7ff5ddae6cf8>, 'posts': <gensim.models.keyedvectors.Vocab object at 0x7ff5ddae6d30>, 'takes': <gensim.models.keyedvectors.Vocab object at 0x7ff5ddae6d68>, 'video': <gensim.models.keyedvectors.Vocab object at 0x7ff5ddae6da0>, 'schools': <gensim.models.keyedvectors.Vocab object at 0x7ff5ddae6dd8>, 'shiv': <gensim.models.keyedvectors.Vocab object at 0x7ff5ddae6e10>, 'approves': <gensim.models.keyedvectors.Vocab object at 0x7ff5ddae6e48>, 'demands': <gensim.models.keyedvectors.Vocab object at 0x7ff5ddae6e80>, 'resignation': <gensim.models.keyedvectors.Vocab object at 0x7ff5ddae6eb8>, 'near': <gensim.models.keyedvectors.Vocab object at 0x7ff5ddae6ef0>, 'biggest': <gensim.models.keyedvectors.Vocab object at 0x7ff5ddae6f28>, 'open': <gensim.models.keyedvectors.Vocab object at 0x7ff5ddae6f60>, 'family': <gensim.models.keyedvectors.Vocab object at 0x7ff5ddae6f98>, 'railways': <gensim.models.keyedvectors.Vocab object at 0x7ff5ddae6fd0>, 'aadhaar': <gensim.models.keyedvectors.Vocab object at 0x7ff5ddaeb048>, 'rbi': <gensim.models.keyedvectors.Vocab object at 0x7ff5ddaeb080>, 'notes': <gensim.models.keyedvectors.Vocab object at 0x7ff5ddaeb0b8>, 'announces': <gensim.models.keyedvectors.Vocab object at 0x7ff5ddaeb0f0>, 'kovind': <gensim.models.keyedvectors.Vocab object at 0x7ff5ddaeb128>, 'amid': <gensim.models.keyedvectors.Vocab object at 0x7ff5ddaeb160>, 'cricket': <gensim.models.keyedvectors.Vocab object at 0x7ff5ddaeb198>, 'parliament': <gensim.models.keyedvectors.Vocab object at 0x7ff5ddaeb1d0>, 'ministry': <gensim.models.keyedvectors.Vocab object at 0x7ff5ddaeb208>, 'uttar': <gensim.models.keyedvectors.Vocab object at 0x7ff5ddaeb240>, 'pradesh': <gensim.models.keyedvectors.Vocab object at 0x7ff5ddaeb278>, 'part': <gensim.models.keyedvectors.Vocab object at 0x7ff5ddaeb2b0>, 'vijay': <gensim.models.keyedvectors.Vocab object at 0x7ff5ddaeb2e8>, 'sasikala': <gensim.models.keyedvectors.Vocab object at 0x7ff5ddaeb320>, 'aiadmk': <gensim.models.keyedvectors.Vocab object at 0x7ff5ddaeb358>, 'bmc': <gensim.models.keyedvectors.Vocab object at 0x7ff5ddaeb390>, 'cut': <gensim.models.keyedvectors.Vocab object at 0x7ff5ddaeb3c8>, 'hospital': <gensim.models.keyedvectors.Vocab object at 0x7ff5ddaeb400>, 'change': <gensim.models.keyedvectors.Vocab object at 0x7ff5ddaeb438>, 'event': <gensim.models.keyedvectors.Vocab object at 0x7ff5ddaeb470>, 'instead': <gensim.models.keyedvectors.Vocab object at 0x7ff5ddaeb4a8>, 'returns': <gensim.models.keyedvectors.Vocab object at 0x7ff5ddaeb4e0>, 'share': <gensim.models.keyedvectors.Vocab object at 0x7ff5ddaeb518>, 'baahubali': <gensim.models.keyedvectors.Vocab object at 0x7ff5ddaeb550>, 'doctors': <gensim.models.keyedvectors.Vocab object at 0x7ff5ddaeb588>, 'say': <gensim.models.keyedvectors.Vocab object at 0x7ff5ddaeb5c0>, 'becomes': <gensim.models.keyedvectors.Vocab object at 0x7ff5ddaeb5f8>, 'defence': <gensim.models.keyedvectors.Vocab object at 0x7ff5ddaeb630>, 'asked': <gensim.models.keyedvectors.Vocab object at 0x7ff5ddaeb668>, 'west': <gensim.models.keyedvectors.Vocab object at 0x7ff5ddaeb6a0>, 'private': <gensim.models.keyedvectors.Vocab object at 0x7ff5ddaeb6d8>, 'oldest': <gensim.models.keyedvectors.Vocab object at 0x7ff5ddaeb710>, 'money': <gensim.models.keyedvectors.Vocab object at 0x7ff5ddaeb748>, 'launches': <gensim.models.keyedvectors.Vocab object at 0x7ff5ddaeb780>, 'jio': <gensim.models.keyedvectors.Vocab object at 0x7ff5ddaeb7b8>, 'final': <gensim.models.keyedvectors.Vocab object at 0x7ff5ddaeb7f0>, 'petition': <gensim.models.keyedvectors.Vocab object at 0x7ff5ddaeb828>, 'gives': <gensim.models.keyedvectors.Vocab object at 0x7ff5ddaeb860>, 'birth': <gensim.models.keyedvectors.Vocab object at 0x7ff5ddaeb898>, 'pakistan': <gensim.models.keyedvectors.Vocab object at 0x7ff5ddaeb8d0>, 'meet': <gensim.models.keyedvectors.Vocab object at 0x7ff5ddaeb908>, 'become': <gensim.models.keyedvectors.Vocab object at 0x7ff5ddaeb940>, 'return': <gensim.models.keyedvectors.Vocab object at 0x7ff5ddaeb978>, 'come': <gensim.models.keyedvectors.Vocab object at 0x7ff5ddaeb9b0>, 'biopic': <gensim.models.keyedvectors.Vocab object at 0x7ff5ddaeb9e8>, 'three': <gensim.models.keyedvectors.Vocab object at 0x7ff5ddaeba20>, 'missing': <gensim.models.keyedvectors.Vocab object at 0x7ff5ddaeba58>, 'votes': <gensim.models.keyedvectors.Vocab object at 0x7ff5ddaeba90>, 'place': <gensim.models.keyedvectors.Vocab object at 0x7ff5ddaebac8>, 'panel': <gensim.models.keyedvectors.Vocab object at 0x7ff5ddaebb00>, 'died': <gensim.models.keyedvectors.Vocab object at 0x7ff5ddaebb38>, 'think': <gensim.models.keyedvectors.Vocab object at 0x7ff5ddaebb70>, 'wanted': <gensim.models.keyedvectors.Vocab object at 0x7ff5ddaebba8>, 'act': <gensim.models.keyedvectors.Vocab object at 0x7ff5ddaebbe0>, 'fans': <gensim.models.keyedvectors.Vocab object at 0x7ff5ddaebc18>, 'enter': <gensim.models.keyedvectors.Vocab object at 0x7ff5ddaebc50>, 'jawans': <gensim.models.keyedvectors.Vocab object at 0x7ff5ddaebc88>, 'bigger': <gensim.models.keyedvectors.Vocab object at 0x7ff5ddaebcc0>, 'couple': <gensim.models.keyedvectors.Vocab object at 0x7ff5ddaebcf8>, 'name': <gensim.models.keyedvectors.Vocab object at 0x7ff5ddaebd30>, 'run': <gensim.models.keyedvectors.Vocab object at 0x7ff5ddaebd68>, 'every': <gensim.models.keyedvectors.Vocab object at 0x7ff5ddaebda0>, 'father': <gensim.models.keyedvectors.Vocab object at 0x7ff5ddaebdd8>, 'debut': <gensim.models.keyedvectors.Vocab object at 0x7ff5ddaebe10>, 'pilot': <gensim.models.keyedvectors.Vocab object at 0x7ff5ddaebe48>, 'bsf': <gensim.models.keyedvectors.Vocab object at 0x7ff5ddaebe80>, 'whatsapp': <gensim.models.keyedvectors.Vocab object at 0x7ff5ddaebeb8>, 'numbreplk': <gensim.models.keyedvectors.Vocab object at 0x7ff5ddaebef0>, 'cars': <gensim.models.keyedvectors.Vocab object at 0x7ff5ddaebf28>, 'firing': <gensim.models.keyedvectors.Vocab object at 0x7ff5ddaebf60>, 'named': <gensim.models.keyedvectors.Vocab object at 0x7ff5ddaebf98>, 'public': <gensim.models.keyedvectors.Vocab object at 0x7ff5ddaebfd0>, 'indianorigin': <gensim.models.keyedvectors.Vocab object at 0x7ff5ddaed048>, 'cow': <gensim.models.keyedvectors.Vocab object at 0x7ff5ddaed080>, 'sachin': <gensim.models.keyedvectors.Vocab object at 0x7ff5ddaed0b8>, 'coach': <gensim.models.keyedvectors.Vocab object at 0x7ff5ddaed0f0>, 'club': <gensim.models.keyedvectors.Vocab object at 0x7ff5ddaed128>, 'terrorists': <gensim.models.keyedvectors.Vocab object at 0x7ff5ddaed160>, 'leaked': <gensim.models.keyedvectors.Vocab object at 0x7ff5ddaed198>, 'mcd': <gensim.models.keyedvectors.Vocab object at 0x7ff5ddaed1d0>, 'teachers': <gensim.models.keyedvectors.Vocab object at 0x7ff5ddaed208>, 'attacked': <gensim.models.keyedvectors.Vocab object at 0x7ff5ddaed240>, 'filed': <gensim.models.keyedvectors.Vocab object at 0x7ff5ddaed278>, 'national': <gensim.models.keyedvectors.Vocab object at 0x7ff5ddaed2b0>, 'award': <gensim.models.keyedvectors.Vocab object at 0x7ff5ddaed2e8>, 'candidate': <gensim.models.keyedvectors.Vocab object at 0x7ff5ddaed320>, 'freedom': <gensim.models.keyedvectors.Vocab object at 0x7ff5ddaed358>, 'reliance': <gensim.models.keyedvectors.Vocab object at 0x7ff5ddaed390>, 'selling': <gensim.models.keyedvectors.Vocab object at 0x7ff5ddaed3c8>, 'note': <gensim.models.keyedvectors.Vocab object at 0x7ff5ddaed400>, 'others': <gensim.models.keyedvectors.Vocab object at 0x7ff5ddaed438>, 'poll': <gensim.models.keyedvectors.Vocab object at 0x7ff5ddaed470>, 'ganguly': <gensim.models.keyedvectors.Vocab object at 0x7ff5ddaed4a8>, 'hrithik': <gensim.models.keyedvectors.Vocab object at 0x7ff5ddaed4e0>, 'icc': <gensim.models.keyedvectors.Vocab object at 0x7ff5ddaed518>, 'katrina': <gensim.models.keyedvectors.Vocab object at 0x7ff5ddaed550>, 'kapoor': <gensim.models.keyedvectors.Vocab object at 0x7ff5ddaed588>, 'rajinikanth': <gensim.models.keyedvectors.Vocab object at 0x7ff5ddaed5c0>, 'aamir': <gensim.models.keyedvectors.Vocab object at 0x7ff5ddaed5f8>, 'number': <gensim.models.keyedvectors.Vocab object at 0x7ff5ddaed630>, 'triple': <gensim.models.keyedvectors.Vocab object at 0x7ff5ddaed668>, 'model': <gensim.models.keyedvectors.Vocab object at 0x7ff5ddaed6a0>, 'deepika': <gensim.models.keyedvectors.Vocab object at 0x7ff5ddaed6d8>, 'jallikattu': <gensim.models.keyedvectors.Vocab object at 0x7ff5ddaed710>, 'letter': <gensim.models.keyedvectors.Vocab object at 0x7ff5ddaed748>, 'end': <gensim.models.keyedvectors.Vocab object at 0x7ff5ddaed780>, 'manipur': <gensim.models.keyedvectors.Vocab object at 0x7ff5ddaed7b8>, 'chennai': <gensim.models.keyedvectors.Vocab object at 0x7ff5ddaed7f0>, 'jawan': <gensim.models.keyedvectors.Vocab object at 0x7ff5ddaed828>, 'airtel': <gensim.models.keyedvectors.Vocab object at 0x7ff5ddaed860>, 'job': <gensim.models.keyedvectors.Vocab object at 0x7ff5ddaed898>, 'since': <gensim.models.keyedvectors.Vocab object at 0x7ff5ddaed8d0>, 'wimbledon': <gensim.models.keyedvectors.Vocab object at 0x7ff5ddaed908>, 'yogi': <gensim.models.keyedvectors.Vocab object at 0x7ff5ddaed940>, 'adityanath': <gensim.models.keyedvectors.Vocab object at 0x7ff5ddaed978>}\n"
     ]
    }
   ],
   "source": [
    "print(model_ft.wv.vocab)   # list of words in dictionary\n"
   ]
  },
  {
   "cell_type": "markdown",
   "metadata": {
    "colab_type": "text",
    "id": "2EECmW8jc3bX"
   },
   "source": [
    "We test an out of vocabulary word. Unlike earlier there is a word vector provided because of \"fast text\" n-grams logic "
   ]
  },
  {
   "cell_type": "code",
   "execution_count": 27,
   "metadata": {
    "colab": {
     "base_uri": "https://localhost:8080/",
     "height": 530
    },
    "colab_type": "code",
    "executionInfo": {
     "elapsed": 1045,
     "status": "ok",
     "timestamp": 1597809806980,
     "user": {
      "displayName": "Mathangi Sri",
      "photoUrl": "https://lh3.googleusercontent.com/a-/AOh14Gh0ldbF3y4-3F3Sow0eR6EEpQIkBrzVD03GQlAQlg=s64",
      "userId": "02610637757489513110"
     },
     "user_tz": -330
    },
    "id": "CmeMBRcl6QKz",
    "outputId": "a2694bbb-6f07-46ce-f089-52dbaa685731"
   },
   "outputs": [
    {
     "name": "stdout",
     "output_type": "stream",
     "text": [
      "False\n"
     ]
    },
    {
     "name": "stderr",
     "output_type": "stream",
     "text": [
      "/usr/local/lib/python3.6/dist-packages/ipykernel_launcher.py:2: DeprecationWarning: Call to deprecated `__getitem__` (Method will be removed in 4.0.0, use self.wv.__getitem__() instead).\n",
      "  \n"
     ]
    },
    {
     "data": {
      "text/plain": [
       "array([-4.1486531e-01, -2.5789216e-01,  3.4350243e-01, -2.3928504e-01,\n",
       "        1.4261907e-01,  5.6011325e-01, -2.4807902e-02, -1.8245694e-01,\n",
       "        4.1095342e-02,  4.2312241e-01,  5.0690796e-02,  6.7387927e-01,\n",
       "       -4.3783885e-01,  3.4516763e-02,  8.4873132e-02,  2.7353689e-01,\n",
       "       -1.0073330e+00, -1.4384724e-01,  6.2248522e-01, -2.8178346e-01,\n",
       "       -1.7427523e-01, -6.2907404e-01,  3.0742498e-02,  1.4868927e-01,\n",
       "       -5.2438319e-01,  6.1059934e-01,  1.3458890e-01, -5.3849173e-01,\n",
       "        1.1654196e-01, -1.8144158e-01, -4.6565360e-01,  3.4537533e-01,\n",
       "       -4.5373538e-01, -5.4092699e-01,  4.6502265e-01,  2.5856513e-01,\n",
       "       -4.5956773e-01,  2.5455939e-02,  2.1746261e-02,  1.6322225e-01,\n",
       "        1.2891193e-02,  4.5961207e-01, -3.6925638e-01, -6.2095106e-01,\n",
       "       -2.8730270e-01,  4.6954539e-01,  5.2485406e-01, -1.6333321e-01,\n",
       "       -3.8108230e-01,  5.9174895e-01,  2.3605470e-01,  6.9409323e-01,\n",
       "       -9.8086916e-02,  7.6792854e-01,  3.3083907e-01,  5.2006286e-01,\n",
       "        3.2733518e-01, -1.5257356e-01,  1.0228157e-01, -1.4272685e+00,\n",
       "        4.4119391e-01, -1.3349739e-01,  7.1302399e-02,  7.1119028e-04,\n",
       "       -1.4084187e-01, -1.4165749e-01, -4.6616322e-01, -1.5381692e-01,\n",
       "       -1.0238367e+00, -2.2424246e-01,  3.4394119e-02,  2.0348190e-01,\n",
       "       -8.3311379e-02, -1.1424962e-01,  9.9152583e-04, -8.1932741e-01,\n",
       "       -2.1406980e-01, -2.7481672e-01,  8.6964272e-02,  2.2830141e-01,\n",
       "        1.6759166e-01,  3.9939335e-01, -2.6943392e-01, -9.9068791e-02,\n",
       "        5.7917673e-02, -3.3559421e-01,  5.7074524e-02, -3.1622699e-01,\n",
       "       -5.2644259e-01, -2.5770867e-01, -6.0906744e-01, -6.4110333e-01,\n",
       "       -7.9866028e-01, -1.0246872e+00, -2.1671204e-01, -3.8438851e-01,\n",
       "       -4.3785725e-02, -1.6732788e-02,  3.4545556e-01, -2.9855114e-01],\n",
       "      dtype=float32)"
      ]
     },
     "execution_count": 27,
     "metadata": {
      "tags": []
     },
     "output_type": "execute_result"
    }
   ],
   "source": [
    "print ('administration' in model_ft.wv.vocab)\n",
    "model_ft[\"administration\"]"
   ]
  },
  {
   "cell_type": "markdown",
   "metadata": {
    "colab_type": "text",
    "id": "VLyQ3AzJc3bd"
   },
   "source": [
    "Finding most similar for out of vocabulary word"
   ]
  },
  {
   "cell_type": "code",
   "execution_count": 28,
   "metadata": {
    "colab": {
     "base_uri": "https://localhost:8080/",
     "height": 275
    },
    "colab_type": "code",
    "executionInfo": {
     "elapsed": 967,
     "status": "ok",
     "timestamp": 1597809812113,
     "user": {
      "displayName": "Mathangi Sri",
      "photoUrl": "https://lh3.googleusercontent.com/a-/AOh14Gh0ldbF3y4-3F3Sow0eR6EEpQIkBrzVD03GQlAQlg=s64",
      "userId": "02610637757489513110"
     },
     "user_tz": -330
    },
    "id": "37vSuT-f6jOb",
    "outputId": "ee2302d2-2144-481b-9c6d-13ea2e79e6c4"
   },
   "outputs": [
    {
     "name": "stderr",
     "output_type": "stream",
     "text": [
      "/usr/local/lib/python3.6/dist-packages/ipykernel_launcher.py:1: DeprecationWarning: Call to deprecated `most_similar` (Method will be removed in 4.0.0, use self.wv.most_similar() instead).\n",
      "  \"\"\"Entry point for launching an IPython kernel.\n",
      "/usr/local/lib/python3.6/dist-packages/gensim/matutils.py:737: FutureWarning: Conversion of the second argument of issubdtype from `int` to `np.signedinteger` is deprecated. In future, it will be treated as `np.int64 == np.dtype(int).type`.\n",
      "  if np.issubdtype(vec.dtype, np.int):\n"
     ]
    },
    {
     "data": {
      "text/plain": [
       "[('ministry', 0.8346989154815674),\n",
       " ('ministers', 0.6878262162208557),\n",
       " ('minister', 0.6578146815299988),\n",
       " ('resignation', 0.6402623653411865),\n",
       " ('min', 0.631399393081665),\n",
       " ('station', 0.6125809550285339),\n",
       " ('politics', 0.605400800704956),\n",
       " ('stations', 0.5941411256790161),\n",
       " ('union', 0.5542712211608887),\n",
       " ('railway', 0.5237174034118652)]"
      ]
     },
     "execution_count": 28,
     "metadata": {
      "tags": []
     },
     "output_type": "execute_result"
    }
   ],
   "source": [
    "model_ft.most_similar('administration')"
   ]
  }
 ],
 "metadata": {
  "colab": {
   "collapsed_sections": [],
   "name": "3_News_corpus_other_libraries_collab.ipynb",
   "provenance": [],
   "toc_visible": true
  },
  "kernelspec": {
   "display_name": "Python [conda env:Anaconda2-py36]",
   "language": "python",
   "name": "conda-env-Anaconda2-py36-py"
  },
  "language_info": {
   "codemirror_mode": {
    "name": "ipython",
    "version": 3
   },
   "file_extension": ".py",
   "mimetype": "text/x-python",
   "name": "python",
   "nbconvert_exporter": "python",
   "pygments_lexer": "ipython3",
   "version": "3.6.8"
  }
 },
 "nbformat": 4,
 "nbformat_minor": 1
}
