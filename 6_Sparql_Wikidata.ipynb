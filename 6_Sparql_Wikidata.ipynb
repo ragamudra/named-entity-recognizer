{
 "cells": [
  {
   "cell_type": "markdown",
   "metadata": {},
   "source": [
    "# Code 4-64 to Code 4-66"
   ]
  },
  {
   "cell_type": "markdown",
   "metadata": {},
   "source": [
    "Codes here are to create negative lists. We execute this is Wikidata Sparql and save the files seperately"
   ]
  },
  {
   "cell_type": "markdown",
   "metadata": {},
   "source": [
    "This has to be run in https://query.wikidata.org/\n"
   ]
  },
  {
   "cell_type": "code",
   "execution_count": null,
   "metadata": {},
   "outputs": [],
   "source": [
    "#Celebrities of India : Famous personalities of India\n",
    "\n",
    "SELECT ?item ?itemLabel WHERE {\n",
    "  ?item wdt:P31 wd:Q5;\n",
    "        wdt:P27 wd:Q668;\n",
    "  \n",
    "  SERVICE wikibase:label { bd:serviceParam wikibase:language \"en\". }\n",
    "}"
   ]
  },
  {
   "cell_type": "code",
   "execution_count": null,
   "metadata": {},
   "outputs": [],
   "source": [
    "#For getting state city, towns, states\n",
    "\n",
    "SELECT ?city ?cityLabel ?state WHERE {\n",
    "  \n",
    "  {?city (wdt:P31/(wdt:P279*)) wd:Q3957}\n",
    "  UNION\n",
    "  {?city (wdt:P31/(wdt:P279*)) wd:Q515}\n",
    "  UNION\n",
    "  {?city (wdt:P31/(wdt:P279*)) wd:Q149621}\n",
    "  UNION\n",
    "  {?city (wdt:P31/(wdt:P279*)) wd:Q13390680 }\n",
    "  \n",
    "\n",
    "   ?city wdt:P17 wd:Q668\n",
    "SERVICE wikibase:label { bd:serviceParam wikibase:language \"[AUTO_LANGUAGE],en\". }\n",
    "}"
   ]
  },
  {
   "cell_type": "code",
   "execution_count": null,
   "metadata": {},
   "outputs": [],
   "source": [
    "#For getting positions of importance in india\n",
    "\n",
    "\n",
    "\n",
    "SELECT ?postion ?positionLabel   WHERE {\n",
    "  \n",
    "  {?position (wdt:P31/(wdt:P279*)) wd:Q4164871;\n",
    "            wdt:P1001 ?juris.\n",
    "            ?juris wdt:P31 wd:Q13390680.}\n",
    "  \n",
    "  UNION\n",
    "  \n",
    "  {\n",
    "    ?position wdt:P31 wd:Q294414.\n",
    "    ?position wdt:P17 wd:Q668.}\n",
    "        \n",
    "\n",
    "  UNION\n",
    "  \n",
    "  {\n",
    "     ?position wdt:P31 wd:Q4164871.\n",
    "    ?position wdt:P17 wd:Q668.\n",
    "    }\n",
    "\n",
    "  \n",
    "  SERVICE wikibase:label { bd:serviceParam wikibase:language \"[AUTO_LANGUAGE],en\". }\n",
    "}\n",
    "\n",
    "\n"
   ]
  },
  {
   "cell_type": "markdown",
   "metadata": {},
   "source": [
    "\n",
    "Files are saved in \"wikidata\\persons_india.csv\", \"wikidata\\city_state_country.csv\",\n",
    "\"wikidata\\positions_india.csv\"\n"
   ]
  }
 ],
 "metadata": {
  "celltoolbar": "Raw Cell Format",
  "kernelspec": {
   "display_name": "Python [conda env:Anaconda2-py36]",
   "language": "python",
   "name": "conda-env-Anaconda2-py36-py"
  },
  "language_info": {
   "codemirror_mode": {
    "name": "ipython",
    "version": 3
   },
   "file_extension": ".py",
   "mimetype": "text/x-python",
   "name": "python",
   "nbconvert_exporter": "python",
   "pygments_lexer": "ipython3",
   "version": "3.6.8"
  }
 },
 "nbformat": 4,
 "nbformat_minor": 2
}
